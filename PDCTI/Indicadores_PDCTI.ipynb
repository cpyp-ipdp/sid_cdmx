{
 "cells": [
  {
   "cell_type": "markdown",
   "id": "068182fe",
   "metadata": {},
   "source": [
    "### Indicadores para el Programa de Desarrollo Científico, Tecnológico y de Innovación propuestos por SEDECO"
   ]
  },
  {
   "cell_type": "code",
   "execution_count": 2,
   "id": "fb7658c4",
   "metadata": {
    "vscode": {
     "languageId": "r"
    }
   },
   "outputs": [
    {
     "name": "stderr",
     "output_type": "stream",
     "text": [
      "Cargando paquete requerido: pacman\n",
      "\n"
     ]
    }
   ],
   "source": [
    "if(! require('pacman')) install.packages('pacman')\n",
    "pacman::p_load(tidyverse, readxl, janitor, stringr, writexl, foreign, downloader, tools)"
   ]
  },
  {
   "cell_type": "code",
   "execution_count": 3,
   "id": "9112cd56",
   "metadata": {
    "vscode": {
     "languageId": "r"
    }
   },
   "outputs": [],
   "source": [
    "#Consideraciones\n",
    "\n",
    "#Tiempo en línea\n",
    "options(timeout = 8000)\n",
    "\n",
    "#Directorio de trabajo\n",
    "dir.create('Censos Económicos', showWarnings = FALSE)"
   ]
  },
  {
   "cell_type": "markdown",
   "id": "9535461b",
   "metadata": {},
   "source": [
    "Cargar datos de Producto Interno Bruto Estatal\n",
    "\n",
    "Se automatizará la descarga y lectura de datos*"
   ]
  },
  {
   "cell_type": "code",
   "execution_count": 4,
   "id": "eda47e5e",
   "metadata": {
    "vscode": {
     "languageId": "r"
    }
   },
   "outputs": [],
   "source": [
    "dir.create('Producto Interno Bruto Estatal')"
   ]
  },
  {
   "cell_type": "code",
   "execution_count": 5,
   "id": "29f26d19",
   "metadata": {
    "vscode": {
     "languageId": "r"
    }
   },
   "outputs": [
    {
     "name": "stdout",
     "output_type": "stream",
     "text": [
      "\u001b[90m# A tibble: 46 × 22\u001b[39m\n",
      "   concepto    x2003 x2004 x2005 x2006 x2007 x2008 x2009 x2010 x2011 x2012 x2013\n",
      "   \u001b[3m\u001b[90m<chr>\u001b[39m\u001b[23m       \u001b[3m\u001b[90m<chr>\u001b[39m\u001b[23m \u001b[3m\u001b[90m<chr>\u001b[39m\u001b[23m \u001b[3m\u001b[90m<chr>\u001b[39m\u001b[23m \u001b[3m\u001b[90m<chr>\u001b[39m\u001b[23m \u001b[3m\u001b[90m<chr>\u001b[39m\u001b[23m \u001b[3m\u001b[90m<chr>\u001b[39m\u001b[23m \u001b[3m\u001b[90m<chr>\u001b[39m\u001b[23m \u001b[3m\u001b[90m<chr>\u001b[39m\u001b[23m \u001b[3m\u001b[90m<chr>\u001b[39m\u001b[23m \u001b[3m\u001b[90m<chr>\u001b[39m\u001b[23m \u001b[3m\u001b[90m<chr>\u001b[39m\u001b[23m\n",
      "\u001b[90m 1\u001b[39m Millones d… \u001b[31mNA\u001b[39m    \u001b[31mNA\u001b[39m    \u001b[31mNA\u001b[39m    \u001b[31mNA\u001b[39m    \u001b[31mNA\u001b[39m    \u001b[31mNA\u001b[39m    \u001b[31mNA\u001b[39m    \u001b[31mNA\u001b[39m    \u001b[31mNA\u001b[39m    \u001b[31mNA\u001b[39m    \u001b[31mNA\u001b[39m   \n",
      "\u001b[90m 2\u001b[39m ____aB.1bP… 2842… 2962… 2991… 3134… 3142… 3183… 3008… 3125… 3231… 3332… 3363…\n",
      "\u001b[90m 3\u001b[39m D.21-D.31 … 1876… 1959… 2019… 2100… 2054… 2130… 1955… 1888… 1898… 1897… 1898…\n",
      "\u001b[90m 4\u001b[39m ____aB.1bV… \u001b[31mNA\u001b[39m    \u001b[31mNA\u001b[39m    \u001b[31mNA\u001b[39m    \u001b[31mNA\u001b[39m    \u001b[31mNA\u001b[39m    \u001b[31mNA\u001b[39m    \u001b[31mNA\u001b[39m    \u001b[31mNA\u001b[39m    \u001b[31mNA\u001b[39m    \u001b[31mNA\u001b[39m    \u001b[31mNA\u001b[39m   \n",
      "\u001b[90m 5\u001b[39m Actividad … 2655… 2766… 2789… 2924… 2937… 2970… 2813… 2936… 3041… 3142… 3173…\n",
      "\u001b[90m 6\u001b[39m Actividade… 1689… 1646… 1756… 1600… 1521… 1445… 1531… 1524… 1563… 1571… 1402…\n",
      "\u001b[90m 7\u001b[39m 11 - Agric… 1689… 1646… 1756… 1600… 1521… 1445… 1531… 1524… 1563… 1571… 1402…\n",
      "\u001b[90m 8\u001b[39m 111 - Agri… 1340… 1305… 1360… 1406… 1375… 1283… 1366… 1363… 1406… 1424… 1244…\n",
      "\u001b[90m 9\u001b[39m 112 - Cría… 206.… 201.… 167.… 165.… 130.… 157.… 157.… 158.… 154.… 144.… 155.…\n",
      "\u001b[90m10\u001b[39m 114 - Pesc… 0     0     0     0     0     0     0     0     0     0     0    \n",
      "\u001b[90m# ℹ 36 more rows\u001b[39m\n",
      "\u001b[90m# ℹ 10 more variables: x2014 <chr>, x2015 <chr>, x2016 <chr>, x2017 <chr>,\u001b[39m\n",
      "\u001b[90m#   x2018 <chr>, x2019 <chr>, x2020 <chr>, x2021 <chr>, x2022r <chr>,\u001b[39m\n",
      "\u001b[90m#   x2023p <chr>\u001b[39m\n"
     ]
    }
   ],
   "source": [
    "download.file('https://www.inegi.org.mx/contenidos/programas/pibent/2018/tabulados/ori/PIBE_57.xlsx', \n",
    "destfile = 'Producto Interno Bruto Estatal/PIBE_57.xlsx', mode = 'wb')\n",
    "\n",
    "pibe <- read_xlsx('Producto Interno Bruto Estatal/PIBE_57.xlsx', range = 'A5:V511') %>% \n",
    "slice(1:46) %>%\n",
    "clean_names()\n",
    "\n",
    "print(pibe)"
   ]
  },
  {
   "cell_type": "markdown",
   "id": "36501a43",
   "metadata": {},
   "source": [
    "Cargar datos de la ANUIES"
   ]
  },
  {
   "cell_type": "code",
   "execution_count": 6,
   "id": "92bd9872",
   "metadata": {
    "vscode": {
     "languageId": "r"
    }
   },
   "outputs": [],
   "source": [
    "#Definir carpetas\n",
    "base_dir <- 'ANUIES'\n",
    "\n",
    "# Carpetas por año que quieres leer\n",
    "carpetas_anios <- c(\"2018-2019\", \"2019-2020\", \"2020-2021\", \"2021-2022\", \"2022-2023\", \"2023-2024\")"
   ]
  },
  {
   "cell_type": "code",
   "execution_count": null,
   "id": "e4ecd9f7",
   "metadata": {
    "vscode": {
     "languageId": "r"
    }
   },
   "outputs": [],
   "source": [
    "# Obtener el archivo todas_c_... correspondiente dentro de cada carpeta\n",
    "obtener_archivo_tot <- function(carpeta){\n",
    "  ruta_carpeta <- file.path(base_dir, carpeta)\n",
    "  # Buscar archivo que empiece con \"Tot_\" y contenga el año, ejemplo: todas_c_2018_2019.xlsx\n",
    "  patron <- paste0(\"todas_c_\", str_replace_all(carpeta, \"-\", \"_\"))  # ejemplo: \"todas_c_2018_2019\"\n",
    "  \n",
    "  archivos_en_carpeta <- list.files(ruta_carpeta, pattern = paste0(\"^\", patron, \".*\\\\.xls[xm]?$\"), full.names = TRUE)\n",
    "  \n",
    "  if(length(archivos_en_carpeta) == 0){\n",
    "    warning(paste(\"No se encontró archivo para carpeta:\", carpeta))\n",
    "    return(NA_character_)\n",
    "  }\n",
    "  # Retorna el primer archivo que coincida\n",
    "  archivos_en_carpeta[1]\n",
    "}\n",
    "\n",
    "# Obtener la lista de archivos que quieres leer (uno por carpeta)\n",
    "archivos_totales <- map_chr(carpetas_anios, obtener_archivo_tot)\n",
    "\n",
    "# Filtrar archivos existentes (elimina NA)\n",
    "archivos_totales <- archivos_totales[!is.na(archivos_totales)]\n",
    "\n",
    "# Leer cada archivo con el rango que quieres y agregar columna con año\n",
    "lista_anuies <- map2(archivos_totales, carpetas_anios, ~ {\n",
    "  cat(\"Leyendo archivo:\", .x, \"\\n\")\n",
    "  read_excel(.x, range = \"A4:E14\") %>%\n",
    "    mutate(origen = .y)  # Guardar como origen para identificar el año\n",
    "})"
   ]
  },
  {
   "cell_type": "code",
   "execution_count": null,
   "id": "fa0a48da",
   "metadata": {
    "vscode": {
     "languageId": "r"
    }
   },
   "outputs": [],
   "source": [
    "#Para poder hacer cálculos, unimos todas las tablas en una sola\n",
    "anuies <- bind_rows(lista_anuies) %>%\n",
    "clean_names()"
   ]
  },
  {
   "cell_type": "markdown",
   "id": "2c3d9e96",
   "metadata": {},
   "source": [
    "Descargar datos Censos Económicos\n"
   ]
  },
  {
   "cell_type": "code",
   "execution_count": null,
   "id": "7e7446fa",
   "metadata": {
    "vscode": {
     "languageId": "r"
    }
   },
   "outputs": [],
   "source": [
    "\n",
    "leer_ce <- function(anios, carpeta_destino = \"Censos Económicos\") {\n",
    "  # Validar y preparar inputs\n",
    "  urls <- list(\n",
    "    '2004' = 'https://www.inegi.org.mx/contenidos/programas/ce/2019/Datosabiertos/ce2004_cdmx_csv.zip',\n",
    "    '2009' = 'https://www.inegi.org.mx/contenidos/programas/ce/2019/Datosabiertos/ce2009_cdmx_csv.zip',\n",
    "    '2014' = 'https://www.inegi.org.mx/contenidos/programas/ce/2019/Datosabiertos/ce2014_cdmx_csv.zip',\n",
    "    '2019' = 'https://www.inegi.org.mx/contenidos/programas/ce/2019/Datosabiertos/ce2019_cdmx_csv.zip'\n",
    "  )\n",
    "  \n",
    "  anios <- as.character(anios)\n",
    "  \n",
    "  if (!all(anios %in% names(urls))) {\n",
    "    stop(\"Algunos años no son válidos. Usa 2004, 2009, 2014 o 2019\")\n",
    "  }\n",
    "  \n",
    "  if (!dir.exists(carpeta_destino)) {\n",
    "    dir.create(carpeta_destino)\n",
    "  }\n",
    "  \n",
    "  data_list <- list()\n",
    "  \n",
    "  for (anio in anios) {\n",
    "    archivo_zip <- file.path(carpeta_destino, basename(urls[[anio]]))\n",
    "    \n",
    "    # Descargar ZIP si no existe\n",
    "    if (!file.exists(archivo_zip)) {\n",
    "      download.file(urls[[anio]], archivo_zip, mode = \"wb\")\n",
    "    }\n",
    "    \n",
    "    # Construir ruta CSV esperado\n",
    "    nombre_csv <- file.path(carpeta_destino, \"conjunto_de_datos\", paste0(\"ce\", anio, \"_cdmx.csv\"))\n",
    "    \n",
    "    # Descomprimir sólo si el CSV no existe\n",
    "    if (!file.exists(nombre_csv)) {\n",
    "      unzip(archivo_zip, exdir = carpeta_destino)\n",
    "    }\n",
    "    \n",
    "    # Leer y limpiar nombres\n",
    "    censos <- read_csv(nombre_csv, col_types = NULL) %>% clean_names()\n",
    "    \n",
    "    # Guardar en lista con nombre del año\n",
    "    data_list[[anio]] <- censos\n",
    "  }\n",
    "  \n",
    "  return(data_list)\n",
    "}\n"
   ]
  },
  {
   "cell_type": "code",
   "execution_count": null,
   "id": "74cacc67",
   "metadata": {
    "vscode": {
     "languageId": "r"
    }
   },
   "outputs": [
    {
     "ename": "ERROR",
     "evalue": "Error in leer_ce(c(2004, 2009, 2014, 2019)): no se pudo encontrar la función \"leer_ce\"\n",
     "output_type": "error",
     "traceback": [
      "Error in leer_ce(c(2004, 2009, 2014, 2019)): no se pudo encontrar la función \"leer_ce\"\nTraceback:\n"
     ]
    }
   ],
   "source": [
    "lista_censos <- leer_ce(c(2004, 2009, 2014, 2019))"
   ]
  },
  {
   "cell_type": "markdown",
   "id": "4d07898e",
   "metadata": {},
   "source": [
    "### Cálculo de Indicadores"
   ]
  },
  {
   "cell_type": "markdown",
   "id": "559391cc",
   "metadata": {},
   "source": [
    "Participación porcentual del PIB de la Industria Química, Hule y Plástico de la Ciudad de México"
   ]
  },
  {
   "cell_type": "code",
   "execution_count": null,
   "id": "d85f52c1",
   "metadata": {
    "vscode": {
     "languageId": "r"
    }
   },
   "outputs": [
    {
     "name": "stdout",
     "output_type": "stream",
     "text": [
      "tibble [46 × 22] (S3: tbl_df/tbl/data.frame)\n",
      " $ concepto: chr [1:46] \"Millones de pesos a precios de 2018\" \"____aB.1bP - Producto interno bruto\" \"D.21-D.31 - Impuestos sobre los productos, netos\" \"____aB.1bV - Valor agregado bruto\" ...\n",
      " $ x2003   : chr [1:46] NA \"2842788.554\" \"187647.974\" NA ...\n",
      " $ x2004   : chr [1:46] NA \"2962342.214\" \"195962.04\" NA ...\n",
      " $ x2005   : chr [1:46] NA \"2991075.244\" \"201941.301\" NA ...\n",
      " $ x2006   : chr [1:46] NA \"3134225.217\" \"210094.844\" NA ...\n",
      " $ x2007   : chr [1:46] NA \"3142463.801\" \"205403.358\" NA ...\n",
      " $ x2008   : chr [1:46] NA \"3183429.429\" \"213092.81\" NA ...\n",
      " $ x2009   : chr [1:46] NA \"3008811.766\" \"195562.338\" NA ...\n",
      " $ x2010   : chr [1:46] NA \"3125716.691\" \"188857.545\" NA ...\n",
      " $ x2011   : chr [1:46] NA \"3231440.239\" \"189868.058\" NA ...\n",
      " $ x2012   : chr [1:46] NA \"3332208.721\" \"189798.117\" NA ...\n",
      " $ x2013   : chr [1:46] NA \"3363394.325\" \"189832.939\" NA ...\n",
      " $ x2014   : chr [1:46] NA \"3412110.198\" \"189637.641\" NA ...\n",
      " $ x2015   : chr [1:46] NA \"3503520.113\" \"198008.665\" NA ...\n",
      " $ x2016   : chr [1:46] NA \"3571368.188\" \"201693.215\" NA ...\n",
      " $ x2017   : chr [1:46] NA \"3646318.179\" \"207461.033\" NA ...\n",
      " $ x2018   : chr [1:46] NA \"3694574.874\" \"211894.653\" NA ...\n",
      " $ x2019   : chr [1:46] NA \"3679917.346\" \"211141.196\" NA ...\n",
      " $ x2020   : chr [1:46] NA \"3293855.308\" \"181602.12\" NA ...\n",
      " $ x2021   : chr [1:46] NA \"3496055.811\" \"198217.221\" NA ...\n",
      " $ x2022r  : chr [1:46] NA \"3650609.372\" \"216371.471\" NA ...\n",
      " $ x2023p  : chr [1:46] NA \"3806082.926\" \"224741.185\" NA ...\n"
     ]
    }
   ],
   "source": [
    "str(pibe)"
   ]
  },
  {
   "cell_type": "code",
   "execution_count": null,
   "id": "207051c2",
   "metadata": {
    "vscode": {
     "languageId": "r"
    }
   },
   "outputs": [
    {
     "name": "stdout",
     "output_type": "stream",
     "text": [
      "\u001b[90m# A tibble: 21 × 2\u001b[39m\n",
      "   anio       pib\n",
      "   \u001b[3m\u001b[90m<chr>\u001b[39m\u001b[23m    \u001b[3m\u001b[90m<dbl>\u001b[39m\u001b[23m\n",
      "\u001b[90m 1\u001b[39m 2003  2\u001b[4m8\u001b[24m\u001b[4m4\u001b[24m\u001b[4m2\u001b[24m789.\n",
      "\u001b[90m 2\u001b[39m 2004  2\u001b[4m9\u001b[24m\u001b[4m6\u001b[24m\u001b[4m2\u001b[24m342.\n",
      "\u001b[90m 3\u001b[39m 2005  2\u001b[4m9\u001b[24m\u001b[4m9\u001b[24m\u001b[4m1\u001b[24m075.\n",
      "\u001b[90m 4\u001b[39m 2006  3\u001b[4m1\u001b[24m\u001b[4m3\u001b[24m\u001b[4m4\u001b[24m225.\n",
      "\u001b[90m 5\u001b[39m 2007  3\u001b[4m1\u001b[24m\u001b[4m4\u001b[24m\u001b[4m2\u001b[24m464.\n",
      "\u001b[90m 6\u001b[39m 2008  3\u001b[4m1\u001b[24m\u001b[4m8\u001b[24m\u001b[4m3\u001b[24m429.\n",
      "\u001b[90m 7\u001b[39m 2009  3\u001b[4m0\u001b[24m\u001b[4m0\u001b[24m\u001b[4m8\u001b[24m812.\n",
      "\u001b[90m 8\u001b[39m 2010  3\u001b[4m1\u001b[24m\u001b[4m2\u001b[24m\u001b[4m5\u001b[24m717.\n",
      "\u001b[90m 9\u001b[39m 2011  3\u001b[4m2\u001b[24m\u001b[4m3\u001b[24m\u001b[4m1\u001b[24m440.\n",
      "\u001b[90m10\u001b[39m 2012  3\u001b[4m3\u001b[24m\u001b[4m3\u001b[24m\u001b[4m2\u001b[24m209.\n",
      "\u001b[90m# ℹ 11 more rows\u001b[39m\n"
     ]
    }
   ],
   "source": [
    "pib_total <- pibe %>%\n",
    "  filter(str_detect(concepto, regex(\"Producto interno bruto\", ignore_case = TRUE))) %>%\n",
    "  pivot_longer(\n",
    "    cols = starts_with(\"x\"),\n",
    "    names_to = \"anio\",\n",
    "    names_prefix = \"x\",\n",
    "    values_to = \"pib\") %>%\n",
    "  mutate(pib = as.numeric(pib)) %>%\n",
    "  select(-concepto)    \n",
    "\n",
    "\n",
    "print(pib_total)\n"
   ]
  },
  {
   "cell_type": "code",
   "execution_count": null,
   "id": "bb23bdf9",
   "metadata": {
    "vscode": {
     "languageId": "r"
    }
   },
   "outputs": [
    {
     "name": "stdout",
     "output_type": "stream",
     "text": [
      "\u001b[90m# A tibble: 21 × 2\u001b[39m\n",
      "   anio  aporte_quim\n",
      "   \u001b[3m\u001b[90m<chr>\u001b[39m\u001b[23m       \u001b[3m\u001b[90m<dbl>\u001b[39m\u001b[23m\n",
      "\u001b[90m 1\u001b[39m 2003       \u001b[4m8\u001b[24m\u001b[4m2\u001b[24m089.\n",
      "\u001b[90m 2\u001b[39m 2004       \u001b[4m8\u001b[24m\u001b[4m4\u001b[24m524.\n",
      "\u001b[90m 3\u001b[39m 2005       \u001b[4m8\u001b[24m\u001b[4m5\u001b[24m285.\n",
      "\u001b[90m 4\u001b[39m 2006       \u001b[4m8\u001b[24m\u001b[4m7\u001b[24m719.\n",
      "\u001b[90m 5\u001b[39m 2007       \u001b[4m9\u001b[24m\u001b[4m0\u001b[24m640.\n",
      "\u001b[90m 6\u001b[39m 2008       \u001b[4m9\u001b[24m\u001b[4m0\u001b[24m861.\n",
      "\u001b[90m 7\u001b[39m 2009       \u001b[4m8\u001b[24m\u001b[4m3\u001b[24m858.\n",
      "\u001b[90m 8\u001b[39m 2010       \u001b[4m7\u001b[24m\u001b[4m5\u001b[24m936.\n",
      "\u001b[90m 9\u001b[39m 2011       \u001b[4m7\u001b[24m\u001b[4m2\u001b[24m114.\n",
      "\u001b[90m10\u001b[39m 2012       \u001b[4m6\u001b[24m\u001b[4m9\u001b[24m233.\n",
      "\u001b[90m# ℹ 11 more rows\u001b[39m\n"
     ]
    }
   ],
   "source": [
    "quimica <- pibe %>%\n",
    "filter(str_detect(concepto, 'química')) %>%\n",
    "pivot_longer(cols = starts_with(\"x\"),         # Selecciona columnas desde x2003 hasta x2023p\n",
    "    names_to = 'anio',                \n",
    "    values_to = 'aporte_quim',             \n",
    "    names_prefix = 'x') %>%      # quita la x inicial\n",
    "mutate(anio = gsub('^x', '', anio), \n",
    "  aporte_quim = as.numeric(aporte_quim)) %>%  \n",
    "select(-concepto)\n",
    "\n",
    "print(quimica)"
   ]
  },
  {
   "cell_type": "code",
   "execution_count": null,
   "id": "19928f23",
   "metadata": {
    "vscode": {
     "languageId": "r"
    }
   },
   "outputs": [
    {
     "data": {
      "text/html": [
       "<table class=\"dataframe\">\n",
       "<caption>A tibble: 6 × 4</caption>\n",
       "<thead>\n",
       "\t<tr><th scope=col>anio</th><th scope=col>pib</th><th scope=col>aporte_quim</th><th scope=col>pib_quimica</th></tr>\n",
       "\t<tr><th scope=col>&lt;chr&gt;</th><th scope=col>&lt;dbl&gt;</th><th scope=col>&lt;dbl&gt;</th><th scope=col>&lt;dbl&gt;</th></tr>\n",
       "</thead>\n",
       "<tbody>\n",
       "\t<tr><td>2018 </td><td>3694575</td><td>57790.29</td><td>1.564193</td></tr>\n",
       "\t<tr><td>2019 </td><td>3679917</td><td>56326.91</td><td>1.530657</td></tr>\n",
       "\t<tr><td>2020 </td><td>3293855</td><td>54150.02</td><td>1.643971</td></tr>\n",
       "\t<tr><td>2021 </td><td>3496056</td><td>59144.79</td><td>1.691758</td></tr>\n",
       "\t<tr><td>2022r</td><td>3650609</td><td>59039.73</td><td>1.617257</td></tr>\n",
       "\t<tr><td>2023p</td><td>3806083</td><td>56953.39</td><td>1.496378</td></tr>\n",
       "</tbody>\n",
       "</table>\n"
      ],
      "text/latex": [
       "A tibble: 6 × 4\n",
       "\\begin{tabular}{llll}\n",
       " anio & pib & aporte\\_quim & pib\\_quimica\\\\\n",
       " <chr> & <dbl> & <dbl> & <dbl>\\\\\n",
       "\\hline\n",
       "\t 2018  & 3694575 & 57790.29 & 1.564193\\\\\n",
       "\t 2019  & 3679917 & 56326.91 & 1.530657\\\\\n",
       "\t 2020  & 3293855 & 54150.02 & 1.643971\\\\\n",
       "\t 2021  & 3496056 & 59144.79 & 1.691758\\\\\n",
       "\t 2022r & 3650609 & 59039.73 & 1.617257\\\\\n",
       "\t 2023p & 3806083 & 56953.39 & 1.496378\\\\\n",
       "\\end{tabular}\n"
      ],
      "text/markdown": [
       "\n",
       "A tibble: 6 × 4\n",
       "\n",
       "| anio &lt;chr&gt; | pib &lt;dbl&gt; | aporte_quim &lt;dbl&gt; | pib_quimica &lt;dbl&gt; |\n",
       "|---|---|---|---|\n",
       "| 2018  | 3694575 | 57790.29 | 1.564193 |\n",
       "| 2019  | 3679917 | 56326.91 | 1.530657 |\n",
       "| 2020  | 3293855 | 54150.02 | 1.643971 |\n",
       "| 2021  | 3496056 | 59144.79 | 1.691758 |\n",
       "| 2022r | 3650609 | 59039.73 | 1.617257 |\n",
       "| 2023p | 3806083 | 56953.39 | 1.496378 |\n",
       "\n"
      ],
      "text/plain": [
       "  anio  pib     aporte_quim pib_quimica\n",
       "1 2018  3694575 57790.29    1.564193   \n",
       "2 2019  3679917 56326.91    1.530657   \n",
       "3 2020  3293855 54150.02    1.643971   \n",
       "4 2021  3496056 59144.79    1.691758   \n",
       "5 2022r 3650609 59039.73    1.617257   \n",
       "6 2023p 3806083 56953.39    1.496378   "
      ]
     },
     "metadata": {},
     "output_type": "display_data"
    }
   ],
   "source": [
    "pib_quimica <- pib_total %>%\n",
    "right_join(quimica, by = 'anio') %>%\n",
    "mutate(pib_quimica = aporte_quim/pib * 100)\n",
    "\n",
    "tail(pib_quimica)"
   ]
  },
  {
   "cell_type": "markdown",
   "id": "86c44ed3",
   "metadata": {},
   "source": [
    "Participación porcentual del PIB de los Servicios Profesionales, Científicos y Técnicos de la Ciudad de México\n"
   ]
  },
  {
   "cell_type": "code",
   "execution_count": null,
   "id": "fd6d04f6",
   "metadata": {
    "vscode": {
     "languageId": "r"
    }
   },
   "outputs": [
    {
     "name": "stdout",
     "output_type": "stream",
     "text": [
      "\u001b[90m# A tibble: 21 × 2\u001b[39m\n",
      "   anio  aporte_cienti\n",
      "   \u001b[3m\u001b[90m<chr>\u001b[39m\u001b[23m         \u001b[3m\u001b[90m<dbl>\u001b[39m\u001b[23m\n",
      "\u001b[90m 1\u001b[39m 2003        \u001b[4m1\u001b[24m\u001b[4m6\u001b[24m\u001b[4m4\u001b[24m642.\n",
      "\u001b[90m 2\u001b[39m 2004        \u001b[4m1\u001b[24m\u001b[4m6\u001b[24m\u001b[4m7\u001b[24m701.\n",
      "\u001b[90m 3\u001b[39m 2005        \u001b[4m1\u001b[24m\u001b[4m7\u001b[24m\u001b[4m1\u001b[24m250.\n",
      "\u001b[90m 4\u001b[39m 2006        \u001b[4m1\u001b[24m\u001b[4m7\u001b[24m\u001b[4m6\u001b[24m419.\n",
      "\u001b[90m 5\u001b[39m 2007        \u001b[4m1\u001b[24m\u001b[4m7\u001b[24m\u001b[4m9\u001b[24m809.\n",
      "\u001b[90m 6\u001b[39m 2008        \u001b[4m1\u001b[24m\u001b[4m7\u001b[24m\u001b[4m7\u001b[24m666.\n",
      "\u001b[90m 7\u001b[39m 2009        \u001b[4m1\u001b[24m\u001b[4m7\u001b[24m\u001b[4m5\u001b[24m442.\n",
      "\u001b[90m 8\u001b[39m 2010        \u001b[4m1\u001b[24m\u001b[4m7\u001b[24m\u001b[4m7\u001b[24m437.\n",
      "\u001b[90m 9\u001b[39m 2011        \u001b[4m1\u001b[24m\u001b[4m7\u001b[24m\u001b[4m9\u001b[24m657.\n",
      "\u001b[90m10\u001b[39m 2012        \u001b[4m1\u001b[24m\u001b[4m7\u001b[24m\u001b[4m8\u001b[24m935.\n",
      "\u001b[90m# ℹ 11 more rows\u001b[39m\n"
     ]
    }
   ],
   "source": [
    "cientificos <- pibe %>%\n",
    "filter(str_detect(concepto, '54 - Servicios profesionales, científicos y técnicos')) %>%\n",
    "pivot_longer(cols = starts_with(\"x\"),         # Selecciona columnas desde x2003 hasta x2023p\n",
    "    names_to = 'anio',                # Nuevo nombre para la columna de años\n",
    "    values_to = 'aporte_cienti',             # Nuevo nombre para los valores\n",
    "    names_prefix = 'x') %>%      # quita la x inicial\n",
    "mutate(anio = gsub('^x', '', anio), # Elimina la \"x\" inicial para que año quede limpio\n",
    "  aporte_cienti = as.numeric(aporte_cienti)) %>%  \n",
    "select(-concepto)\n",
    "\n",
    "print(cientificos)"
   ]
  },
  {
   "cell_type": "code",
   "execution_count": null,
   "id": "cf6cc060",
   "metadata": {
    "vscode": {
     "languageId": "r"
    }
   },
   "outputs": [
    {
     "data": {
      "text/html": [
       "<table class=\"dataframe\">\n",
       "<caption>A tibble: 6 × 4</caption>\n",
       "<thead>\n",
       "\t<tr><th scope=col>anio</th><th scope=col>pib</th><th scope=col>aporte_cienti</th><th scope=col>pib_ciencia</th></tr>\n",
       "\t<tr><th scope=col>&lt;chr&gt;</th><th scope=col>&lt;dbl&gt;</th><th scope=col>&lt;dbl&gt;</th><th scope=col>&lt;dbl&gt;</th></tr>\n",
       "</thead>\n",
       "<tbody>\n",
       "\t<tr><td>2018 </td><td>3694575</td><td>189600.1</td><td>5.131851</td></tr>\n",
       "\t<tr><td>2019 </td><td>3679917</td><td>193165.1</td><td>5.249169</td></tr>\n",
       "\t<tr><td>2020 </td><td>3293855</td><td>174481.3</td><td>5.297176</td></tr>\n",
       "\t<tr><td>2021 </td><td>3496056</td><td>179685.5</td><td>5.139663</td></tr>\n",
       "\t<tr><td>2022r</td><td>3650609</td><td>203447.8</td><td>5.572981</td></tr>\n",
       "\t<tr><td>2023p</td><td>3806083</td><td>215707.0</td><td>5.667428</td></tr>\n",
       "</tbody>\n",
       "</table>\n"
      ],
      "text/latex": [
       "A tibble: 6 × 4\n",
       "\\begin{tabular}{llll}\n",
       " anio & pib & aporte\\_cienti & pib\\_ciencia\\\\\n",
       " <chr> & <dbl> & <dbl> & <dbl>\\\\\n",
       "\\hline\n",
       "\t 2018  & 3694575 & 189600.1 & 5.131851\\\\\n",
       "\t 2019  & 3679917 & 193165.1 & 5.249169\\\\\n",
       "\t 2020  & 3293855 & 174481.3 & 5.297176\\\\\n",
       "\t 2021  & 3496056 & 179685.5 & 5.139663\\\\\n",
       "\t 2022r & 3650609 & 203447.8 & 5.572981\\\\\n",
       "\t 2023p & 3806083 & 215707.0 & 5.667428\\\\\n",
       "\\end{tabular}\n"
      ],
      "text/markdown": [
       "\n",
       "A tibble: 6 × 4\n",
       "\n",
       "| anio &lt;chr&gt; | pib &lt;dbl&gt; | aporte_cienti &lt;dbl&gt; | pib_ciencia &lt;dbl&gt; |\n",
       "|---|---|---|---|\n",
       "| 2018  | 3694575 | 189600.1 | 5.131851 |\n",
       "| 2019  | 3679917 | 193165.1 | 5.249169 |\n",
       "| 2020  | 3293855 | 174481.3 | 5.297176 |\n",
       "| 2021  | 3496056 | 179685.5 | 5.139663 |\n",
       "| 2022r | 3650609 | 203447.8 | 5.572981 |\n",
       "| 2023p | 3806083 | 215707.0 | 5.667428 |\n",
       "\n"
      ],
      "text/plain": [
       "  anio  pib     aporte_cienti pib_ciencia\n",
       "1 2018  3694575 189600.1      5.131851   \n",
       "2 2019  3679917 193165.1      5.249169   \n",
       "3 2020  3293855 174481.3      5.297176   \n",
       "4 2021  3496056 179685.5      5.139663   \n",
       "5 2022r 3650609 203447.8      5.572981   \n",
       "6 2023p 3806083 215707.0      5.667428   "
      ]
     },
     "metadata": {},
     "output_type": "display_data"
    }
   ],
   "source": [
    "pib_ciencia <- pib_total %>%\n",
    "right_join(cientificos, by = 'anio') %>%\n",
    "mutate(pib_ciencia = aporte_cienti/pib * 100)\n",
    "\n",
    "tail(pib_ciencia)"
   ]
  },
  {
   "cell_type": "markdown",
   "id": "82f3d2b8",
   "metadata": {},
   "source": [
    "Inversión total en los servicios profesionales, científicos y técnicos"
   ]
  },
  {
   "cell_type": "code",
   "execution_count": null,
   "id": "bda9fd33",
   "metadata": {
    "vscode": {
     "languageId": "r"
    }
   },
   "outputs": [
    {
     "name": "stderr",
     "output_type": "stream",
     "text": [
      "Warning message:\n",
      "\"\u001b[1m\u001b[22mThere was 1 warning in `mutate()`.\n",
      "\u001b[1m\u001b[22m\u001b[36mℹ\u001b[39m In argument: `codigo = as.numeric(codigo)`.\n",
      "Caused by warning:\n",
      "\u001b[33m!\u001b[39m NAs introducidos por coerción\"\n",
      "Warning message:\n",
      "\"\u001b[1m\u001b[22mThere was 1 warning in `mutate()`.\n",
      "\u001b[1m\u001b[22m\u001b[36mℹ\u001b[39m In argument: `codigo = as.numeric(codigo)`.\n",
      "Caused by warning:\n",
      "\u001b[33m!\u001b[39m NAs introducidos por coerción\"\n",
      "Warning message:\n",
      "\"\u001b[1m\u001b[22mThere was 1 warning in `mutate()`.\n",
      "\u001b[1m\u001b[22m\u001b[36mℹ\u001b[39m In argument: `codigo = as.numeric(codigo)`.\n",
      "Caused by warning:\n",
      "\u001b[33m!\u001b[39m NAs introducidos por coerción\"\n",
      "Warning message:\n",
      "\"\u001b[1m\u001b[22mThere was 1 warning in `mutate()`.\n",
      "\u001b[1m\u001b[22m\u001b[36mℹ\u001b[39m In argument: `codigo = as.numeric(codigo)`.\n",
      "Caused by warning:\n",
      "\u001b[33m!\u001b[39m NAs introducidos por coerción\"\n"
     ]
    },
    {
     "data": {
      "text/html": [
       "<table class=\"dataframe\">\n",
       "<caption>A tibble: 4 × 3</caption>\n",
       "<thead>\n",
       "\t<tr><th scope=col>anio</th><th scope=col>gran_sector</th><th scope=col>sector</th></tr>\n",
       "\t<tr><th scope=col>&lt;int&gt;</th><th scope=col>&lt;dbl&gt;</th><th scope=col>&lt;dbl&gt;</th></tr>\n",
       "</thead>\n",
       "<tbody>\n",
       "\t<tr><td>2004</td><td> 789.488</td><td>12.720</td></tr>\n",
       "\t<tr><td>2009</td><td>1636.274</td><td>23.701</td></tr>\n",
       "\t<tr><td>2014</td><td>1171.968</td><td>13.671</td></tr>\n",
       "\t<tr><td>2019</td><td>1915.817</td><td>25.549</td></tr>\n",
       "</tbody>\n",
       "</table>\n"
      ],
      "text/latex": [
       "A tibble: 4 × 3\n",
       "\\begin{tabular}{lll}\n",
       " anio & gran\\_sector & sector\\\\\n",
       " <int> & <dbl> & <dbl>\\\\\n",
       "\\hline\n",
       "\t 2004 &  789.488 & 12.720\\\\\n",
       "\t 2009 & 1636.274 & 23.701\\\\\n",
       "\t 2014 & 1171.968 & 13.671\\\\\n",
       "\t 2019 & 1915.817 & 25.549\\\\\n",
       "\\end{tabular}\n"
      ],
      "text/markdown": [
       "\n",
       "A tibble: 4 × 3\n",
       "\n",
       "| anio &lt;int&gt; | gran_sector &lt;dbl&gt; | sector &lt;dbl&gt; |\n",
       "|---|---|---|\n",
       "| 2004 |  789.488 | 12.720 |\n",
       "| 2009 | 1636.274 | 23.701 |\n",
       "| 2014 | 1171.968 | 13.671 |\n",
       "| 2019 | 1915.817 | 25.549 |\n",
       "\n"
      ],
      "text/plain": [
       "  anio gran_sector sector\n",
       "1 2004  789.488    12.720\n",
       "2 2009 1636.274    23.701\n",
       "3 2014 1171.968    13.671\n",
       "4 2019 1915.817    25.549"
      ]
     },
     "metadata": {},
     "output_type": "display_data"
    }
   ],
   "source": [
    "inversiones_totales <- map_dfr(\n",
    "    names(lista_censos),\n",
    "    function(anio) {\n",
    "        df <- lista_censos[[anio]] %>%\n",
    "        mutate(codigo = as.numeric(codigo))\n",
    "\n",
    "        inver_gen <- df %>%\n",
    "        filter(codigo == 54, is.na(id_estrato)) %>%\n",
    "        slice(1) %>%\n",
    "        pull(a211a)\n",
    "\n",
    "        inver_espec <- df  %>%\n",
    "        filter(codigo == 5417, is.na(id_estrato)) %>%\n",
    "        slice(1) %>%\n",
    "        pull(a211a)\n",
    "        \n",
    "        tibble(anio = as.integer(anio),\n",
    "        gran_sector = round(inver_gen, 3),\n",
    "        sector = round(inver_espec, 3) )\n",
    "\n",
    "    }\n",
    ")\n",
    "\n",
    "head(inversiones_totales)"
   ]
  },
  {
   "cell_type": "markdown",
   "id": "bbef8407",
   "metadata": {},
   "source": [
    "Participación porcentual Total del personal ocupado en los Servicios profesionales, científicos y técnicos "
   ]
  },
  {
   "cell_type": "code",
   "execution_count": null,
   "id": "dd1ad0e2",
   "metadata": {
    "vscode": {
     "languageId": "r"
    }
   },
   "outputs": [
    {
     "name": "stderr",
     "output_type": "stream",
     "text": [
      "Warning message:\n",
      "\"\u001b[1m\u001b[22mThere was 1 warning in `mutate()`.\n",
      "\u001b[1m\u001b[22m\u001b[36mℹ\u001b[39m In argument: `codigo = as.numeric(codigo)`.\n",
      "Caused by warning:\n",
      "\u001b[33m!\u001b[39m NAs introducidos por coerción\"\n",
      "Warning message:\n",
      "\"\u001b[1m\u001b[22mThere was 1 warning in `mutate()`.\n",
      "\u001b[1m\u001b[22m\u001b[36mℹ\u001b[39m In argument: `codigo = as.numeric(codigo)`.\n",
      "Caused by warning:\n",
      "\u001b[33m!\u001b[39m NAs introducidos por coerción\"\n",
      "Warning message:\n",
      "\"\u001b[1m\u001b[22mThere was 1 warning in `mutate()`.\n",
      "\u001b[1m\u001b[22m\u001b[36mℹ\u001b[39m In argument: `codigo = as.numeric(codigo)`.\n",
      "Caused by warning:\n",
      "\u001b[33m!\u001b[39m NAs introducidos por coerción\"\n",
      "Warning message:\n",
      "\"\u001b[1m\u001b[22mThere was 1 warning in `mutate()`.\n",
      "\u001b[1m\u001b[22m\u001b[36mℹ\u001b[39m In argument: `codigo = as.numeric(codigo)`.\n",
      "Caused by warning:\n",
      "\u001b[33m!\u001b[39m NAs introducidos por coerción\"\n"
     ]
    },
    {
     "data": {
      "text/html": [
       "<table class=\"dataframe\">\n",
       "<caption>A tibble: 4 × 5</caption>\n",
       "<thead>\n",
       "\t<tr><th scope=col>anio</th><th scope=col>ocupacion_total</th><th scope=col>ocupacion_gran_sector</th><th scope=col>ocupacion_sector</th><th scope=col>porcentaje</th></tr>\n",
       "\t<tr><th scope=col>&lt;int&gt;</th><th scope=col>&lt;dbl&gt;</th><th scope=col>&lt;dbl&gt;</th><th scope=col>&lt;dbl&gt;</th><th scope=col>&lt;dbl&gt;</th></tr>\n",
       "</thead>\n",
       "<tbody>\n",
       "\t<tr><td>2004</td><td>2842874</td><td>179503</td><td>1413</td><td>0.04970322</td></tr>\n",
       "\t<tr><td>2009</td><td>3299325</td><td>187312</td><td>1115</td><td>0.03379479</td></tr>\n",
       "\t<tr><td>2014</td><td>3603572</td><td>208693</td><td>2124</td><td>0.05894152</td></tr>\n",
       "\t<tr><td>2019</td><td>4297134</td><td>286407</td><td>4176</td><td>0.09718105</td></tr>\n",
       "</tbody>\n",
       "</table>\n"
      ],
      "text/latex": [
       "A tibble: 4 × 5\n",
       "\\begin{tabular}{lllll}\n",
       " anio & ocupacion\\_total & ocupacion\\_gran\\_sector & ocupacion\\_sector & porcentaje\\\\\n",
       " <int> & <dbl> & <dbl> & <dbl> & <dbl>\\\\\n",
       "\\hline\n",
       "\t 2004 & 2842874 & 179503 & 1413 & 0.04970322\\\\\n",
       "\t 2009 & 3299325 & 187312 & 1115 & 0.03379479\\\\\n",
       "\t 2014 & 3603572 & 208693 & 2124 & 0.05894152\\\\\n",
       "\t 2019 & 4297134 & 286407 & 4176 & 0.09718105\\\\\n",
       "\\end{tabular}\n"
      ],
      "text/markdown": [
       "\n",
       "A tibble: 4 × 5\n",
       "\n",
       "| anio &lt;int&gt; | ocupacion_total &lt;dbl&gt; | ocupacion_gran_sector &lt;dbl&gt; | ocupacion_sector &lt;dbl&gt; | porcentaje &lt;dbl&gt; |\n",
       "|---|---|---|---|---|\n",
       "| 2004 | 2842874 | 179503 | 1413 | 0.04970322 |\n",
       "| 2009 | 3299325 | 187312 | 1115 | 0.03379479 |\n",
       "| 2014 | 3603572 | 208693 | 2124 | 0.05894152 |\n",
       "| 2019 | 4297134 | 286407 | 4176 | 0.09718105 |\n",
       "\n"
      ],
      "text/plain": [
       "  anio ocupacion_total ocupacion_gran_sector ocupacion_sector porcentaje\n",
       "1 2004 2842874         179503                1413             0.04970322\n",
       "2 2009 3299325         187312                1115             0.03379479\n",
       "3 2014 3603572         208693                2124             0.05894152\n",
       "4 2019 4297134         286407                4176             0.09718105"
      ]
     },
     "metadata": {},
     "output_type": "display_data"
    }
   ],
   "source": [
    "ocupacion_totales <- map_dfr(\n",
    "  names(lista_censos),\n",
    "  function(anio) {\n",
    "    df <- lista_censos[[anio]] %>%\n",
    "      mutate(codigo = as.numeric(codigo))\n",
    "\n",
    "    ocu_total <- df %>%\n",
    "      select(codigo, h001a) %>%\n",
    "      slice(1) %>%\n",
    "      pull(h001a)\n",
    "\n",
    "    ocu_gran_sector <- df %>%\n",
    "      filter(codigo == 54 & !is.na(h001a)) %>%\n",
    "      slice(1) %>%\n",
    "      pull(h001a)\n",
    "\n",
    "    ocu_sector <- df %>%\n",
    "      filter(codigo == 5417 & !is.na(h001a)) %>%\n",
    "      slice(1) %>%\n",
    "      pull(h001a)\n",
    "\n",
    "\n",
    "    porcentaje <- (ocu_sector / ocu_total) * 100\n",
    "\n",
    "    tibble(\n",
    "      anio = as.integer(anio),\n",
    "      ocupacion_total = round(ocu_total, 3),\n",
    "      ocupacion_gran_sector = round(ocu_gran_sector, 3),\n",
    "      ocupacion_sector = round(ocu_sector, 3),\n",
    "      porcentaje = porcentaje\n",
    "    )\n",
    "  }\n",
    ")\n",
    "head(ocupacion_totales)"
   ]
  },
  {
   "cell_type": "markdown",
   "id": "4ffdf1e6",
   "metadata": {},
   "source": [
    "Porcentaje de egresados con conocimientos en Ciencia, Tecnología e Innovación\n",
    "\n",
    "-Disciplinas en ciencia, tecnología, ingeniería y matemáticas."
   ]
  },
  {
   "cell_type": "code",
   "execution_count": null,
   "id": "ee9ae823",
   "metadata": {
    "vscode": {
     "languageId": "r"
    }
   },
   "outputs": [
    {
     "name": "stdout",
     "output_type": "stream",
     "text": [
      "tibble [60 × 6] (S3: tbl_df/tbl/data.frame)\n",
      " $ entidad_federativa       : chr [1:60] \"CIUDAD DE MÉXICO\" \"CIUDAD DE MÉXICO\" \"CIUDAD DE MÉXICO\" \"CIUDAD DE MÉXICO\" ...\n",
      " $ campo_amplio_de_formacion: chr [1:60] \"Administración y negocios\" \"Agronomía y veterinaria\" \"Artes y humanidades\" \"Ciencias de la salud\" ...\n",
      " $ egresados_mujeres        : num [1:60] 12593 541 3349 8107 2157 ...\n",
      " $ egresados_hombres        : num [1:60] 11944 296 2579 4016 2224 ...\n",
      " $ egresados_total          : num [1:60] 24537 837 5928 12123 4381 ...\n",
      " $ origen                   : chr [1:60] \"2018-2019\" \"2018-2019\" \"2018-2019\" \"2018-2019\" ...\n"
     ]
    }
   ],
   "source": [
    "str(anuies)"
   ]
  },
  {
   "cell_type": "code",
   "execution_count": null,
   "id": "8d595fd2",
   "metadata": {
    "vscode": {
     "languageId": "r"
    }
   },
   "outputs": [
    {
     "data": {
      "text/html": [
       "<table class=\"dataframe\">\n",
       "<caption>A tibble: 6 × 2</caption>\n",
       "<thead>\n",
       "\t<tr><th scope=col>origen</th><th scope=col>total_carreras</th></tr>\n",
       "\t<tr><th scope=col>&lt;chr&gt;</th><th scope=col>&lt;dbl&gt;</th></tr>\n",
       "</thead>\n",
       "<tbody>\n",
       "\t<tr><td>2018-2019</td><td>102103</td></tr>\n",
       "\t<tr><td>2019-2020</td><td>105647</td></tr>\n",
       "\t<tr><td>2020-2021</td><td>118117</td></tr>\n",
       "\t<tr><td>2021-2022</td><td>134181</td></tr>\n",
       "\t<tr><td>2022-2023</td><td>147419</td></tr>\n",
       "\t<tr><td>2023-2024</td><td>153746</td></tr>\n",
       "</tbody>\n",
       "</table>\n"
      ],
      "text/latex": [
       "A tibble: 6 × 2\n",
       "\\begin{tabular}{ll}\n",
       " origen & total\\_carreras\\\\\n",
       " <chr> & <dbl>\\\\\n",
       "\\hline\n",
       "\t 2018-2019 & 102103\\\\\n",
       "\t 2019-2020 & 105647\\\\\n",
       "\t 2020-2021 & 118117\\\\\n",
       "\t 2021-2022 & 134181\\\\\n",
       "\t 2022-2023 & 147419\\\\\n",
       "\t 2023-2024 & 153746\\\\\n",
       "\\end{tabular}\n"
      ],
      "text/markdown": [
       "\n",
       "A tibble: 6 × 2\n",
       "\n",
       "| origen &lt;chr&gt; | total_carreras &lt;dbl&gt; |\n",
       "|---|---|\n",
       "| 2018-2019 | 102103 |\n",
       "| 2019-2020 | 105647 |\n",
       "| 2020-2021 | 118117 |\n",
       "| 2021-2022 | 134181 |\n",
       "| 2022-2023 | 147419 |\n",
       "| 2023-2024 | 153746 |\n",
       "\n"
      ],
      "text/plain": [
       "  origen    total_carreras\n",
       "1 2018-2019 102103        \n",
       "2 2019-2020 105647        \n",
       "3 2020-2021 118117        \n",
       "4 2021-2022 134181        \n",
       "5 2022-2023 147419        \n",
       "6 2023-2024 153746        "
      ]
     },
     "metadata": {},
     "output_type": "display_data"
    }
   ],
   "source": [
    "#Total de egresados por periodo\n",
    "total_carreras <- anuies %>%\n",
    "group_by(origen) %>%\n",
    "summarise(total_carreras = sum (egresados_total, na.rm = TRUE)) %>%\n",
    "arrange(origen)\n",
    "\n",
    "total_carreras"
   ]
  },
  {
   "cell_type": "markdown",
   "id": "8250ad24",
   "metadata": {},
   "source": []
  },
  {
   "cell_type": "code",
   "execution_count": null,
   "id": "cb53562f",
   "metadata": {
    "vscode": {
     "languageId": "r"
    }
   },
   "outputs": [
    {
     "name": "stdout",
     "output_type": "stream",
     "text": [
      "Leyendo archivo: ANUIES/2018-2019/STEM_2018_2019.xlsx \n",
      "Leyendo archivo: ANUIES/2019-2020/STEM_2019_2020.xlsx \n",
      "Leyendo archivo: ANUIES/2020-2021/STEM_2020_2021.xlsx \n",
      "Leyendo archivo: ANUIES/2021-2022/STEM_2021_2022.xlsx \n",
      "Leyendo archivo: ANUIES/2022-2023/STEM_2022_2023.xlsx \n",
      "Leyendo archivo: ANUIES/2023-2024/STEM_2023_2024.xlsx \n"
     ]
    }
   ],
   "source": [
    "# Obtener el archivo STEM... correspondiente dentro de cada carpeta\n",
    "pob_stem <- function(carpeta){\n",
    "  ruta_carpeta <- file.path(base_dir, carpeta)\n",
    "  # Buscar archivo que empiece con \"STEM_\" y contenga el año, ejemplo: STEM_2018_2019.xlsx\n",
    "  patron <- paste0(\"STEM_\", str_replace_all(carpeta, \"-\", \"_\"))  # ej: \"STEM_2018_2019\"\n",
    "  \n",
    "  archivos_en_carpeta <- list.files(ruta_carpeta, pattern = paste0(\"^\", patron, \".*\\\\.xls[xm]?$\"), full.names = TRUE)\n",
    "  \n",
    "  if(length(archivos_en_carpeta) == 0){\n",
    "    warning(paste(\"No se encontró archivo para carpeta:\", carpeta))\n",
    "    return(NA_character_)\n",
    "  }\n",
    "  # Retorna el primer archivo que coincida\n",
    "  archivos_en_carpeta[1]\n",
    "}\n",
    "\n",
    "# Obtener la lista de archivos que quieres leer (uno por carpeta)\n",
    "stem_tot <- map_chr(carpetas_anios, pob_stem)\n",
    "\n",
    "# Filtrar archivos existentes (elimina NA)\n",
    "stem_tot <- stem_tot[!is.na(stem_tot)]\n",
    "\n",
    "# Leer cada archivo con el rango que quieres y agregar columna con año\n",
    "lista_tablas_stem <- map2(stem_tot, carpetas_anios, ~ {\n",
    "  cat(\"Leyendo archivo:\", .x, \"\\n\")\n",
    "  read_excel(.x, range = \"A4:E8\") %>%\n",
    "    mutate(origen = .y)  # Guardar como origen para identificar el año\n",
    "})"
   ]
  },
  {
   "cell_type": "code",
   "execution_count": null,
   "id": "04f58e4c",
   "metadata": {
    "vscode": {
     "languageId": "r"
    }
   },
   "outputs": [
    {
     "name": "stdout",
     "output_type": "stream",
     "text": [
      "tibble [24 × 6] (S3: tbl_df/tbl/data.frame)\n",
      " $ entidad_federativa       : chr [1:24] \"CIUDAD DE MÉXICO\" \"CIUDAD DE MÉXICO\" \"CIUDAD DE MÉXICO\" \"CIUDAD DE MÉXICO\" ...\n",
      " $ campo_amplio_de_formacion: chr [1:24] \"Ciencias de la salud\" \"Ciencias naturales, matemáticas y estadística\" \"Ingeniería, manufactura y construcción\" \"Tecnologías de la información y la comunicación\" ...\n",
      " $ egresados_mujeres        : num [1:24] 8107 2157 4532 1352 7788 ...\n",
      " $ egresados_hombres        : num [1:24] 4016 2224 9011 4400 3752 ...\n",
      " $ egresados_total          : num [1:24] 12123 4381 13543 5752 11540 ...\n",
      " $ origen                   : chr [1:24] \"2018-2019\" \"2018-2019\" \"2018-2019\" \"2018-2019\" ...\n"
     ]
    }
   ],
   "source": [
    "total_stem <- bind_rows(lista_tablas_stem) %>%\n",
    "clean_names()\n",
    "\n",
    "str(total_stem)"
   ]
  },
  {
   "cell_type": "code",
   "execution_count": null,
   "id": "28e5d206",
   "metadata": {
    "vscode": {
     "languageId": "r"
    }
   },
   "outputs": [
    {
     "name": "stdout",
     "output_type": "stream",
     "text": [
      "\u001b[90m# A tibble: 6 × 2\u001b[39m\n",
      "  origen    total_egresados\n",
      "  \u001b[3m\u001b[90m<chr>\u001b[39m\u001b[23m               \u001b[3m\u001b[90m<dbl>\u001b[39m\u001b[23m\n",
      "\u001b[90m1\u001b[39m 2018-2019           \u001b[4m3\u001b[24m\u001b[4m5\u001b[24m799\n",
      "\u001b[90m2\u001b[39m 2019-2020           \u001b[4m3\u001b[24m\u001b[4m5\u001b[24m242\n",
      "\u001b[90m3\u001b[39m 2020-2021           \u001b[4m4\u001b[24m\u001b[4m2\u001b[24m898\n",
      "\u001b[90m4\u001b[39m 2021-2022           \u001b[4m4\u001b[24m\u001b[4m4\u001b[24m086\n",
      "\u001b[90m5\u001b[39m 2022-2023           \u001b[4m4\u001b[24m\u001b[4m8\u001b[24m201\n",
      "\u001b[90m6\u001b[39m 2023-2024           \u001b[4m4\u001b[24m\u001b[4m6\u001b[24m586\n"
     ]
    }
   ],
   "source": [
    "#Total de egresados con conocimientos STEM por periodo\n",
    "egresados_stem <- total_stem %>%\n",
    "group_by(origen) %>%\n",
    "summarise(total_egresados = sum (egresados_total, na.rm = TRUE)) %>%\n",
    "arrange(origen)\n",
    "\n",
    "print(egresados_stem)"
   ]
  },
  {
   "cell_type": "code",
   "execution_count": null,
   "id": "8d8c80fa",
   "metadata": {
    "vscode": {
     "languageId": "r"
    }
   },
   "outputs": [
    {
     "name": "stdout",
     "output_type": "stream",
     "text": [
      "\u001b[90m# A tibble: 6 × 4\u001b[39m\n",
      "  origen    total_carreras total_egresados porcentaje\n",
      "  \u001b[3m\u001b[90m<chr>\u001b[39m\u001b[23m              \u001b[3m\u001b[90m<dbl>\u001b[39m\u001b[23m           \u001b[3m\u001b[90m<dbl>\u001b[39m\u001b[23m      \u001b[3m\u001b[90m<dbl>\u001b[39m\u001b[23m\n",
      "\u001b[90m1\u001b[39m 2018-2019         \u001b[4m1\u001b[24m\u001b[4m0\u001b[24m\u001b[4m2\u001b[24m103           \u001b[4m3\u001b[24m\u001b[4m5\u001b[24m799       35.1\n",
      "\u001b[90m2\u001b[39m 2019-2020         \u001b[4m1\u001b[24m\u001b[4m0\u001b[24m\u001b[4m5\u001b[24m647           \u001b[4m3\u001b[24m\u001b[4m5\u001b[24m242       33.4\n",
      "\u001b[90m3\u001b[39m 2020-2021         \u001b[4m1\u001b[24m\u001b[4m1\u001b[24m\u001b[4m8\u001b[24m117           \u001b[4m4\u001b[24m\u001b[4m2\u001b[24m898       36.3\n",
      "\u001b[90m4\u001b[39m 2021-2022         \u001b[4m1\u001b[24m\u001b[4m3\u001b[24m\u001b[4m4\u001b[24m181           \u001b[4m4\u001b[24m\u001b[4m4\u001b[24m086       32.9\n",
      "\u001b[90m5\u001b[39m 2022-2023         \u001b[4m1\u001b[24m\u001b[4m4\u001b[24m\u001b[4m7\u001b[24m419           \u001b[4m4\u001b[24m\u001b[4m8\u001b[24m201       32.7\n",
      "\u001b[90m6\u001b[39m 2023-2024         \u001b[4m1\u001b[24m\u001b[4m5\u001b[24m\u001b[4m3\u001b[24m746           \u001b[4m4\u001b[24m\u001b[4m6\u001b[24m586       30.3\n"
     ]
    }
   ],
   "source": [
    "#Porcentaje de egresados STEM = (Total de egresados STEM / Total de egresados TODAS LAS CARRERAS) * 100\n",
    "porcentaje_cti <- total_carreras %>%\n",
    "left_join(egresados_stem, by = 'origen') %>%\n",
    "mutate(porcentaje = (total_egresados / total_carreras) * 100)\n",
    "\n",
    "print(porcentaje_cti)"
   ]
  },
  {
   "cell_type": "markdown",
   "id": "212f153d",
   "metadata": {},
   "source": [
    "Porcentaje de mujeres egresadas con conocimientos en Ciencia, Tecnología e Innovación\n",
    "\n",
    "(Mujeres egresadas / Mujeres egresadas de todas las disciplinas) * 100\n"
   ]
  },
  {
   "cell_type": "code",
   "execution_count": null,
   "id": "a52fb873",
   "metadata": {
    "vscode": {
     "languageId": "r"
    }
   },
   "outputs": [
    {
     "name": "stdout",
     "output_type": "stream",
     "text": [
      "List of 6\n",
      " $ : tibble [10 × 6] (S3: tbl_df/tbl/data.frame)\n",
      "  ..$ ENTIDAD FEDERATIVA       : chr [1:10] \"CIUDAD DE MÉXICO\" \"CIUDAD DE MÉXICO\" \"CIUDAD DE MÉXICO\" \"CIUDAD DE MÉXICO\" ...\n",
      "  ..$ CAMPO AMPLIO DE FORMACIÓN: chr [1:10] \"Administración y negocios\" \"Agronomía y veterinaria\" \"Artes y humanidades\" \"Ciencias de la salud\" ...\n",
      "  ..$ Egresados Mujeres        : num [1:10] 12593 541 3349 8107 2157 ...\n",
      "  ..$ Egresados Hombres        : num [1:10] 11944 296 2579 4016 2224 ...\n",
      "  ..$ Egresados Total          : num [1:10] 24537 837 5928 12123 4381 ...\n",
      "  ..$ origen                   : chr [1:10] \"2018-2019\" \"2018-2019\" \"2018-2019\" \"2018-2019\" ...\n",
      " $ : tibble [10 × 6] (S3: tbl_df/tbl/data.frame)\n",
      "  ..$ ENTIDAD FEDERATIVA       : chr [1:10] \"CIUDAD DE MÉXICO\" \"CIUDAD DE MÉXICO\" \"CIUDAD DE MÉXICO\" \"CIUDAD DE MÉXICO\" ...\n",
      "  ..$ CAMPO AMPLIO DE FORMACIÓN: chr [1:10] \"Administración y negocios\" \"Agronomía y veterinaria\" \"Artes y humanidades\" \"Ciencias de la salud\" ...\n",
      "  ..$ Egresados Mujeres        : num [1:10] 13935 471 3186 7788 2172 ...\n",
      "  ..$ Egresados Hombres        : num [1:10] 12779 274 2477 3752 2219 ...\n",
      "  ..$ Egresados Total          : num [1:10] 26714 745 5663 11540 4391 ...\n",
      "  ..$ origen                   : chr [1:10] \"2019-2020\" \"2019-2020\" \"2019-2020\" \"2019-2020\" ...\n",
      " $ : tibble [10 × 6] (S3: tbl_df/tbl/data.frame)\n",
      "  ..$ ENTIDAD FEDERATIVA       : chr [1:10] \"CIUDAD DE MÉXICO\" \"CIUDAD DE MÉXICO\" \"CIUDAD DE MÉXICO\" \"CIUDAD DE MÉXICO\" ...\n",
      "  ..$ CAMPO AMPLIO DE FORMACIÓN: chr [1:10] \"Administración y negocios\" \"Agronomía y veterinaria\" \"Artes y humanidades\" \"Ciencias de la salud\" ...\n",
      "  ..$ Egresados Mujeres        : num [1:10] 15188 720 3603 11198 2497 ...\n",
      "  ..$ Egresados Hombres        : num [1:10] 13624 432 2787 6414 2765 ...\n",
      "  ..$ Egresados Total          : num [1:10] 28812 1152 6390 17612 5262 ...\n",
      "  ..$ origen                   : chr [1:10] \"2020-2021\" \"2020-2021\" \"2020-2021\" \"2020-2021\" ...\n",
      " $ : tibble [10 × 6] (S3: tbl_df/tbl/data.frame)\n",
      "  ..$ ENTIDAD FEDERATIVA       : chr [1:10] \"CIUDAD DE MÉXICO\" \"CIUDAD DE MÉXICO\" \"CIUDAD DE MÉXICO\" \"CIUDAD DE MÉXICO\" ...\n",
      "  ..$ CAMPO AMPLIO DE FORMACIÓN: chr [1:10] \"Administración y negocios\" \"Agronomía y veterinaria\" \"Artes y humanidades\" \"Ciencias de la salud\" ...\n",
      "  ..$ Egresados Mujeres        : num [1:10] 18205 583 4338 11196 2591 ...\n",
      "  ..$ Egresados Hombres        : num [1:10] 15478 359 3426 6187 2926 ...\n",
      "  ..$ Egresados Total          : num [1:10] 33683 942 7764 17383 5517 ...\n",
      "  ..$ origen                   : chr [1:10] \"2021-2022\" \"2021-2022\" \"2021-2022\" \"2021-2022\" ...\n",
      " $ : tibble [10 × 6] (S3: tbl_df/tbl/data.frame)\n",
      "  ..$ ENTIDAD FEDERATIVA       : chr [1:10] \"CIUDAD DE MÉXICO\" \"CIUDAD DE MÉXICO\" \"CIUDAD DE MÉXICO\" \"CIUDAD DE MÉXICO\" ...\n",
      "  ..$ CAMPO AMPLIO DE FORMACIÓN: chr [1:10] \"Administración y negocios\" \"Agronomía y veterinaria\" \"Artes y humanidades\" \"Ciencias de la salud\" ...\n",
      "  ..$ Egresados Mujeres        : num [1:10] 19935 567 4563 12870 2961 ...\n",
      "  ..$ Egresados Hombres        : num [1:10] 16632 415 3772 7321 3214 ...\n",
      "  ..$ Egresados Total          : num [1:10] 36567 982 8335 20191 6175 ...\n",
      "  ..$ origen                   : chr [1:10] \"2022-2023\" \"2022-2023\" \"2022-2023\" \"2022-2023\" ...\n",
      " $ : tibble [10 × 6] (S3: tbl_df/tbl/data.frame)\n",
      "  ..$ ENTIDAD FEDERATIVA       : chr [1:10] \"CIUDAD DE MÉXICO\" \"CIUDAD DE MÉXICO\" \"CIUDAD DE MÉXICO\" \"CIUDAD DE MÉXICO\" ...\n",
      "  ..$ CAMPO AMPLIO DE FORMACIÓN: chr [1:10] \"Administración y negocios\" \"Agronomía y veterinaria\" \"Artes y humanidades\" \"Ciencias de la salud\" ...\n",
      "  ..$ Egresados Mujeres        : num [1:10] 23604 829 4539 11589 2814 ...\n",
      "  ..$ Egresados Hombres        : num [1:10] 19914 620 3541 6056 3085 ...\n",
      "  ..$ Egresados Total          : num [1:10] 43518 1449 8080 17645 5899 ...\n",
      "  ..$ origen                   : chr [1:10] \"2023-2024\" \"2023-2024\" \"2023-2024\" \"2023-2024\" ...\n"
     ]
    }
   ],
   "source": [
    "str(lista_anuies)"
   ]
  },
  {
   "cell_type": "code",
   "execution_count": null,
   "id": "cf92ba4a",
   "metadata": {
    "vscode": {
     "languageId": "r"
    }
   },
   "outputs": [
    {
     "data": {
      "text/html": [
       "<table class=\"dataframe\">\n",
       "<caption>A tibble: 6 × 2</caption>\n",
       "<thead>\n",
       "\t<tr><th scope=col>origen</th><th scope=col>total_mujeres</th></tr>\n",
       "\t<tr><th scope=col>&lt;chr&gt;</th><th scope=col>&lt;dbl&gt;</th></tr>\n",
       "</thead>\n",
       "<tbody>\n",
       "\t<tr><td>2018-2019</td><td>53885</td></tr>\n",
       "\t<tr><td>2019-2020</td><td>56112</td></tr>\n",
       "\t<tr><td>2020-2021</td><td>63217</td></tr>\n",
       "\t<tr><td>2021-2022</td><td>72831</td></tr>\n",
       "\t<tr><td>2022-2023</td><td>79401</td></tr>\n",
       "\t<tr><td>2023-2024</td><td>84213</td></tr>\n",
       "</tbody>\n",
       "</table>\n"
      ],
      "text/latex": [
       "A tibble: 6 × 2\n",
       "\\begin{tabular}{ll}\n",
       " origen & total\\_mujeres\\\\\n",
       " <chr> & <dbl>\\\\\n",
       "\\hline\n",
       "\t 2018-2019 & 53885\\\\\n",
       "\t 2019-2020 & 56112\\\\\n",
       "\t 2020-2021 & 63217\\\\\n",
       "\t 2021-2022 & 72831\\\\\n",
       "\t 2022-2023 & 79401\\\\\n",
       "\t 2023-2024 & 84213\\\\\n",
       "\\end{tabular}\n"
      ],
      "text/markdown": [
       "\n",
       "A tibble: 6 × 2\n",
       "\n",
       "| origen &lt;chr&gt; | total_mujeres &lt;dbl&gt; |\n",
       "|---|---|\n",
       "| 2018-2019 | 53885 |\n",
       "| 2019-2020 | 56112 |\n",
       "| 2020-2021 | 63217 |\n",
       "| 2021-2022 | 72831 |\n",
       "| 2022-2023 | 79401 |\n",
       "| 2023-2024 | 84213 |\n",
       "\n"
      ],
      "text/plain": [
       "  origen    total_mujeres\n",
       "1 2018-2019 53885        \n",
       "2 2019-2020 56112        \n",
       "3 2020-2021 63217        \n",
       "4 2021-2022 72831        \n",
       "5 2022-2023 79401        \n",
       "6 2023-2024 84213        "
      ]
     },
     "metadata": {},
     "output_type": "display_data"
    }
   ],
   "source": [
    "#Mujeres egresadas de todas las carreras\n",
    "total_mujeres <- map_dfr(\n",
    "lista_anuies, ~ .x %>%\n",
    "group_by(origen) %>%\n",
    "summarise(total_mujeres = sum(`Egresados Mujeres`, na.rm = TRUE))) %>%\n",
    "arrange(origen)\n",
    "\n",
    "total_mujeres"
   ]
  },
  {
   "cell_type": "code",
   "execution_count": null,
   "id": "005566ab",
   "metadata": {
    "vscode": {
     "languageId": "r"
    }
   },
   "outputs": [
    {
     "data": {
      "text/html": [
       "<table class=\"dataframe\">\n",
       "<caption>A tibble: 6 × 2</caption>\n",
       "<thead>\n",
       "\t<tr><th scope=col>origen</th><th scope=col>mujeres_stem</th></tr>\n",
       "\t<tr><th scope=col>&lt;chr&gt;</th><th scope=col>&lt;dbl&gt;</th></tr>\n",
       "</thead>\n",
       "<tbody>\n",
       "\t<tr><td>2018-2019</td><td>16148</td></tr>\n",
       "\t<tr><td>2019-2020</td><td>15523</td></tr>\n",
       "\t<tr><td>2020-2021</td><td>19737</td></tr>\n",
       "\t<tr><td>2021-2022</td><td>20042</td></tr>\n",
       "\t<tr><td>2022-2023</td><td>22380</td></tr>\n",
       "\t<tr><td>2023-2024</td><td>21577</td></tr>\n",
       "</tbody>\n",
       "</table>\n"
      ],
      "text/latex": [
       "A tibble: 6 × 2\n",
       "\\begin{tabular}{ll}\n",
       " origen & mujeres\\_stem\\\\\n",
       " <chr> & <dbl>\\\\\n",
       "\\hline\n",
       "\t 2018-2019 & 16148\\\\\n",
       "\t 2019-2020 & 15523\\\\\n",
       "\t 2020-2021 & 19737\\\\\n",
       "\t 2021-2022 & 20042\\\\\n",
       "\t 2022-2023 & 22380\\\\\n",
       "\t 2023-2024 & 21577\\\\\n",
       "\\end{tabular}\n"
      ],
      "text/markdown": [
       "\n",
       "A tibble: 6 × 2\n",
       "\n",
       "| origen &lt;chr&gt; | mujeres_stem &lt;dbl&gt; |\n",
       "|---|---|\n",
       "| 2018-2019 | 16148 |\n",
       "| 2019-2020 | 15523 |\n",
       "| 2020-2021 | 19737 |\n",
       "| 2021-2022 | 20042 |\n",
       "| 2022-2023 | 22380 |\n",
       "| 2023-2024 | 21577 |\n",
       "\n"
      ],
      "text/plain": [
       "  origen    mujeres_stem\n",
       "1 2018-2019 16148       \n",
       "2 2019-2020 15523       \n",
       "3 2020-2021 19737       \n",
       "4 2021-2022 20042       \n",
       "5 2022-2023 22380       \n",
       "6 2023-2024 21577       "
      ]
     },
     "metadata": {},
     "output_type": "display_data"
    }
   ],
   "source": [
    "#MUJERES EGRESADAS STEM\n",
    "mujeres_stem <- total_stem %>%\n",
    "group_by(origen) %>%\n",
    "summarise(mujeres_stem = sum(egresados_mujeres, na.rm = TRUE)) %>%\n",
    "arrange(origen)\n",
    "\n",
    "mujeres_stem"
   ]
  },
  {
   "cell_type": "code",
   "execution_count": null,
   "id": "47ff818c",
   "metadata": {
    "vscode": {
     "languageId": "r"
    }
   },
   "outputs": [
    {
     "data": {
      "text/html": [
       "<table class=\"dataframe\">\n",
       "<caption>A tibble: 6 × 4</caption>\n",
       "<thead>\n",
       "\t<tr><th scope=col>origen</th><th scope=col>mujeres_stem</th><th scope=col>total_mujeres</th><th scope=col>porcentaje_mujeres_stem</th></tr>\n",
       "\t<tr><th scope=col>&lt;chr&gt;</th><th scope=col>&lt;dbl&gt;</th><th scope=col>&lt;dbl&gt;</th><th scope=col>&lt;dbl&gt;</th></tr>\n",
       "</thead>\n",
       "<tbody>\n",
       "\t<tr><td>2018-2019</td><td>16148</td><td>53885</td><td>29.96752</td></tr>\n",
       "\t<tr><td>2019-2020</td><td>15523</td><td>56112</td><td>27.66431</td></tr>\n",
       "\t<tr><td>2020-2021</td><td>19737</td><td>63217</td><td>31.22103</td></tr>\n",
       "\t<tr><td>2021-2022</td><td>20042</td><td>72831</td><td>27.51850</td></tr>\n",
       "\t<tr><td>2022-2023</td><td>22380</td><td>79401</td><td>28.18604</td></tr>\n",
       "\t<tr><td>2023-2024</td><td>21577</td><td>84213</td><td>25.62193</td></tr>\n",
       "</tbody>\n",
       "</table>\n"
      ],
      "text/latex": [
       "A tibble: 6 × 4\n",
       "\\begin{tabular}{llll}\n",
       " origen & mujeres\\_stem & total\\_mujeres & porcentaje\\_mujeres\\_stem\\\\\n",
       " <chr> & <dbl> & <dbl> & <dbl>\\\\\n",
       "\\hline\n",
       "\t 2018-2019 & 16148 & 53885 & 29.96752\\\\\n",
       "\t 2019-2020 & 15523 & 56112 & 27.66431\\\\\n",
       "\t 2020-2021 & 19737 & 63217 & 31.22103\\\\\n",
       "\t 2021-2022 & 20042 & 72831 & 27.51850\\\\\n",
       "\t 2022-2023 & 22380 & 79401 & 28.18604\\\\\n",
       "\t 2023-2024 & 21577 & 84213 & 25.62193\\\\\n",
       "\\end{tabular}\n"
      ],
      "text/markdown": [
       "\n",
       "A tibble: 6 × 4\n",
       "\n",
       "| origen &lt;chr&gt; | mujeres_stem &lt;dbl&gt; | total_mujeres &lt;dbl&gt; | porcentaje_mujeres_stem &lt;dbl&gt; |\n",
       "|---|---|---|---|\n",
       "| 2018-2019 | 16148 | 53885 | 29.96752 |\n",
       "| 2019-2020 | 15523 | 56112 | 27.66431 |\n",
       "| 2020-2021 | 19737 | 63217 | 31.22103 |\n",
       "| 2021-2022 | 20042 | 72831 | 27.51850 |\n",
       "| 2022-2023 | 22380 | 79401 | 28.18604 |\n",
       "| 2023-2024 | 21577 | 84213 | 25.62193 |\n",
       "\n"
      ],
      "text/plain": [
       "  origen    mujeres_stem total_mujeres porcentaje_mujeres_stem\n",
       "1 2018-2019 16148        53885         29.96752               \n",
       "2 2019-2020 15523        56112         27.66431               \n",
       "3 2020-2021 19737        63217         31.22103               \n",
       "4 2021-2022 20042        72831         27.51850               \n",
       "5 2022-2023 22380        79401         28.18604               \n",
       "6 2023-2024 21577        84213         25.62193               "
      ]
     },
     "metadata": {},
     "output_type": "display_data"
    }
   ],
   "source": [
    "mujeres_stem <- mujeres_stem %>%\n",
    "left_join(total_mujeres, by = 'origen') %>%\n",
    "mutate(porcentaje_mujeres_stem = (mujeres_stem / total_mujeres) * 100)\n",
    "\n",
    "mujeres_stem"
   ]
  },
  {
   "cell_type": "code",
   "execution_count": null,
   "id": "38457729",
   "metadata": {
    "vscode": {
     "languageId": "r"
    }
   },
   "outputs": [],
   "source": [
    "#Guardar los resultados en excel\n",
    "write_xlsx(list(Aporte_química = pib_quimica, Aporte_Serv_Prof = pib_ciencia, Inversión_total_Serv_Prof = inversiones_totales, Personal_Ocup_Serv_Prof = ocupacion_totales, Egresados_STEM = porcentaje_cti, Egresadas_Mujeres_STEM = mujeres_stem), path = 'Resultados/Indicadores_CTI.xlsx')"
   ]
  }
 ],
 "metadata": {
  "kernelspec": {
   "display_name": "R",
   "language": "R",
   "name": "ir"
  },
  "language_info": {
   "codemirror_mode": "r",
   "file_extension": ".r",
   "mimetype": "text/x-r-source",
   "name": "R",
   "pygments_lexer": "r",
   "version": "4.4.2"
  }
 },
 "nbformat": 4,
 "nbformat_minor": 5
}
