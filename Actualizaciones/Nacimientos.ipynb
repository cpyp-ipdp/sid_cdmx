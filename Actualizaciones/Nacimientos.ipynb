{
 "cells": [
  {
   "cell_type": "code",
   "execution_count": 2,
   "id": "4dcf0581",
   "metadata": {
    "vscode": {
     "languageId": "r"
    }
   },
   "outputs": [
    {
     "name": "stderr",
     "output_type": "stream",
     "text": [
      "Cargando paquete requerido: pacman\n",
      "\n"
     ]
    }
   ],
   "source": [
    "if(! require('pacman')) install.packages('pacman')\n",
    "pacman::p_load(tidyverse, readxl, janitor, stringr, writexl, foreign)"
   ]
  },
  {
   "cell_type": "code",
   "execution_count": 33,
   "id": "a5f3bc7e",
   "metadata": {
    "vscode": {
     "languageId": "r"
    }
   },
   "outputs": [],
   "source": [
    "poblacion <- read_xlsx('CONAPO/ConDem50a19_ProyPob20a70/0_Pob_Inicio_1950_2070.xlsx') %>%\n",
    "clean_names()"
   ]
  },
  {
   "cell_type": "code",
   "execution_count": 3,
   "id": "23349fd6",
   "metadata": {
    "vscode": {
     "languageId": "r"
    }
   },
   "outputs": [],
   "source": [
    "indica_conapo <- read_xlsx('CONAPO/ConDem50a19_ProyPob20a70/5_Indicadores_demográficos_proyecciones.xlsx') %>%\n",
    "clean_names()"
   ]
  },
  {
   "cell_type": "code",
   "execution_count": 40,
   "id": "784eb6af",
   "metadata": {
    "vscode": {
     "languageId": "r"
    }
   },
   "outputs": [],
   "source": [
    "defun_conapo <- read_xlsx('CONAPO/ConDem50a19_ProyPob20a70/1_Defunciones_1950_2070.xlsx') %>%\n",
    "clean_names()"
   ]
  },
  {
   "cell_type": "code",
   "execution_count": 13,
   "id": "cb6791e9",
   "metadata": {
    "vscode": {
     "languageId": "r"
    }
   },
   "outputs": [],
   "source": [
    "#Cargar datos de nacimientos\n",
    "nacimientos_inegi <- read.dbf('Estadísticas de Nacimientos Registrados (ENR)/Microdatos/nacim23.dbf') %>% \n",
    "clean_names()"
   ]
  },
  {
   "cell_type": "code",
   "execution_count": 21,
   "id": "96f5781c",
   "metadata": {
    "vscode": {
     "languageId": "r"
    }
   },
   "outputs": [],
   "source": [
    "defunciones_inegi <- read.dbf('Estadísticas de Defunciones Registradas (EDR)/Microdatos/defun23.dbf') %>% \n",
    "clean_names()"
   ]
  },
  {
   "cell_type": "code",
   "execution_count": 4,
   "id": "72b859c6",
   "metadata": {
    "vscode": {
     "languageId": "r"
    }
   },
   "outputs": [
    {
     "data": {
      "text/html": [
       "<table class=\"dataframe\">\n",
       "<caption>A tibble: 1 × 4</caption>\n",
       "<thead>\n",
       "\t<tr><th scope=col>ano</th><th scope=col>entidad</th><th scope=col>cve_geo</th><th scope=col>nac</th></tr>\n",
       "\t<tr><th scope=col>&lt;dbl&gt;</th><th scope=col>&lt;chr&gt;</th><th scope=col>&lt;dbl&gt;</th><th scope=col>&lt;dbl&gt;</th></tr>\n",
       "</thead>\n",
       "<tbody>\n",
       "\t<tr><td>2023</td><td>Ciudad de México</td><td>9</td><td>101283</td></tr>\n",
       "</tbody>\n",
       "</table>\n"
      ],
      "text/latex": [
       "A tibble: 1 × 4\n",
       "\\begin{tabular}{llll}\n",
       " ano & entidad & cve\\_geo & nac\\\\\n",
       " <dbl> & <chr> & <dbl> & <dbl>\\\\\n",
       "\\hline\n",
       "\t 2023 & Ciudad de México & 9 & 101283\\\\\n",
       "\\end{tabular}\n"
      ],
      "text/markdown": [
       "\n",
       "A tibble: 1 × 4\n",
       "\n",
       "| ano &lt;dbl&gt; | entidad &lt;chr&gt; | cve_geo &lt;dbl&gt; | nac &lt;dbl&gt; |\n",
       "|---|---|---|---|\n",
       "| 2023 | Ciudad de México | 9 | 101283 |\n",
       "\n"
      ],
      "text/plain": [
       "  ano  entidad          cve_geo nac   \n",
       "1 2023 Ciudad de México 9       101283"
      ]
     },
     "metadata": {},
     "output_type": "display_data"
    }
   ],
   "source": [
    "cdmx_conapo <- indica_conapo %>%\n",
    "  filter(entidad == 'Ciudad de México',\n",
    "  ano == 2023) %>%\n",
    "  select(ano, entidad, cve_geo, nac)\n",
    "\n",
    "cdmx_conapo"
   ]
  },
  {
   "cell_type": "code",
   "execution_count": 14,
   "id": "7ac05531",
   "metadata": {
    "vscode": {
     "languageId": "r"
    }
   },
   "outputs": [
    {
     "data": {
      "text/html": [
       "<table class=\"dataframe\">\n",
       "<caption>A data.frame: 1 × 1</caption>\n",
       "<thead>\n",
       "\t<tr><th scope=col>nacimientos</th></tr>\n",
       "\t<tr><th scope=col>&lt;int&gt;</th></tr>\n",
       "</thead>\n",
       "<tbody>\n",
       "\t<tr><td>85683</td></tr>\n",
       "</tbody>\n",
       "</table>\n"
      ],
      "text/latex": [
       "A data.frame: 1 × 1\n",
       "\\begin{tabular}{l}\n",
       " nacimientos\\\\\n",
       " <int>\\\\\n",
       "\\hline\n",
       "\t 85683\\\\\n",
       "\\end{tabular}\n"
      ],
      "text/markdown": [
       "\n",
       "A data.frame: 1 × 1\n",
       "\n",
       "| nacimientos &lt;int&gt; |\n",
       "|---|\n",
       "| 85683 |\n",
       "\n"
      ],
      "text/plain": [
       "  nacimientos\n",
       "1 85683      "
      ]
     },
     "metadata": {},
     "output_type": "display_data"
    }
   ],
   "source": [
    "cdmx_inegi <- nacimientos_inegi %>%\n",
    "select(ent_regis, fue_prese) %>%\n",
    "filter(ent_regis == '09', fue_prese == 1) %>%\n",
    "summarise(nacimientos = n())\n",
    "\n",
    "\n",
    "cdmx_inegi"
   ]
  },
  {
   "cell_type": "code",
   "execution_count": 37,
   "id": "397284ca",
   "metadata": {
    "vscode": {
     "languageId": "r"
    }
   },
   "outputs": [
    {
     "data": {
      "text/html": [
       "1128"
      ],
      "text/latex": [
       "1128"
      ],
      "text/markdown": [
       "1128"
      ],
      "text/plain": [
       "[1] 1128"
      ]
     },
     "metadata": {},
     "output_type": "display_data"
    }
   ],
   "source": [
    "cdmx_defunciones <- defunciones_inegi %>%\n",
    "filter(ent_resid == '09', edad >1001 & edad < 4005) %>%\n",
    "summarise(defunciones = n()) %>%\n",
    "pull(defunciones)\n",
    "\n",
    "cdmx_defunciones\n"
   ]
  },
  {
   "cell_type": "markdown",
   "id": "8a83aea2",
   "metadata": {},
   "source": [
    "Diferencia (%) Defᵗ𝗀,ₑ =\n",
    "\n",
    "g = grupo poblacional (niños menores de un año o niños de uno a cuatro años).\n",
    "\n",
    "Diferencia (%) Defᵗ𝗀,ₑ = diferencia porcentual de las defunciones para el grupo poblacional g con residencia en la entidad e en el año t.\n",
    "\n",
    "Defᵗᴱ𝗍𝗀,ₑ = defunciones estimadas para el grupo poblacional g de la entidad e en el año t (CONAPO).\n",
    "\n",
    "Defᵗᴿ𝗍𝗀,ₑ = defunciones oficiales -captadas- para el grupo poblacional g con residencia en la entidad e en el año t (INEGI-SS).\n",
    "\n"
   ]
  },
  {
   "cell_type": "code",
   "execution_count": 19,
   "id": "2167847b",
   "metadata": {
    "vscode": {
     "languageId": "r"
    }
   },
   "outputs": [
    {
     "data": {
      "text/html": [
       "<table class=\"dataframe\">\n",
       "<caption>A tibble: 1 × 4</caption>\n",
       "<thead>\n",
       "\t<tr><th scope=col>ano</th><th scope=col>entidad</th><th scope=col>cve_geo</th><th scope=col>def</th></tr>\n",
       "\t<tr><th scope=col>&lt;dbl&gt;</th><th scope=col>&lt;chr&gt;</th><th scope=col>&lt;dbl&gt;</th><th scope=col>&lt;dbl&gt;</th></tr>\n",
       "</thead>\n",
       "<tbody>\n",
       "\t<tr><td>2023</td><td>Ciudad de México</td><td>9</td><td>65379</td></tr>\n",
       "</tbody>\n",
       "</table>\n"
      ],
      "text/latex": [
       "A tibble: 1 × 4\n",
       "\\begin{tabular}{llll}\n",
       " ano & entidad & cve\\_geo & def\\\\\n",
       " <dbl> & <chr> & <dbl> & <dbl>\\\\\n",
       "\\hline\n",
       "\t 2023 & Ciudad de México & 9 & 65379\\\\\n",
       "\\end{tabular}\n"
      ],
      "text/markdown": [
       "\n",
       "A tibble: 1 × 4\n",
       "\n",
       "| ano &lt;dbl&gt; | entidad &lt;chr&gt; | cve_geo &lt;dbl&gt; | def &lt;dbl&gt; |\n",
       "|---|---|---|---|\n",
       "| 2023 | Ciudad de México | 9 | 65379 |\n",
       "\n"
      ],
      "text/plain": [
       "  ano  entidad          cve_geo def  \n",
       "1 2023 Ciudad de México 9       65379"
      ]
     },
     "metadata": {},
     "output_type": "display_data"
    }
   ],
   "source": [
    "defunciones_conapo <- indica_conapo %>%\n",
    "select(ano, entidad, cve_geo, def) %>%\n",
    "filter(entidad == 'Ciudad de México',\n",
    "  ano == 2023)\n",
    "\n",
    " defunciones_conapo\n"
   ]
  },
  {
   "cell_type": "code",
   "execution_count": 36,
   "id": "8f233913",
   "metadata": {
    "vscode": {
     "languageId": "r"
    }
   },
   "outputs": [
    {
     "data": {
      "text/html": [
       "470262"
      ],
      "text/latex": [
       "470262"
      ],
      "text/markdown": [
       "470262"
      ],
      "text/plain": [
       "[1] 470262"
      ]
     },
     "metadata": {},
     "output_type": "display_data"
    }
   ],
   "source": [
    "ninos_cdmx  <- poblacion %>%\n",
    "  filter(entidad == 'Ciudad de México',\n",
    "         edad >= 1 & edad <= 5,\n",
    "         ano == 2023) %>%\n",
    "    summarise(ninos = sum(poblacion)) %>%\n",
    "  pull(ninos)\n",
    "\n",
    "ninos_cdmx\n"
   ]
  },
  {
   "cell_type": "code",
   "execution_count": 39,
   "id": "184152a6",
   "metadata": {
    "vscode": {
     "languageId": "r"
    }
   },
   "outputs": [
    {
     "data": {
      "text/html": [
       "0.239866287303673"
      ],
      "text/latex": [
       "0.239866287303673"
      ],
      "text/markdown": [
       "0.239866287303673"
      ],
      "text/plain": [
       "[1] 0.2398663"
      ]
     },
     "metadata": {},
     "output_type": "display_data"
    }
   ],
   "source": [
    "diferencia_pob <- cdmx_defunciones / ninos_cdmx * 100\n",
    "\n",
    "diferencia_pob"
   ]
  }
 ],
 "metadata": {
  "kernelspec": {
   "display_name": "R",
   "language": "R",
   "name": "ir"
  },
  "language_info": {
   "codemirror_mode": "r",
   "file_extension": ".r",
   "mimetype": "text/x-r-source",
   "name": "R",
   "pygments_lexer": "r",
   "version": "4.4.2"
  }
 },
 "nbformat": 4,
 "nbformat_minor": 5
}
