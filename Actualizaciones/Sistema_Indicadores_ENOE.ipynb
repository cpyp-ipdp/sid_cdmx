{
 "cells": [
  {
   "cell_type": "markdown",
   "metadata": {},
   "source": [
    "### Indicadores de la Ciudad de México a partir de los resultados de la Encuesta Nacional de Ocupación y Empleo (INEGI)\n",
    "\n",
    "Recopila todos los datos de la encuesta (21-24) y se calculan los diferentes indicadores del Sistema del Instituto de Planeación de la CDMX"
   ]
  },
  {
   "cell_type": "code",
   "execution_count": 1,
   "metadata": {
    "vscode": {
     "languageId": "r"
    }
   },
   "outputs": [
    {
     "name": "stderr",
     "output_type": "stream",
     "text": [
      "Cargando paquete requerido: pacman\n",
      "\n"
     ]
    }
   ],
   "source": [
    "if(! require('pacman')) install.packages('pacman')\n",
    "pacman::p_load(tidyverse, srvyr, janitor, stringr, readxl, writexl, tools)"
   ]
  },
  {
   "cell_type": "markdown",
   "metadata": {},
   "source": [
    "### Descarga y lectura de datos"
   ]
  },
  {
   "cell_type": "code",
   "execution_count": 17,
   "metadata": {
    "vscode": {
     "languageId": "r"
    }
   },
   "outputs": [],
   "source": [
    "dir.create('Microdatos', showWarnings = FALSE)\n",
    "\n",
    "#Crear carpetas para almacenar los resultados por visor del sistema\n",
    "dir.create('PGD', showWarnings = FALSE)\n",
    "dir.create('Visor_CDMX', showWarnings = FALSE) \n"
   ]
  },
  {
   "cell_type": "code",
   "execution_count": 3,
   "metadata": {
    "vscode": {
     "languageId": "r"
    }
   },
   "outputs": [
    {
     "name": "stdout",
     "output_type": "stream",
     "text": [
      "[1] TRUE\n"
     ]
    }
   ],
   "source": [
    "# Directorios principales\n",
    "dir_datos <- 'Microdatos'\n",
    "\n",
    "# Verificar si existen antes de intentar crearlos\n",
    "if (!dir.exists(dir_datos)) {\n",
    "    dir.create(dir_datos, recursive = TRUE)\n",
    "}\n",
    "\n",
    "\n",
    "# Verificar que los directorios realmente existen después de crearlos\n",
    "print(file.exists(dir_datos))  # Debe devolver TRUE"
   ]
  },
  {
   "cell_type": "code",
   "execution_count": 4,
   "metadata": {
    "vscode": {
     "languageId": "r"
    }
   },
   "outputs": [],
   "source": [
    "descargar_enoe_csv <- function() {\n",
    "    options(timeout = 90000)\n",
    "    data_list <- list()\n",
    "\n",
    "    descargar_extraer <- function(url, year_str, trim) {\n",
    "        zip_path <- file.path('Microdatos', basename(url))\n",
    "        download.file(url, zip_path, mode = 'wb')\n",
    "        \n",
    "        unzip_dir <- file.path('Microdatos', paste0('ENOE_', year_str, '_trim', trim))\n",
    "        dir.create(unzip_dir, showWarnings = FALSE)\n",
    "        unzip(zip_path, exdir = unzip_dir)\n",
    "\n",
    "        unlink(zip_path) # Eliminar el archivo zip después de descomprimirlo\n",
    "        csv_files <- list.files(unzip_dir, pattern = '\\\\.csv$', full.names = TRUE)\n",
    "        \n",
    "        if(length(csv_files) == 0) {\n",
    "            warning('No se encontró el archivo CSV en ', unzip_dir)\n",
    "            return(NULL) \n",
    "        }\n",
    "\n",
    "        df_list <- list()\n",
    "\n",
    "        for(csv_file in csv_files) {\n",
    "            nombre <- file_path_sans_ext(basename(csv_file))\n",
    "            tipo <- NA\n",
    "\n",
    "            if (str_detect(nombre, 'COE1T?')) {\n",
    "                tipo <- 'COE1'\n",
    "                } else if (str_detect(nombre, 'COE2T?')) {\n",
    "                    tipo <- 'COE2'\n",
    "                    } else if (str_detect(nombre, 'HOGT?')) {\n",
    "                        tipo <- 'HOG'\n",
    "                        } else if (str_detect(nombre, 'SDEMT?')) {\n",
    "                            tipo <- 'SDEM'\n",
    "                            } else if (str_detect(nombre, 'VIVT?')) {\n",
    "                                tipo <- 'VIV'\n",
    "                                \n",
    "                                }\n",
    "\n",
    "            if(!is.na(tipo)) {\n",
    "                df <- tryCatch({\n",
    "                    read_csv(csv_file, show_col_types = FALSE) %>% clean_names()\n",
    "                }, error = function(e) {\n",
    "                    warning('Error al leer el archivo CSV de ', csv_file)\n",
    "                    return(NULL) \n",
    "                })\n",
    "                \n",
    "                if(!is.null(df)) {\n",
    "                    df_list[[tipo]] <- df\n",
    "                }\n",
    "            } \n",
    "                    \n",
    "        }\n",
    "        \n",
    "    return(df_list)\n",
    "    \n",
    "    }\n",
    "    \n",
    "    #iterar los años y trimestres de descarga    \n",
    "    for(year in 21:22) {\n",
    "        year_str <- paste0('20', year)\n",
    "        data_list[[year_str]] <- list()\n",
    "        \n",
    "        for(trim in 1:4) {\n",
    "        url <- paste0('https://www.inegi.org.mx/contenidos/programas/enoe/15ymas/microdatos/enoe_n_20', year, '_trim', trim, '_csv.zip')\n",
    "        \n",
    "        df <- descargar_extraer(url, year_str, trim)\n",
    "\n",
    "        if(!is.null(df)) {\n",
    "            data_list[[year_str]][[paste0('trim', trim)]] <- df\n",
    "        }\n",
    "    }\n",
    "\n",
    "    }\n",
    "    \n",
    "    for(year in 23:24) {\n",
    "        year_str <- paste0('20', year)\n",
    "        data_list[[year_str]] <- list()\n",
    "        \n",
    "        for(trim in 1:4) {\n",
    "        url <- paste0('https://www.inegi.org.mx/contenidos/programas/enoe/15ymas/microdatos/enoe_20', year, '_trim', trim, '_csv.zip')\n",
    "                \n",
    "        df <- descargar_extraer(url, year_str, trim)\n",
    "        \n",
    "        if(!is.null(df)) {\n",
    "            data_list[[year_str]][[paste0('trim', trim)]] <- df\n",
    "        }\n",
    "    \n",
    "    }\n",
    "\n",
    "    } \n",
    "    \n",
    "    save(data_list, file = 'Microdatos/data_list.RData')\n",
    "\n",
    "\n",
    "    return(data_list)\n",
    "\n",
    "}"
   ]
  },
  {
   "cell_type": "markdown",
   "metadata": {},
   "source": [
    "Advertencia: Correr la función para descargar los datos solamente una vez"
   ]
  },
  {
   "cell_type": "code",
   "execution_count": null,
   "metadata": {
    "vscode": {
     "languageId": "r"
    }
   },
   "outputs": [
    {
     "ename": "",
     "evalue": "",
     "output_type": "error",
     "traceback": [
      "\u001b[1;31mThe Kernel crashed while executing code in the current cell or a previous cell. \n",
      "\u001b[1;31mPlease review the code in the cell(s) to identify a possible cause of the failure. \n",
      "\u001b[1;31mClick <a href='https://aka.ms/vscodeJupyterKernelCrash'>here</a> for more info. \n",
      "\u001b[1;31mView Jupyter <a href='command:jupyter.viewOutput'>log</a> for further details."
     ]
    }
   ],
   "source": [
    "invisible(descargar_enoe_csv())"
   ]
  },
  {
   "cell_type": "markdown",
   "metadata": {},
   "source": [
    "Cargar la lista de datos guardada para no tener que descargarla nuevamente "
   ]
  },
  {
   "cell_type": "code",
   "execution_count": 5,
   "metadata": {
    "vscode": {
     "languageId": "r"
    }
   },
   "outputs": [],
   "source": [
    "load(\"Microdatos/data_list.RData\")"
   ]
  },
  {
   "cell_type": "code",
   "execution_count": 6,
   "metadata": {
    "vscode": {
     "languageId": "r"
    }
   },
   "outputs": [
    {
     "name": "stdout",
     "output_type": "stream",
     "text": [
      "spc_tbl_ [422,408 × 114] (S3: spec_tbl_df/tbl_df/tbl/data.frame)\n",
      " $ r_def     : num [1:422408] 0 0 0 0 0 0 0 0 0 0 ...\n",
      " $ loc       : logi [1:422408] NA NA NA NA NA NA ...\n",
      " $ mun       : num [1:422408] 17 13 10 15 7 5 31 NA 20 31 ...\n",
      " $ est       : num [1:422408] 30 20 30 30 20 30 20 20 40 20 ...\n",
      " $ est_d_tri : num [1:422408] 124 677 678 678 677 678 204 210 206 804 ...\n",
      " $ est_d_men : num [1:422408] 124 647 647 656 647 656 204 210 206 755 ...\n",
      " $ ageb      : num [1:422408] 0 0 0 0 0 0 0 0 0 0 ...\n",
      " $ t_loc_tri : num [1:422408] 1 1 1 1 1 1 1 3 1 1 ...\n",
      " $ t_loc_men : num [1:422408] 1 1 1 1 1 1 1 3 1 1 ...\n",
      " $ cd_a      : num [1:422408] 1 1 1 1 1 1 1 1 1 1 ...\n",
      " $ ent       : num [1:422408] 9 9 9 9 9 9 15 15 15 15 ...\n",
      " $ con       : num [1:422408] 40059 40155 40192 40204 40414 ...\n",
      " $ upm       : num [1:422408] 919939 916082 912642 917947 921598 ...\n",
      " $ d_sem     : num [1:422408] 102 406 405 410 206 210 503 503 105 206 ...\n",
      " $ n_pro_viv : num [1:422408] 65 24 80 34 100 129 48 65 389 111 ...\n",
      " $ v_sel     : num [1:422408] 4 52 54 52 55 52 3 3 5 55 ...\n",
      " $ n_hog     : num [1:422408] 1 1 1 1 1 2 1 1 1 1 ...\n",
      " $ h_mud     : num [1:422408] 0 0 0 0 0 0 0 0 0 0 ...\n",
      " $ n_ent     : num [1:422408] 4 1 1 1 3 3 5 5 4 3 ...\n",
      " $ per       : num [1:422408] 424 424 424 424 424 424 424 424 424 424 ...\n",
      " $ n_ren     : num [1:422408] 4 3 1 2 4 3 4 1 2 4 ...\n",
      " $ c_res     : num [1:422408] 2 1 1 1 1 2 1 1 1 1 ...\n",
      " $ par_c     : num [1:422408] NA 301 101 408 408 NA 301 101 201 301 ...\n",
      " $ sex       : num [1:422408] NA 1 2 2 2 NA 2 1 2 1 ...\n",
      " $ eda       : num [1:422408] NA 36 91 24 21 NA 22 51 51 13 ...\n",
      " $ nac_dia   : num [1:422408] NA 9 24 4 99 NA 25 8 30 17 ...\n",
      " $ nac_mes   : num [1:422408] NA 99 7 9 1 NA 6 10 12 12 ...\n",
      " $ nac_anio  : num [1:422408] NA 1988 1933 2000 2003 ...\n",
      " $ l_nac_c   : num [1:422408] NA 9 9 9 9 NA 15 15 9 15 ...\n",
      " $ cs_p12    : num [1:422408] NA 1 1 1 1 NA 1 1 1 1 ...\n",
      " $ cs_p13_1  : num [1:422408] NA 4 2 7 4 NA 7 7 6 3 ...\n",
      " $ cs_p13_2  : num [1:422408] NA 3 3 4 3 NA 1 4 3 1 ...\n",
      " $ cs_p14_c  : num [1:422408] NA NA NA 22500 NA ...\n",
      " $ cs_p15    : num [1:422408] NA NA NA 3 NA NA 3 3 2 NA ...\n",
      " $ cs_p16    : num [1:422408] NA NA NA 1 NA NA 2 1 1 NA ...\n",
      " $ cs_p17    : num [1:422408] NA 2 2 2 2 NA 1 2 2 1 ...\n",
      " $ n_hij     : num [1:422408] NA NA 6 0 0 NA 0 NA 2 NA ...\n",
      " $ e_con     : num [1:422408] NA 1 4 6 6 NA 6 5 5 6 ...\n",
      " $ cs_p20a_1 : num [1:422408] NA 1 1 1 1 NA 1 1 1 1 ...\n",
      " $ cs_p20a_c : num [1:422408] NA 9 9 9 9 NA 15 15 15 15 ...\n",
      " $ cs_p20b_1 : num [1:422408] NA 1 1 1 1 NA 1 1 1 1 ...\n",
      " $ cs_p20b_c : num [1:422408] NA 13 10 15 7 NA 31 69 20 31 ...\n",
      " $ cs_p20c_1 : num [1:422408] NA NA NA NA NA NA NA NA NA NA ...\n",
      " $ cs_ad_mot : num [1:422408] 10 NA NA NA NA 99 NA NA NA NA ...\n",
      " $ cs_p21_des: chr [1:422408] \"SE REGRESA A SU CASA\" NA NA NA ...\n",
      " $ cs_ad_des : num [1:422408] 1 NA NA NA NA 9 NA NA NA NA ...\n",
      " $ cs_nr_mot : num [1:422408] NA NA NA NA NA NA NA NA NA NA ...\n",
      " $ cs_p23_des: logi [1:422408] NA NA NA NA NA NA ...\n",
      " $ cs_nr_ori : num [1:422408] NA NA NA NA NA NA NA NA NA NA ...\n",
      " $ ur        : num [1:422408] 1 1 1 1 1 1 1 1 1 1 ...\n",
      " $ zona      : num [1:422408] 2 2 2 2 2 2 2 2 2 2 ...\n",
      " $ salario   : num [1:422408] 7468 7468 7468 7468 7468 ...\n",
      " $ fac_tri   : num [1:422408] 0 1037 847 774 898 ...\n",
      " $ fac_men   : num [1:422408] 0 3219 3630 2514 2787 ...\n",
      " $ clase1    : num [1:422408] 0 1 2 1 1 0 2 1 2 2 ...\n",
      " $ clase2    : num [1:422408] 0 1 3 1 1 0 4 1 4 4 ...\n",
      " $ clase3    : num [1:422408] 0 1 0 1 1 0 0 1 0 0 ...\n",
      " $ pos_ocu   : num [1:422408] 0 3 0 1 1 0 0 1 0 0 ...\n",
      " $ seg_soc   : num [1:422408] 0 2 0 2 1 0 0 1 0 0 ...\n",
      " $ rama      : num [1:422408] 0 3 0 4 4 0 0 4 0 0 ...\n",
      " $ c_ocu11c  : num [1:422408] 0 6 0 4 4 0 0 2 0 0 ...\n",
      " $ ing7c     : num [1:422408] 0 7 0 1 2 0 0 7 0 0 ...\n",
      " $ dur9c     : num [1:422408] 0 5 0 8 7 0 0 6 0 0 ...\n",
      " $ emple7c   : num [1:422408] 0 1 0 2 6 0 0 5 0 0 ...\n",
      " $ medica5c  : num [1:422408] 0 1 0 1 3 0 0 3 0 0 ...\n",
      " $ buscar5c  : num [1:422408] 0 4 0 4 4 0 0 4 0 0 ...\n",
      " $ rama_est1 : num [1:422408] 0 3 0 3 3 0 0 3 0 0 ...\n",
      " $ rama_est2 : num [1:422408] 0 5 0 6 8 0 0 9 0 0 ...\n",
      " $ dur_est   : num [1:422408] 0 4 0 5 5 0 0 4 0 0 ...\n",
      " $ ambito1   : num [1:422408] 0 2 0 2 2 0 0 2 0 0 ...\n",
      " $ ambito2   : num [1:422408] 0 3 0 3 5 0 0 4 0 0 ...\n",
      " $ tue1      : num [1:422408] 0 3 0 1 1 0 0 2 0 0 ...\n",
      " $ tue2      : num [1:422408] 0 5 0 2 1 0 0 4 0 0 ...\n",
      " $ tue3      : num [1:422408] 0 0 0 0 0 0 0 1 0 0 ...\n",
      " $ busqueda  : num [1:422408] 0 2 0 2 2 0 0 2 0 0 ...\n",
      " $ d_ant_lab : num [1:422408] 0 0 0 0 0 0 0 0 0 0 ...\n",
      " $ d_cexp_est: num [1:422408] 0 0 0 0 0 0 0 0 0 0 ...\n",
      " $ dur_des   : num [1:422408] 0 0 0 0 0 0 0 0 0 0 ...\n",
      " $ sub_o     : num [1:422408] 0 1 0 0 0 0 0 0 0 0 ...\n",
      " $ s_clasifi : num [1:422408] 0 2 0 0 0 0 0 0 0 0 ...\n",
      " $ remune2c  : num [1:422408] 0 0 0 1 1 0 0 1 0 0 ...\n",
      " $ pre_asa   : num [1:422408] 0 0 0 2 1 0 0 1 0 0 ...\n",
      " $ tip_con   : num [1:422408] 0 0 0 5 3 0 0 3 0 0 ...\n",
      " $ dispo     : num [1:422408] 0 0 4 0 0 0 0 0 0 0 ...\n",
      " $ nodispo   : num [1:422408] 0 0 0 0 0 0 3 0 3 3 ...\n",
      " $ c_inac5c  : num [1:422408] 0 0 2 0 0 0 1 0 2 1 ...\n",
      " $ pnea_est  : num [1:422408] 0 0 2 0 0 0 4 0 4 4 ...\n",
      " $ niv_ins   : num [1:422408] 0 4 1 4 4 0 4 4 3 2 ...\n",
      " $ eda5c     : num [1:422408] 0 2 4 1 1 0 1 3 3 0 ...\n",
      " $ eda7c     : num [1:422408] 0 3 6 2 2 0 2 5 5 0 ...\n",
      " $ eda12c    : num [1:422408] 0 5 11 2 2 0 2 8 8 0 ...\n",
      " $ eda19c    : num [1:422408] 0 10 18 7 7 0 7 13 13 5 ...\n",
      " $ hij5c     : num [1:422408] 0 0 4 1 1 0 1 0 2 0 ...\n",
      " $ domestico : num [1:422408] 0 4 8 1 3 0 7 3 8 7 ...\n",
      " $ anios_esc : num [1:422408] 0 12 3 16 12 0 13 16 12 7 ...\n",
      " $ hrsocup   : num [1:422408] 0 36 0 59 51 0 0 40 0 0 ...\n",
      " $ ingocup   : num [1:422408] 0 0 0 0 8500 0 0 0 0 0 ...\n",
      " $ ing_x_hrs : num [1:422408] 0 0 0 0 38.8 ...\n",
      " $ tpg_p8a   : num [1:422408] 0 0 0 0 0 0 0 0 0 0 ...\n",
      "  [list output truncated]\n",
      " - attr(*, \"spec\")=\n",
      "  .. cols(\n",
      "  ..   r_def = \u001b[32mcol_double()\u001b[39m,\n",
      "  ..   loc = \u001b[33mcol_logical()\u001b[39m,\n",
      "  ..   mun = \u001b[32mcol_double()\u001b[39m,\n",
      "  ..   est = \u001b[32mcol_double()\u001b[39m,\n",
      "  ..   est_d_tri = \u001b[32mcol_double()\u001b[39m,\n",
      "  ..   est_d_men = \u001b[32mcol_double()\u001b[39m,\n",
      "  ..   ageb = \u001b[32mcol_double()\u001b[39m,\n",
      "  ..   t_loc_tri = \u001b[32mcol_double()\u001b[39m,\n",
      "  ..   t_loc_men = \u001b[32mcol_double()\u001b[39m,\n",
      "  ..   cd_a = \u001b[32mcol_double()\u001b[39m,\n",
      "  ..   ent = \u001b[32mcol_double()\u001b[39m,\n",
      "  ..   con = \u001b[32mcol_double()\u001b[39m,\n",
      "  ..   upm = \u001b[32mcol_double()\u001b[39m,\n",
      "  ..   d_sem = \u001b[32mcol_double()\u001b[39m,\n",
      "  ..   n_pro_viv = \u001b[32mcol_double()\u001b[39m,\n",
      "  ..   v_sel = \u001b[32mcol_double()\u001b[39m,\n",
      "  ..   n_hog = \u001b[32mcol_double()\u001b[39m,\n",
      "  ..   h_mud = \u001b[32mcol_double()\u001b[39m,\n",
      "  ..   n_ent = \u001b[32mcol_double()\u001b[39m,\n",
      "  ..   per = \u001b[32mcol_double()\u001b[39m,\n",
      "  ..   n_ren = \u001b[32mcol_double()\u001b[39m,\n",
      "  ..   c_res = \u001b[32mcol_double()\u001b[39m,\n",
      "  ..   par_c = \u001b[32mcol_double()\u001b[39m,\n",
      "  ..   sex = \u001b[32mcol_double()\u001b[39m,\n",
      "  ..   eda = \u001b[32mcol_double()\u001b[39m,\n",
      "  ..   nac_dia = \u001b[32mcol_double()\u001b[39m,\n",
      "  ..   nac_mes = \u001b[32mcol_double()\u001b[39m,\n",
      "  ..   nac_anio = \u001b[32mcol_double()\u001b[39m,\n",
      "  ..   l_nac_c = \u001b[32mcol_double()\u001b[39m,\n",
      "  ..   cs_p12 = \u001b[32mcol_double()\u001b[39m,\n",
      "  ..   cs_p13_1 = \u001b[32mcol_double()\u001b[39m,\n",
      "  ..   cs_p13_2 = \u001b[32mcol_double()\u001b[39m,\n",
      "  ..   cs_p14_c = \u001b[32mcol_double()\u001b[39m,\n",
      "  ..   cs_p15 = \u001b[32mcol_double()\u001b[39m,\n",
      "  ..   cs_p16 = \u001b[32mcol_double()\u001b[39m,\n",
      "  ..   cs_p17 = \u001b[32mcol_double()\u001b[39m,\n",
      "  ..   n_hij = \u001b[32mcol_double()\u001b[39m,\n",
      "  ..   e_con = \u001b[32mcol_double()\u001b[39m,\n",
      "  ..   cs_p20a_1 = \u001b[32mcol_double()\u001b[39m,\n",
      "  ..   cs_p20a_c = \u001b[32mcol_double()\u001b[39m,\n",
      "  ..   cs_p20b_1 = \u001b[32mcol_double()\u001b[39m,\n",
      "  ..   cs_p20b_c = \u001b[32mcol_double()\u001b[39m,\n",
      "  ..   cs_p20c_1 = \u001b[32mcol_double()\u001b[39m,\n",
      "  ..   cs_ad_mot = \u001b[32mcol_double()\u001b[39m,\n",
      "  ..   cs_p21_des = \u001b[31mcol_character()\u001b[39m,\n",
      "  ..   cs_ad_des = \u001b[32mcol_double()\u001b[39m,\n",
      "  ..   cs_nr_mot = \u001b[32mcol_double()\u001b[39m,\n",
      "  ..   cs_p23_des = \u001b[33mcol_logical()\u001b[39m,\n",
      "  ..   cs_nr_ori = \u001b[32mcol_double()\u001b[39m,\n",
      "  ..   ur = \u001b[32mcol_double()\u001b[39m,\n",
      "  ..   zona = \u001b[32mcol_double()\u001b[39m,\n",
      "  ..   salario = \u001b[32mcol_double()\u001b[39m,\n",
      "  ..   fac_tri = \u001b[32mcol_double()\u001b[39m,\n",
      "  ..   fac_men = \u001b[32mcol_double()\u001b[39m,\n",
      "  ..   clase1 = \u001b[32mcol_double()\u001b[39m,\n",
      "  ..   clase2 = \u001b[32mcol_double()\u001b[39m,\n",
      "  ..   clase3 = \u001b[32mcol_double()\u001b[39m,\n",
      "  ..   pos_ocu = \u001b[32mcol_double()\u001b[39m,\n",
      "  ..   seg_soc = \u001b[32mcol_double()\u001b[39m,\n",
      "  ..   rama = \u001b[32mcol_double()\u001b[39m,\n",
      "  ..   c_ocu11c = \u001b[32mcol_double()\u001b[39m,\n",
      "  ..   ing7c = \u001b[32mcol_double()\u001b[39m,\n",
      "  ..   dur9c = \u001b[32mcol_double()\u001b[39m,\n",
      "  ..   emple7c = \u001b[32mcol_double()\u001b[39m,\n",
      "  ..   medica5c = \u001b[32mcol_double()\u001b[39m,\n",
      "  ..   buscar5c = \u001b[32mcol_double()\u001b[39m,\n",
      "  ..   rama_est1 = \u001b[32mcol_double()\u001b[39m,\n",
      "  ..   rama_est2 = \u001b[32mcol_double()\u001b[39m,\n",
      "  ..   dur_est = \u001b[32mcol_double()\u001b[39m,\n",
      "  ..   ambito1 = \u001b[32mcol_double()\u001b[39m,\n",
      "  ..   ambito2 = \u001b[32mcol_double()\u001b[39m,\n",
      "  ..   tue1 = \u001b[32mcol_double()\u001b[39m,\n",
      "  ..   tue2 = \u001b[32mcol_double()\u001b[39m,\n",
      "  ..   tue3 = \u001b[32mcol_double()\u001b[39m,\n",
      "  ..   busqueda = \u001b[32mcol_double()\u001b[39m,\n",
      "  ..   d_ant_lab = \u001b[32mcol_double()\u001b[39m,\n",
      "  ..   d_cexp_est = \u001b[32mcol_double()\u001b[39m,\n",
      "  ..   dur_des = \u001b[32mcol_double()\u001b[39m,\n",
      "  ..   sub_o = \u001b[32mcol_double()\u001b[39m,\n",
      "  ..   s_clasifi = \u001b[32mcol_double()\u001b[39m,\n",
      "  ..   remune2c = \u001b[32mcol_double()\u001b[39m,\n",
      "  ..   pre_asa = \u001b[32mcol_double()\u001b[39m,\n",
      "  ..   tip_con = \u001b[32mcol_double()\u001b[39m,\n",
      "  ..   dispo = \u001b[32mcol_double()\u001b[39m,\n",
      "  ..   nodispo = \u001b[32mcol_double()\u001b[39m,\n",
      "  ..   c_inac5c = \u001b[32mcol_double()\u001b[39m,\n",
      "  ..   pnea_est = \u001b[32mcol_double()\u001b[39m,\n",
      "  ..   niv_ins = \u001b[32mcol_double()\u001b[39m,\n",
      "  ..   eda5c = \u001b[32mcol_double()\u001b[39m,\n",
      "  ..   eda7c = \u001b[32mcol_double()\u001b[39m,\n",
      "  ..   eda12c = \u001b[32mcol_double()\u001b[39m,\n",
      "  ..   eda19c = \u001b[32mcol_double()\u001b[39m,\n",
      "  ..   hij5c = \u001b[32mcol_double()\u001b[39m,\n",
      "  ..   domestico = \u001b[32mcol_double()\u001b[39m,\n",
      "  ..   anios_esc = \u001b[32mcol_double()\u001b[39m,\n",
      "  ..   hrsocup = \u001b[32mcol_double()\u001b[39m,\n",
      "  ..   ingocup = \u001b[32mcol_double()\u001b[39m,\n",
      "  ..   ing_x_hrs = \u001b[32mcol_double()\u001b[39m,\n",
      "  ..   tpg_p8a = \u001b[32mcol_double()\u001b[39m,\n",
      "  ..   tcco = \u001b[32mcol_double()\u001b[39m,\n",
      "  ..   cp_anoc = \u001b[32mcol_double()\u001b[39m,\n",
      "  ..   imssissste = \u001b[32mcol_double()\u001b[39m,\n",
      "  ..   ma48me1sm = \u001b[32mcol_double()\u001b[39m,\n",
      "  ..   p14apoyos = \u001b[32mcol_double()\u001b[39m,\n",
      "  ..   scian = \u001b[32mcol_double()\u001b[39m,\n",
      "  ..   t_tra = \u001b[32mcol_double()\u001b[39m,\n",
      "  ..   emp_ppal = \u001b[32mcol_double()\u001b[39m,\n",
      "  ..   tue_ppal = \u001b[32mcol_double()\u001b[39m,\n",
      "  ..   trans_ppal = \u001b[32mcol_double()\u001b[39m,\n",
      "  ..   mh_fil2 = \u001b[32mcol_double()\u001b[39m,\n",
      "  ..   mh_col = \u001b[32mcol_double()\u001b[39m,\n",
      "  ..   sec_ins = \u001b[32mcol_double()\u001b[39m,\n",
      "  ..   tipo = \u001b[32mcol_double()\u001b[39m,\n",
      "  ..   mes_cal = \u001b[32mcol_double()\u001b[39m\n",
      "  .. )\n",
      " - attr(*, \"problems\")=<externalptr> \n"
     ]
    }
   ],
   "source": [
    "#Confirmar que la estructura de las listas de datos estén bien\n",
    "str(data_list$'2024'$'trim4'$'SDEM')"
   ]
  },
  {
   "cell_type": "markdown",
   "metadata": {},
   "source": [
    "Población Económicamente Activa (PEA) de la Ciudad de México"
   ]
  },
  {
   "cell_type": "code",
   "execution_count": 56,
   "metadata": {
    "vscode": {
     "languageId": "r"
    }
   },
   "outputs": [],
   "source": [
    "PEA <- list()"
   ]
  },
  {
   "cell_type": "code",
   "execution_count": 73,
   "metadata": {
    "vscode": {
     "languageId": "r"
    }
   },
   "outputs": [],
   "source": [
    "# Función para calcular población económicamente activa\n",
    "calculo_pea <- function(data_list) {\n",
    "  for (year in names(data_list)) {\n",
    "    for (trim in names(data_list[[year]])) {\n",
    "      if (!'SDEM' %in% names(data_list[[year]][[trim]])) next\n",
    "\n",
    "      df <- data_list[[year]][[trim]][['SDEM']] %>%\n",
    "        clean_names() %>%\n",
    "        mutate(edad = as.numeric(eda)) %>%\n",
    "        filter(r_def == 0, (c_res == 1 | c_res == 3), edad >= 15 & edad <= 98, ent == 9)\n",
    "\n",
    "        pea <- df %>%\n",
    "        filter(clase1 == 1) %>%\n",
    "        summarise(total_pea = sum(fac_tri, na.rm = TRUE)) %>%\n",
    "        pull(total_pea)\n",
    "\n",
    "        PEA[[paste0('promedio_', year, '_', trim)]] <<- tibble(\n",
    "          year = as.integer(year),\n",
    "          trimestre = trim,\n",
    "          total_pea = pea)\n",
    "\n",
    "    }\n",
    "  }\n",
    "}\n",
    "\n",
    "# Ejecutar función sin mostrar resultados intermedios\n",
    "invisible(calculo_pea(data_list))"
   ]
  },
  {
   "cell_type": "code",
   "execution_count": 74,
   "metadata": {
    "vscode": {
     "languageId": "r"
    }
   },
   "outputs": [
    {
     "name": "stdout",
     "output_type": "stream",
     "text": [
      "\u001b[90m# A tibble: 16 × 3\u001b[39m\n",
      "    year trimestre total_pea\n",
      "   \u001b[3m\u001b[90m<int>\u001b[39m\u001b[23m \u001b[3m\u001b[90m<fct>\u001b[39m\u001b[23m         \u001b[3m\u001b[90m<dbl>\u001b[39m\u001b[23m\n",
      "\u001b[90m 1\u001b[39m  \u001b[4m2\u001b[24m021 trim1       4\u001b[4m1\u001b[24m\u001b[4m7\u001b[24m\u001b[4m5\u001b[24m657\n",
      "\u001b[90m 2\u001b[39m  \u001b[4m2\u001b[24m021 trim2       4\u001b[4m4\u001b[24m\u001b[4m3\u001b[24m\u001b[4m9\u001b[24m594\n",
      "\u001b[90m 3\u001b[39m  \u001b[4m2\u001b[24m021 trim3       4\u001b[4m7\u001b[24m\u001b[4m2\u001b[24m\u001b[4m4\u001b[24m127\n",
      "\u001b[90m 4\u001b[39m  \u001b[4m2\u001b[24m021 trim4       4\u001b[4m7\u001b[24m\u001b[4m4\u001b[24m\u001b[4m4\u001b[24m648\n",
      "\u001b[90m 5\u001b[39m  \u001b[4m2\u001b[24m022 trim1       4\u001b[4m6\u001b[24m\u001b[4m5\u001b[24m\u001b[4m8\u001b[24m108\n",
      "\u001b[90m 6\u001b[39m  \u001b[4m2\u001b[24m022 trim2       4\u001b[4m7\u001b[24m\u001b[4m9\u001b[24m\u001b[4m3\u001b[24m126\n",
      "\u001b[90m 7\u001b[39m  \u001b[4m2\u001b[24m022 trim3       4\u001b[4m7\u001b[24m\u001b[4m9\u001b[24m\u001b[4m8\u001b[24m534\n",
      "\u001b[90m 8\u001b[39m  \u001b[4m2\u001b[24m022 trim4       4\u001b[4m9\u001b[24m\u001b[4m2\u001b[24m\u001b[4m1\u001b[24m131\n",
      "\u001b[90m 9\u001b[39m  \u001b[4m2\u001b[24m023 trim1       4\u001b[4m8\u001b[24m\u001b[4m7\u001b[24m\u001b[4m6\u001b[24m283\n",
      "\u001b[90m10\u001b[39m  \u001b[4m2\u001b[24m023 trim2       4\u001b[4m9\u001b[24m\u001b[4m2\u001b[24m\u001b[4m4\u001b[24m263\n",
      "\u001b[90m11\u001b[39m  \u001b[4m2\u001b[24m023 trim3       4\u001b[4m9\u001b[24m\u001b[4m1\u001b[24m\u001b[4m2\u001b[24m263\n",
      "\u001b[90m12\u001b[39m  \u001b[4m2\u001b[24m023 trim4       4\u001b[4m8\u001b[24m\u001b[4m4\u001b[24m\u001b[4m7\u001b[24m179\n",
      "\u001b[90m13\u001b[39m  \u001b[4m2\u001b[24m024 trim1       4\u001b[4m9\u001b[24m\u001b[4m1\u001b[24m\u001b[4m0\u001b[24m037\n",
      "\u001b[90m14\u001b[39m  \u001b[4m2\u001b[24m024 trim2       5\u001b[4m0\u001b[24m\u001b[4m3\u001b[24m\u001b[4m7\u001b[24m773\n",
      "\u001b[90m15\u001b[39m  \u001b[4m2\u001b[24m024 trim3       5\u001b[4m0\u001b[24m\u001b[4m9\u001b[24m\u001b[4m6\u001b[24m702\n",
      "\u001b[90m16\u001b[39m  \u001b[4m2\u001b[24m024 trim4       5\u001b[4m2\u001b[24m\u001b[4m1\u001b[24m\u001b[4m8\u001b[24m209\n"
     ]
    }
   ],
   "source": [
    "pea_final <- bind_rows(PEA) %>%\n",
    "mutate(trimestre = factor(trimestre, levels = c('trim1', 'trim2', 'trim3', 'trim4'))) %>%\n",
    "arrange(year, trimestre) \n",
    "\n",
    "print(pea_final)"
   ]
  },
  {
   "cell_type": "code",
   "execution_count": 76,
   "metadata": {
    "vscode": {
     "languageId": "r"
    }
   },
   "outputs": [],
   "source": [
    "write.csv(pea_final, 'Visor_CDMX/Historico_PEA.csv', row.names = FALSE)"
   ]
  },
  {
   "cell_type": "markdown",
   "metadata": {},
   "source": [
    "Personal ocupado en restaurantes y servicios de alojamiento"
   ]
  },
  {
   "cell_type": "code",
   "execution_count": 25,
   "metadata": {
    "vscode": {
     "languageId": "r"
    }
   },
   "outputs": [],
   "source": [
    "Variables <- list() #Lista para filtrar y seleccionar las variables que necesitamos\n",
    "PobTot <- list() #Lista para vaciar valores de pob_total\n",
    "Turismo <- list() #Lista para vaciar los valores de población ocupada en turismo"
   ]
  },
  {
   "cell_type": "code",
   "execution_count": 26,
   "metadata": {
    "vscode": {
     "languageId": "r"
    }
   },
   "outputs": [],
   "source": [
    "# Función para calcular población ocupada y en turismo\n",
    "calculo_turismo <- function(data_list) {\n",
    "  for (year in names(data_list)) {\n",
    "    for (trim in names(data_list[[year]])) {\n",
    "      if (!'SDEM' %in% names(data_list[[year]][[trim]])) next\n",
    "\n",
    "      df <- data_list[[year]][[trim]][['SDEM']] %>%\n",
    "        clean_names() %>%\n",
    "        mutate(edad = as.numeric(eda)) %>%\n",
    "        filter(r_def == 0, (c_res == 1 | c_res == 3), edad >= 15 & edad <= 98) %>%\n",
    "        filter(clase2 == 1, ent == 9)\n",
    "\n",
    "      # Guardar nombres y df completo por si se necesita\n",
    "      Variables[[paste0(\"v\", year, \"_\", trim)]] <<- names(df)\n",
    "      PobTot[[paste0(\"pob_total_\", year, \"_\", trim)]] <<- df\n",
    "\n",
    "      # Calcular turismo dentro del mismo DF\n",
    "      df_turismo <- df %>%\n",
    "        filter(rama_est2 == 6) %>%\n",
    "        mutate(sector = \"Turismo\")\n",
    "\n",
    "      total_sector <- sum(df_turismo$fac_tri, na.rm = TRUE)\n",
    "      total_pob <- sum(df$fac_tri, na.rm = TRUE)\n",
    "      porcentaje <- (total_sector / total_pob) * 100\n",
    "\n",
    "      Turismo[[paste0(\"turismo_\", year, \"_\", trim)]] <<- tibble(\n",
    "        year = as.integer(year),\n",
    "        trimestre = trim,\n",
    "        sector = \"Turismo\",\n",
    "        total_sector = total_sector,\n",
    "        pob_total = total_pob,\n",
    "        porcentaje = porcentaje\n",
    "      )\n",
    "    }\n",
    "  }\n",
    "}\n",
    "\n",
    "# Ejecutar función sin mostrar resultados intermedios\n",
    "invisible(calculo_turismo(data_list))\n"
   ]
  },
  {
   "cell_type": "code",
   "execution_count": 27,
   "metadata": {
    "vscode": {
     "languageId": "r"
    }
   },
   "outputs": [
    {
     "name": "stdout",
     "output_type": "stream",
     "text": [
      "\u001b[90m# A tibble: 16 × 6\u001b[39m\n",
      "    year trimestre sector  total_sector pob_total porcentaje\n",
      "   \u001b[3m\u001b[90m<int>\u001b[39m\u001b[23m \u001b[3m\u001b[90m<fct>\u001b[39m\u001b[23m     \u001b[3m\u001b[90m<chr>\u001b[39m\u001b[23m          \u001b[3m\u001b[90m<dbl>\u001b[39m\u001b[23m     \u001b[3m\u001b[90m<dbl>\u001b[39m\u001b[23m      \u001b[3m\u001b[90m<dbl>\u001b[39m\u001b[23m\n",
      "\u001b[90m 1\u001b[39m  \u001b[4m2\u001b[24m021 trim1     Turismo       \u001b[4m2\u001b[24m\u001b[4m6\u001b[24m\u001b[4m1\u001b[24m883   3\u001b[4m8\u001b[24m\u001b[4m7\u001b[24m\u001b[4m0\u001b[24m454       6.77\n",
      "\u001b[90m 2\u001b[39m  \u001b[4m2\u001b[24m021 trim2     Turismo       \u001b[4m2\u001b[24m\u001b[4m9\u001b[24m\u001b[4m3\u001b[24m719   4\u001b[4m1\u001b[24m\u001b[4m1\u001b[24m\u001b[4m7\u001b[24m427       7.13\n",
      "\u001b[90m 3\u001b[39m  \u001b[4m2\u001b[24m021 trim3     Turismo       \u001b[4m3\u001b[24m\u001b[4m4\u001b[24m\u001b[4m9\u001b[24m317   4\u001b[4m3\u001b[24m\u001b[4m9\u001b[24m\u001b[4m3\u001b[24m859       7.95\n",
      "\u001b[90m 4\u001b[39m  \u001b[4m2\u001b[24m021 trim4     Turismo       \u001b[4m3\u001b[24m\u001b[4m9\u001b[24m\u001b[4m1\u001b[24m733   4\u001b[4m4\u001b[24m\u001b[4m6\u001b[24m\u001b[4m5\u001b[24m106       8.77\n",
      "\u001b[90m 5\u001b[39m  \u001b[4m2\u001b[24m022 trim1     Turismo       \u001b[4m3\u001b[24m\u001b[4m5\u001b[24m\u001b[4m4\u001b[24m675   4\u001b[4m3\u001b[24m\u001b[4m8\u001b[24m\u001b[4m5\u001b[24m718       8.09\n",
      "\u001b[90m 6\u001b[39m  \u001b[4m2\u001b[24m022 trim2     Turismo       \u001b[4m4\u001b[24m\u001b[4m0\u001b[24m\u001b[4m2\u001b[24m309   4\u001b[4m5\u001b[24m\u001b[4m3\u001b[24m\u001b[4m4\u001b[24m376       8.87\n",
      "\u001b[90m 7\u001b[39m  \u001b[4m2\u001b[24m022 trim3     Turismo       \u001b[4m3\u001b[24m\u001b[4m6\u001b[24m\u001b[4m0\u001b[24m642   4\u001b[4m5\u001b[24m\u001b[4m4\u001b[24m\u001b[4m6\u001b[24m515       7.93\n",
      "\u001b[90m 8\u001b[39m  \u001b[4m2\u001b[24m022 trim4     Turismo       \u001b[4m3\u001b[24m\u001b[4m8\u001b[24m\u001b[4m1\u001b[24m627   4\u001b[4m6\u001b[24m\u001b[4m9\u001b[24m\u001b[4m8\u001b[24m174       8.12\n",
      "\u001b[90m 9\u001b[39m  \u001b[4m2\u001b[24m023 trim1     Turismo       \u001b[4m3\u001b[24m\u001b[4m4\u001b[24m\u001b[4m3\u001b[24m656   4\u001b[4m6\u001b[24m\u001b[4m9\u001b[24m\u001b[4m3\u001b[24m298       7.32\n",
      "\u001b[90m10\u001b[39m  \u001b[4m2\u001b[24m023 trim2     Turismo       \u001b[4m3\u001b[24m\u001b[4m5\u001b[24m\u001b[4m2\u001b[24m408   4\u001b[4m7\u001b[24m\u001b[4m0\u001b[24m\u001b[4m9\u001b[24m095       7.48\n",
      "\u001b[90m11\u001b[39m  \u001b[4m2\u001b[24m023 trim3     Turismo       \u001b[4m3\u001b[24m\u001b[4m7\u001b[24m\u001b[4m9\u001b[24m942   4\u001b[4m7\u001b[24m\u001b[4m1\u001b[24m\u001b[4m2\u001b[24m506       8.06\n",
      "\u001b[90m12\u001b[39m  \u001b[4m2\u001b[24m023 trim4     Turismo       \u001b[4m3\u001b[24m\u001b[4m8\u001b[24m\u001b[4m1\u001b[24m154   4\u001b[4m6\u001b[24m\u001b[4m5\u001b[24m\u001b[4m7\u001b[24m701       8.18\n",
      "\u001b[90m13\u001b[39m  \u001b[4m2\u001b[24m024 trim1     Turismo       \u001b[4m3\u001b[24m\u001b[4m5\u001b[24m\u001b[4m0\u001b[24m950   4\u001b[4m7\u001b[24m\u001b[4m1\u001b[24m\u001b[4m5\u001b[24m069       7.44\n",
      "\u001b[90m14\u001b[39m  \u001b[4m2\u001b[24m024 trim2     Turismo       \u001b[4m4\u001b[24m\u001b[4m1\u001b[24m\u001b[4m1\u001b[24m774   4\u001b[4m8\u001b[24m\u001b[4m3\u001b[24m\u001b[4m4\u001b[24m239       8.52\n",
      "\u001b[90m15\u001b[39m  \u001b[4m2\u001b[24m024 trim3     Turismo       \u001b[4m4\u001b[24m\u001b[4m1\u001b[24m\u001b[4m5\u001b[24m820   4\u001b[4m8\u001b[24m\u001b[4m9\u001b[24m\u001b[4m4\u001b[24m634       8.50\n",
      "\u001b[90m16\u001b[39m  \u001b[4m2\u001b[24m024 trim4     Turismo       \u001b[4m4\u001b[24m\u001b[4m3\u001b[24m\u001b[4m9\u001b[24m209   5\u001b[4m0\u001b[24m\u001b[4m1\u001b[24m\u001b[4m0\u001b[24m045       8.77\n"
     ]
    }
   ],
   "source": [
    "# Unir resultados finales\n",
    "turismo_final <- bind_rows(Turismo) %>%\n",
    "  mutate(trimestre = factor(trimestre, levels = c(\"trim1\", \"trim2\", \"trim3\", \"trim4\"))) %>%\n",
    "  arrange(year, trimestre)\n",
    "\n",
    "# Ver tabla final\n",
    "print(turismo_final)"
   ]
  },
  {
   "cell_type": "code",
   "execution_count": 10,
   "metadata": {
    "vscode": {
     "languageId": "r"
    }
   },
   "outputs": [],
   "source": [
    "write.csv(turismo_final, file = \"PGD/Historico_Personal_Ocup_Restau_Serv_Aloja.csv\", row.names = FALSE)"
   ]
  },
  {
   "cell_type": "markdown",
   "metadata": {},
   "source": [
    "Tasa de Ocupación en la Ciudad de México"
   ]
  },
  {
   "cell_type": "code",
   "execution_count": 11,
   "metadata": {
    "vscode": {
     "languageId": "r"
    }
   },
   "outputs": [],
   "source": [
    "TasaOcupa <- list() #Lista para vaciar los valores de población ocupada en turismo\n"
   ]
  },
  {
   "cell_type": "code",
   "execution_count": 12,
   "metadata": {
    "vscode": {
     "languageId": "r"
    }
   },
   "outputs": [],
   "source": [
    "# Función para calcular población ocupada y en turismo\n",
    "calculo_ocupacion <- function(data_list) {\n",
    "  for (year in names(data_list)) {\n",
    "    for (trim in names(data_list[[year]])) {\n",
    "      if (!'SDEM' %in% names(data_list[[year]][[trim]])) next\n",
    "\n",
    "      df <- data_list[[year]][[trim]][['SDEM']] %>%\n",
    "        clean_names() %>%\n",
    "        mutate(edad = as.numeric(eda)) %>%\n",
    "        filter(r_def == 0, (c_res == 1 | c_res == 3), edad >= 15 & edad <= 98, ent == 9)\n",
    "\n",
    "        pob_ocupada <- df %>%\n",
    "        filter(clase2 == 1) %>%\n",
    "        summarise(total_ocupa = sum(fac_tri, na.rm = TRUE)) %>%\n",
    "        pull(total_ocupa)\n",
    "\n",
    "        pea <- df %>%\n",
    "        filter(clase1 == 1) %>%\n",
    "        summarise(total_pea = sum(fac_tri, na.rm = TRUE)) %>%\n",
    "        pull(total_pea)\n",
    "\n",
    "        tasa <- (pob_ocupada/ pea) * 100\n",
    "        \n",
    "        TasaOcupa[[paste0('tasa_', year, '_', trim)]] <<- tibble(\n",
    "          year = as.integer(year),\n",
    "          trimestre = trim,\n",
    "          total_ocupa = pob_ocupada,\n",
    "          total_pea = pea,\n",
    "          tasa_ocupacion = tasa)\n",
    "\n",
    "    }\n",
    "  }\n",
    "}\n",
    "\n",
    "# Ejecutar función sin mostrar resultados intermedios\n",
    "invisible(calculo_ocupacion(data_list))\n"
   ]
  },
  {
   "cell_type": "code",
   "execution_count": 13,
   "metadata": {
    "vscode": {
     "languageId": "r"
    }
   },
   "outputs": [
    {
     "name": "stdout",
     "output_type": "stream",
     "text": [
      "\u001b[90m# A tibble: 16 × 5\u001b[39m\n",
      "    year trimestre total_ocupa total_pea tasa_ocupacion\n",
      "   \u001b[3m\u001b[90m<int>\u001b[39m\u001b[23m \u001b[3m\u001b[90m<fct>\u001b[39m\u001b[23m           \u001b[3m\u001b[90m<dbl>\u001b[39m\u001b[23m     \u001b[3m\u001b[90m<dbl>\u001b[39m\u001b[23m          \u001b[3m\u001b[90m<dbl>\u001b[39m\u001b[23m\n",
      "\u001b[90m 1\u001b[39m  \u001b[4m2\u001b[24m021 trim1         3\u001b[4m8\u001b[24m\u001b[4m7\u001b[24m\u001b[4m0\u001b[24m454   4\u001b[4m1\u001b[24m\u001b[4m7\u001b[24m\u001b[4m5\u001b[24m657           92.7\n",
      "\u001b[90m 2\u001b[39m  \u001b[4m2\u001b[24m021 trim2         4\u001b[4m1\u001b[24m\u001b[4m1\u001b[24m\u001b[4m7\u001b[24m427   4\u001b[4m4\u001b[24m\u001b[4m3\u001b[24m\u001b[4m9\u001b[24m594           92.7\n",
      "\u001b[90m 3\u001b[39m  \u001b[4m2\u001b[24m021 trim3         4\u001b[4m3\u001b[24m\u001b[4m9\u001b[24m\u001b[4m3\u001b[24m859   4\u001b[4m7\u001b[24m\u001b[4m2\u001b[24m\u001b[4m4\u001b[24m127           93.0\n",
      "\u001b[90m 4\u001b[39m  \u001b[4m2\u001b[24m021 trim4         4\u001b[4m4\u001b[24m\u001b[4m6\u001b[24m\u001b[4m5\u001b[24m106   4\u001b[4m7\u001b[24m\u001b[4m4\u001b[24m\u001b[4m4\u001b[24m648           94.1\n",
      "\u001b[90m 5\u001b[39m  \u001b[4m2\u001b[24m022 trim1         4\u001b[4m3\u001b[24m\u001b[4m8\u001b[24m\u001b[4m5\u001b[24m718   4\u001b[4m6\u001b[24m\u001b[4m5\u001b[24m\u001b[4m8\u001b[24m108           94.2\n",
      "\u001b[90m 6\u001b[39m  \u001b[4m2\u001b[24m022 trim2         4\u001b[4m5\u001b[24m\u001b[4m3\u001b[24m\u001b[4m4\u001b[24m376   4\u001b[4m7\u001b[24m\u001b[4m9\u001b[24m\u001b[4m3\u001b[24m126           94.6\n",
      "\u001b[90m 7\u001b[39m  \u001b[4m2\u001b[24m022 trim3         4\u001b[4m5\u001b[24m\u001b[4m4\u001b[24m\u001b[4m6\u001b[24m515   4\u001b[4m7\u001b[24m\u001b[4m9\u001b[24m\u001b[4m8\u001b[24m534           94.7\n",
      "\u001b[90m 8\u001b[39m  \u001b[4m2\u001b[24m022 trim4         4\u001b[4m6\u001b[24m\u001b[4m9\u001b[24m\u001b[4m8\u001b[24m174   4\u001b[4m9\u001b[24m\u001b[4m2\u001b[24m\u001b[4m1\u001b[24m131           95.5\n",
      "\u001b[90m 9\u001b[39m  \u001b[4m2\u001b[24m023 trim1         4\u001b[4m6\u001b[24m\u001b[4m9\u001b[24m\u001b[4m3\u001b[24m298   4\u001b[4m8\u001b[24m\u001b[4m7\u001b[24m\u001b[4m6\u001b[24m283           96.2\n",
      "\u001b[90m10\u001b[39m  \u001b[4m2\u001b[24m023 trim2         4\u001b[4m7\u001b[24m\u001b[4m0\u001b[24m\u001b[4m9\u001b[24m095   4\u001b[4m9\u001b[24m\u001b[4m2\u001b[24m\u001b[4m4\u001b[24m263           95.6\n",
      "\u001b[90m11\u001b[39m  \u001b[4m2\u001b[24m023 trim3         4\u001b[4m7\u001b[24m\u001b[4m1\u001b[24m\u001b[4m2\u001b[24m506   4\u001b[4m9\u001b[24m\u001b[4m1\u001b[24m\u001b[4m2\u001b[24m263           95.9\n",
      "\u001b[90m12\u001b[39m  \u001b[4m2\u001b[24m023 trim4         4\u001b[4m6\u001b[24m\u001b[4m5\u001b[24m\u001b[4m7\u001b[24m701   4\u001b[4m8\u001b[24m\u001b[4m4\u001b[24m\u001b[4m7\u001b[24m179           96.1\n",
      "\u001b[90m13\u001b[39m  \u001b[4m2\u001b[24m024 trim1         4\u001b[4m7\u001b[24m\u001b[4m1\u001b[24m\u001b[4m5\u001b[24m069   4\u001b[4m9\u001b[24m\u001b[4m1\u001b[24m\u001b[4m0\u001b[24m037           96.0\n",
      "\u001b[90m14\u001b[39m  \u001b[4m2\u001b[24m024 trim2         4\u001b[4m8\u001b[24m\u001b[4m3\u001b[24m\u001b[4m4\u001b[24m239   5\u001b[4m0\u001b[24m\u001b[4m3\u001b[24m\u001b[4m7\u001b[24m773           96.0\n",
      "\u001b[90m15\u001b[39m  \u001b[4m2\u001b[24m024 trim3         4\u001b[4m8\u001b[24m\u001b[4m9\u001b[24m\u001b[4m4\u001b[24m634   5\u001b[4m0\u001b[24m\u001b[4m9\u001b[24m\u001b[4m6\u001b[24m702           96.0\n",
      "\u001b[90m16\u001b[39m  \u001b[4m2\u001b[24m024 trim4         5\u001b[4m0\u001b[24m\u001b[4m1\u001b[24m\u001b[4m0\u001b[24m045   5\u001b[4m2\u001b[24m\u001b[4m1\u001b[24m\u001b[4m8\u001b[24m209           96.0\n"
     ]
    }
   ],
   "source": [
    "# Unir resultados finales\n",
    "tasa_final <- bind_rows(TasaOcupa) %>%\n",
    "  mutate(trimestre = factor(trimestre, levels = c(\"trim1\", \"trim2\", \"trim3\", \"trim4\"))) %>%\n",
    "  arrange(year, trimestre)\n",
    "\n",
    "# Ver tabla final\n",
    "print(tasa_final)\n"
   ]
  },
  {
   "cell_type": "code",
   "execution_count": 14,
   "metadata": {
    "vscode": {
     "languageId": "r"
    }
   },
   "outputs": [],
   "source": [
    "write.csv(tasa_final, 'Visor_CDMX/Historico_Tasa_Ocupacion.csv', row.names = FALSE)"
   ]
  },
  {
   "cell_type": "markdown",
   "metadata": {},
   "source": [
    "Porcentaje del personal ocupado en servicios profesionales, científicos y técnicos"
   ]
  },
  {
   "cell_type": "code",
   "execution_count": 15,
   "metadata": {
    "vscode": {
     "languageId": "r"
    }
   },
   "outputs": [],
   "source": [
    "Variables <- list() #Lista para filtrar y seleccionar las variables que necesitamos\n",
    "PobTot <- list() #Lista para vaciar valores de pob_total\n",
    "Cientificos <- list() #Lista para vaciar los valores de población ocupada en turismo\n"
   ]
  },
  {
   "cell_type": "code",
   "execution_count": 16,
   "metadata": {
    "vscode": {
     "languageId": "r"
    }
   },
   "outputs": [],
   "source": [
    "calculo_cientificos <- function(data_list) {\n",
    "    for(year in names(data_list)) {\n",
    "        for(trim in names(data_list[[year]])){\n",
    "            if(!'SDEM' %in% names(data_list[[year]][[trim]])) next\n",
    "\n",
    "        df <- data_list[[year]][[trim]] [['SDEM']] %>%\n",
    "        clean_names() %>%\n",
    "        mutate(edad = as.numeric(eda)) %>%\n",
    "        filter(r_def == 0, (c_res == 1| c_res == 3), edad >= 15 & edad <= 98, clase2 == 1, ent == 9) \n",
    "\n",
    "        # Guardar nombres y df completo por si se necesita\n",
    "        Variables[[paste0(\"v\", year, \"_\", trim)]] <<- names(df)\n",
    "        PobTot[[paste0(\"pob_total_\", year, \"_\", trim)]] <<- df\n",
    "\n",
    "        df_cientificos <- df %>%\n",
    "        filter(scian == 12) %>%\n",
    "        mutate(sector = 'Serv_prof_cientif_tecnicos')\n",
    "\n",
    "        total_sector <- sum(df_cientificos$fac_tri, na.rm = TRUE)\n",
    "        total_pob <- sum(df$fac_tri, na.rm = TRUE)\n",
    "        porcentaje <- (total_sector / total_pob) * 100\n",
    "\n",
    "        Cientificos[[paste0('Serv_prof_cientif_tecnicos_', year, '_', trim)]] <<- tibble(\n",
    "            year = as.integer(year),\n",
    "            trimestre = trim,\n",
    "            sector = 'Serv_prof_cientif_tecnicos',\n",
    "            total_sector = total_sector,\n",
    "            pob_total = total_pob,\n",
    "            porcentaje = porcentaje\n",
    "        )\n",
    "        }\n",
    "    }\n",
    "}\n",
    "\n",
    "invisible(calculo_cientificos(data_list))"
   ]
  },
  {
   "cell_type": "code",
   "execution_count": 17,
   "metadata": {
    "vscode": {
     "languageId": "r"
    }
   },
   "outputs": [
    {
     "name": "stdout",
     "output_type": "stream",
     "text": [
      "\u001b[90m# A tibble: 16 × 6\u001b[39m\n",
      "    year trimestre sector                     total_sector pob_total porcentaje\n",
      "   \u001b[3m\u001b[90m<int>\u001b[39m\u001b[23m \u001b[3m\u001b[90m<fct>\u001b[39m\u001b[23m     \u001b[3m\u001b[90m<chr>\u001b[39m\u001b[23m                             \u001b[3m\u001b[90m<dbl>\u001b[39m\u001b[23m     \u001b[3m\u001b[90m<dbl>\u001b[39m\u001b[23m      \u001b[3m\u001b[90m<dbl>\u001b[39m\u001b[23m\n",
      "\u001b[90m 1\u001b[39m  \u001b[4m2\u001b[24m021 trim1     Serv_prof_cientif_tecnicos       \u001b[4m2\u001b[24m\u001b[4m3\u001b[24m\u001b[4m8\u001b[24m755   3\u001b[4m8\u001b[24m\u001b[4m7\u001b[24m\u001b[4m0\u001b[24m454       6.17\n",
      "\u001b[90m 2\u001b[39m  \u001b[4m2\u001b[24m021 trim2     Serv_prof_cientif_tecnicos       \u001b[4m2\u001b[24m\u001b[4m5\u001b[24m\u001b[4m4\u001b[24m699   4\u001b[4m1\u001b[24m\u001b[4m1\u001b[24m\u001b[4m7\u001b[24m427       6.19\n",
      "\u001b[90m 3\u001b[39m  \u001b[4m2\u001b[24m021 trim3     Serv_prof_cientif_tecnicos       \u001b[4m2\u001b[24m\u001b[4m6\u001b[24m\u001b[4m6\u001b[24m285   4\u001b[4m3\u001b[24m\u001b[4m9\u001b[24m\u001b[4m3\u001b[24m859       6.06\n",
      "\u001b[90m 4\u001b[39m  \u001b[4m2\u001b[24m021 trim4     Serv_prof_cientif_tecnicos       \u001b[4m2\u001b[24m\u001b[4m9\u001b[24m\u001b[4m3\u001b[24m438   4\u001b[4m4\u001b[24m\u001b[4m6\u001b[24m\u001b[4m5\u001b[24m106       6.57\n",
      "\u001b[90m 5\u001b[39m  \u001b[4m2\u001b[24m022 trim1     Serv_prof_cientif_tecnicos       \u001b[4m2\u001b[24m\u001b[4m8\u001b[24m\u001b[4m6\u001b[24m448   4\u001b[4m3\u001b[24m\u001b[4m8\u001b[24m\u001b[4m5\u001b[24m718       6.53\n",
      "\u001b[90m 6\u001b[39m  \u001b[4m2\u001b[24m022 trim2     Serv_prof_cientif_tecnicos       \u001b[4m3\u001b[24m\u001b[4m3\u001b[24m\u001b[4m5\u001b[24m758   4\u001b[4m5\u001b[24m\u001b[4m3\u001b[24m\u001b[4m4\u001b[24m376       7.40\n",
      "\u001b[90m 7\u001b[39m  \u001b[4m2\u001b[24m022 trim3     Serv_prof_cientif_tecnicos       \u001b[4m3\u001b[24m\u001b[4m4\u001b[24m\u001b[4m5\u001b[24m499   4\u001b[4m5\u001b[24m\u001b[4m4\u001b[24m\u001b[4m6\u001b[24m515       7.60\n",
      "\u001b[90m 8\u001b[39m  \u001b[4m2\u001b[24m022 trim4     Serv_prof_cientif_tecnicos       \u001b[4m3\u001b[24m\u001b[4m7\u001b[24m\u001b[4m6\u001b[24m980   4\u001b[4m6\u001b[24m\u001b[4m9\u001b[24m\u001b[4m8\u001b[24m174       8.02\n",
      "\u001b[90m 9\u001b[39m  \u001b[4m2\u001b[24m023 trim1     Serv_prof_cientif_tecnicos       \u001b[4m3\u001b[24m\u001b[4m5\u001b[24m\u001b[4m6\u001b[24m082   4\u001b[4m6\u001b[24m\u001b[4m9\u001b[24m\u001b[4m3\u001b[24m298       7.59\n",
      "\u001b[90m10\u001b[39m  \u001b[4m2\u001b[24m023 trim2     Serv_prof_cientif_tecnicos       \u001b[4m3\u001b[24m\u001b[4m6\u001b[24m\u001b[4m6\u001b[24m297   4\u001b[4m7\u001b[24m\u001b[4m0\u001b[24m\u001b[4m9\u001b[24m095       7.78\n",
      "\u001b[90m11\u001b[39m  \u001b[4m2\u001b[24m023 trim3     Serv_prof_cientif_tecnicos       \u001b[4m3\u001b[24m\u001b[4m6\u001b[24m\u001b[4m8\u001b[24m574   4\u001b[4m7\u001b[24m\u001b[4m1\u001b[24m\u001b[4m2\u001b[24m506       7.82\n",
      "\u001b[90m12\u001b[39m  \u001b[4m2\u001b[24m023 trim4     Serv_prof_cientif_tecnicos       \u001b[4m3\u001b[24m\u001b[4m4\u001b[24m\u001b[4m3\u001b[24m473   4\u001b[4m6\u001b[24m\u001b[4m5\u001b[24m\u001b[4m7\u001b[24m701       7.37\n",
      "\u001b[90m13\u001b[39m  \u001b[4m2\u001b[24m024 trim1     Serv_prof_cientif_tecnicos       \u001b[4m4\u001b[24m\u001b[4m0\u001b[24m\u001b[4m8\u001b[24m667   4\u001b[4m7\u001b[24m\u001b[4m1\u001b[24m\u001b[4m5\u001b[24m069       8.67\n",
      "\u001b[90m14\u001b[39m  \u001b[4m2\u001b[24m024 trim2     Serv_prof_cientif_tecnicos       \u001b[4m3\u001b[24m\u001b[4m7\u001b[24m\u001b[4m3\u001b[24m074   4\u001b[4m8\u001b[24m\u001b[4m3\u001b[24m\u001b[4m4\u001b[24m239       7.72\n",
      "\u001b[90m15\u001b[39m  \u001b[4m2\u001b[24m024 trim3     Serv_prof_cientif_tecnicos       \u001b[4m3\u001b[24m\u001b[4m8\u001b[24m\u001b[4m6\u001b[24m557   4\u001b[4m8\u001b[24m\u001b[4m9\u001b[24m\u001b[4m4\u001b[24m634       7.90\n",
      "\u001b[90m16\u001b[39m  \u001b[4m2\u001b[24m024 trim4     Serv_prof_cientif_tecnicos       \u001b[4m3\u001b[24m\u001b[4m8\u001b[24m\u001b[4m4\u001b[24m956   5\u001b[4m0\u001b[24m\u001b[4m1\u001b[24m\u001b[4m0\u001b[24m045       7.68\n"
     ]
    }
   ],
   "source": [
    "cientificos_final <- bind_rows(Cientificos) %>%\n",
    "mutate(trimestre = factor(trimestre, levels = c(\"trim1\", \"trim2\", \"trim3\", \"trim4\"))) %>%\n",
    "arrange(year, trimestre)\n",
    "\n",
    "print(cientificos_final)"
   ]
  },
  {
   "cell_type": "code",
   "execution_count": 18,
   "metadata": {
    "vscode": {
     "languageId": "r"
    }
   },
   "outputs": [],
   "source": [
    "write.csv(cientificos_final, file = 'PGD/Historico_Personal_Ocup_Serv_Prof_Cientif_Tecnicos.csv', row.names = FALSE)"
   ]
  },
  {
   "cell_type": "markdown",
   "metadata": {},
   "source": [
    "Porcentaje del personal ocupado en la rama de la construcción"
   ]
  },
  {
   "cell_type": "code",
   "execution_count": 19,
   "metadata": {
    "vscode": {
     "languageId": "r"
    }
   },
   "outputs": [],
   "source": [
    "Variables <- list() #Lista para filtrar y seleccionar las variables que necesitamos\n",
    "PobTot <- list() #Lista para vaciar valores de pob_total\n",
    "Construccion <- list() #Lista para vaciar los valores de población ocupada en turismo\n"
   ]
  },
  {
   "cell_type": "code",
   "execution_count": 20,
   "metadata": {
    "vscode": {
     "languageId": "r"
    }
   },
   "outputs": [],
   "source": [
    "# Función para calcular población ocupada y en turismo\n",
    "calculo_construccion <- function(data_list) {\n",
    "  for (year in names(data_list)) {\n",
    "    for (trim in names(data_list[[year]])) {\n",
    "      if (!'SDEM' %in% names(data_list[[year]][[trim]])) next\n",
    "\n",
    "      df <- data_list[[year]][[trim]][['SDEM']] %>%\n",
    "        clean_names() %>%\n",
    "        mutate(edad = as.numeric(eda)) %>%\n",
    "        filter(r_def == 0, (c_res == 1 | c_res == 3), edad >= 15 & edad <= 98) %>%\n",
    "        filter(clase2 == 1, ent == 9)\n",
    "\n",
    "      # Guardar nombres y df completo por si se necesita\n",
    "      Variables[[paste0('v', year, '_', trim)]] <<- names(df)\n",
    "      PobTot[[paste0('pob_total_', year, '_', trim)]] <<- df\n",
    "\n",
    "      # Calcular turismo dentro del mismo DF\n",
    "      df_turismo <- df %>%\n",
    "        filter(rama == 1) %>%\n",
    "        mutate(rama = 'Construccion')\n",
    "\n",
    "      total_rama <- sum(df_turismo$fac_tri, na.rm = TRUE)\n",
    "      total_pob <- sum(df$fac_tri, na.rm = TRUE)\n",
    "      porcentaje <- (total_rama / total_pob) * 100\n",
    "\n",
    "      Construccion[[paste0('Construccion_', year, '_', trim)]] <<- tibble(\n",
    "        year = as.integer(year),\n",
    "        trimestre = trim,\n",
    "        rama = 'Construccion',\n",
    "        total_rama = total_rama,\n",
    "        pob_total = total_pob,\n",
    "        porcentaje = porcentaje\n",
    "      )\n",
    "    }\n",
    "  }\n",
    "}\n",
    "\n",
    "\n",
    "invisible(calculo_construccion(data_list))"
   ]
  },
  {
   "cell_type": "code",
   "execution_count": 21,
   "metadata": {
    "vscode": {
     "languageId": "r"
    }
   },
   "outputs": [
    {
     "name": "stdout",
     "output_type": "stream",
     "text": [
      "\u001b[90m# A tibble: 16 × 6\u001b[39m\n",
      "    year trimestre rama         total_rama pob_total porcentaje\n",
      "   \u001b[3m\u001b[90m<int>\u001b[39m\u001b[23m \u001b[3m\u001b[90m<fct>\u001b[39m\u001b[23m     \u001b[3m\u001b[90m<chr>\u001b[39m\u001b[23m             \u001b[3m\u001b[90m<dbl>\u001b[39m\u001b[23m     \u001b[3m\u001b[90m<dbl>\u001b[39m\u001b[23m      \u001b[3m\u001b[90m<dbl>\u001b[39m\u001b[23m\n",
      "\u001b[90m 1\u001b[39m  \u001b[4m2\u001b[24m021 trim1     Construccion     \u001b[4m2\u001b[24m\u001b[4m1\u001b[24m\u001b[4m1\u001b[24m301   3\u001b[4m8\u001b[24m\u001b[4m7\u001b[24m\u001b[4m0\u001b[24m454       5.46\n",
      "\u001b[90m 2\u001b[39m  \u001b[4m2\u001b[24m021 trim2     Construccion     \u001b[4m2\u001b[24m\u001b[4m4\u001b[24m\u001b[4m3\u001b[24m681   4\u001b[4m1\u001b[24m\u001b[4m1\u001b[24m\u001b[4m7\u001b[24m427       5.92\n",
      "\u001b[90m 3\u001b[39m  \u001b[4m2\u001b[24m021 trim3     Construccion     \u001b[4m2\u001b[24m\u001b[4m1\u001b[24m\u001b[4m1\u001b[24m700   4\u001b[4m3\u001b[24m\u001b[4m9\u001b[24m\u001b[4m3\u001b[24m859       4.82\n",
      "\u001b[90m 4\u001b[39m  \u001b[4m2\u001b[24m021 trim4     Construccion     \u001b[4m2\u001b[24m\u001b[4m0\u001b[24m\u001b[4m3\u001b[24m175   4\u001b[4m4\u001b[24m\u001b[4m6\u001b[24m\u001b[4m5\u001b[24m106       4.55\n",
      "\u001b[90m 5\u001b[39m  \u001b[4m2\u001b[24m022 trim1     Construccion     \u001b[4m2\u001b[24m\u001b[4m0\u001b[24m\u001b[4m3\u001b[24m653   4\u001b[4m3\u001b[24m\u001b[4m8\u001b[24m\u001b[4m5\u001b[24m718       4.64\n",
      "\u001b[90m 6\u001b[39m  \u001b[4m2\u001b[24m022 trim2     Construccion     \u001b[4m1\u001b[24m\u001b[4m8\u001b[24m\u001b[4m9\u001b[24m858   4\u001b[4m5\u001b[24m\u001b[4m3\u001b[24m\u001b[4m4\u001b[24m376       4.19\n",
      "\u001b[90m 7\u001b[39m  \u001b[4m2\u001b[24m022 trim3     Construccion     \u001b[4m1\u001b[24m\u001b[4m7\u001b[24m\u001b[4m6\u001b[24m073   4\u001b[4m5\u001b[24m\u001b[4m4\u001b[24m\u001b[4m6\u001b[24m515       3.87\n",
      "\u001b[90m 8\u001b[39m  \u001b[4m2\u001b[24m022 trim4     Construccion     \u001b[4m2\u001b[24m\u001b[4m0\u001b[24m\u001b[4m0\u001b[24m183   4\u001b[4m6\u001b[24m\u001b[4m9\u001b[24m\u001b[4m8\u001b[24m174       4.26\n",
      "\u001b[90m 9\u001b[39m  \u001b[4m2\u001b[24m023 trim1     Construccion     \u001b[4m2\u001b[24m\u001b[4m1\u001b[24m\u001b[4m6\u001b[24m016   4\u001b[4m6\u001b[24m\u001b[4m9\u001b[24m\u001b[4m3\u001b[24m298       4.60\n",
      "\u001b[90m10\u001b[39m  \u001b[4m2\u001b[24m023 trim2     Construccion     \u001b[4m2\u001b[24m\u001b[4m0\u001b[24m\u001b[4m6\u001b[24m170   4\u001b[4m7\u001b[24m\u001b[4m0\u001b[24m\u001b[4m9\u001b[24m095       4.38\n",
      "\u001b[90m11\u001b[39m  \u001b[4m2\u001b[24m023 trim3     Construccion     \u001b[4m2\u001b[24m\u001b[4m3\u001b[24m\u001b[4m7\u001b[24m722   4\u001b[4m7\u001b[24m\u001b[4m1\u001b[24m\u001b[4m2\u001b[24m506       5.04\n",
      "\u001b[90m12\u001b[39m  \u001b[4m2\u001b[24m023 trim4     Construccion     \u001b[4m1\u001b[24m\u001b[4m9\u001b[24m\u001b[4m7\u001b[24m539   4\u001b[4m6\u001b[24m\u001b[4m5\u001b[24m\u001b[4m7\u001b[24m701       4.24\n",
      "\u001b[90m13\u001b[39m  \u001b[4m2\u001b[24m024 trim1     Construccion     \u001b[4m2\u001b[24m\u001b[4m1\u001b[24m\u001b[4m0\u001b[24m541   4\u001b[4m7\u001b[24m\u001b[4m1\u001b[24m\u001b[4m5\u001b[24m069       4.47\n",
      "\u001b[90m14\u001b[39m  \u001b[4m2\u001b[24m024 trim2     Construccion     \u001b[4m1\u001b[24m\u001b[4m9\u001b[24m\u001b[4m3\u001b[24m652   4\u001b[4m8\u001b[24m\u001b[4m3\u001b[24m\u001b[4m4\u001b[24m239       4.01\n",
      "\u001b[90m15\u001b[39m  \u001b[4m2\u001b[24m024 trim3     Construccion     \u001b[4m2\u001b[24m\u001b[4m3\u001b[24m\u001b[4m6\u001b[24m377   4\u001b[4m8\u001b[24m\u001b[4m9\u001b[24m\u001b[4m4\u001b[24m634       4.83\n",
      "\u001b[90m16\u001b[39m  \u001b[4m2\u001b[24m024 trim4     Construccion     \u001b[4m2\u001b[24m\u001b[4m1\u001b[24m\u001b[4m4\u001b[24m457   5\u001b[4m0\u001b[24m\u001b[4m1\u001b[24m\u001b[4m0\u001b[24m045       4.28\n"
     ]
    }
   ],
   "source": [
    "construccion_final <- bind_rows(Construccion) %>%\n",
    "mutate(trimestre = factor(trimestre, levels = c(\"trim1\", \"trim2\", \"trim3\", \"trim4\"))) %>%\n",
    "arrange(year, trimestre)\n",
    "\n",
    "print(construccion_final)\n"
   ]
  },
  {
   "cell_type": "code",
   "execution_count": 36,
   "metadata": {
    "vscode": {
     "languageId": "r"
    }
   },
   "outputs": [],
   "source": [
    "write.csv(construccion_final, file = 'PGD/Historico_Personal_Ocup_Construccion.csv', row.names = FALSE)"
   ]
  },
  {
   "cell_type": "markdown",
   "metadata": {},
   "source": [
    "Porcentaje del personal ocupado en servicios de esparcimiento culturales y deportivos\n",
    "\n",
    "*Nota: Hay que cambiar la redacción y los valores del indicador en el Sistema: SI113"
   ]
  },
  {
   "cell_type": "code",
   "execution_count": 23,
   "metadata": {
    "vscode": {
     "languageId": "r"
    }
   },
   "outputs": [],
   "source": [
    "Variables <- list() \n",
    "PobTot <- list() \n",
    "Cultura <- list() "
   ]
  },
  {
   "cell_type": "code",
   "execution_count": 24,
   "metadata": {
    "vscode": {
     "languageId": "r"
    }
   },
   "outputs": [],
   "source": [
    "calculo_cultura <- function(data_list) {\n",
    "    for(year in names(data_list)) {\n",
    "        for(trim in names(data_list[[year]])){\n",
    "            if(!'SDEM' %in% names(data_list[[year]][[trim]])) next\n",
    "\n",
    "        df <- data_list[[year]][[trim]] [['SDEM']] %>%\n",
    "        clean_names() %>%\n",
    "        mutate(edad = as.numeric(eda)) %>%\n",
    "        filter(r_def == 0, (c_res == 1| c_res == 3), edad >= 15 & edad <= 98, clase2 == 1, ent == 9) \n",
    "\n",
    "        # Guardar nombres y df completo por si se necesita\n",
    "        Variables[[paste0('v', year, '_', trim)]] <<- names(df)\n",
    "        PobTot[[paste0('pob_total_', year, '_', trim)]] <<- df\n",
    "\n",
    "        df_cultura <- df %>%\n",
    "        filter(scian == 17) %>%\n",
    "        mutate(sector = 'Serv_Espar_Cultu_Depor')\n",
    "\n",
    "        total_sector <- sum(df_cultura$fac_tri, na.rm = TRUE)\n",
    "        total_pob <- sum(df$fac_tri, na.rm = TRUE)\n",
    "        porcentaje <- (total_sector / total_pob) * 100\n",
    "\n",
    "        Cultura[[paste0('Serv_Espar_Cultu_Depor_', year, '_', trim)]] <<- tibble(\n",
    "            year = as.integer(year),\n",
    "            trimestre = trim,\n",
    "            sector = 'Serv_Espar_Cultu_Depor',\n",
    "            total_sector = total_sector,\n",
    "            pob_total = total_pob,\n",
    "            porcentaje = porcentaje\n",
    "        )\n",
    "        }\n",
    "    }\n",
    "}\n",
    "\n",
    "invisible(calculo_cultura(data_list))"
   ]
  },
  {
   "cell_type": "code",
   "execution_count": 25,
   "metadata": {
    "vscode": {
     "languageId": "r"
    }
   },
   "outputs": [
    {
     "name": "stdout",
     "output_type": "stream",
     "text": [
      "\u001b[90m# A tibble: 16 × 6\u001b[39m\n",
      "    year trimestre sector                 total_sector pob_total porcentaje\n",
      "   \u001b[3m\u001b[90m<int>\u001b[39m\u001b[23m \u001b[3m\u001b[90m<fct>\u001b[39m\u001b[23m     \u001b[3m\u001b[90m<chr>\u001b[39m\u001b[23m                         \u001b[3m\u001b[90m<dbl>\u001b[39m\u001b[23m     \u001b[3m\u001b[90m<dbl>\u001b[39m\u001b[23m      \u001b[3m\u001b[90m<dbl>\u001b[39m\u001b[23m\n",
      "\u001b[90m 1\u001b[39m  \u001b[4m2\u001b[24m021 trim1     Serv_Espar_Cultu_Depor        \u001b[4m2\u001b[24m\u001b[4m3\u001b[24m266   3\u001b[4m8\u001b[24m\u001b[4m7\u001b[24m\u001b[4m0\u001b[24m454      0.601\n",
      "\u001b[90m 2\u001b[39m  \u001b[4m2\u001b[24m021 trim2     Serv_Espar_Cultu_Depor        \u001b[4m4\u001b[24m\u001b[4m0\u001b[24m160   4\u001b[4m1\u001b[24m\u001b[4m1\u001b[24m\u001b[4m7\u001b[24m427      0.975\n",
      "\u001b[90m 3\u001b[39m  \u001b[4m2\u001b[24m021 trim3     Serv_Espar_Cultu_Depor        \u001b[4m5\u001b[24m\u001b[4m0\u001b[24m848   4\u001b[4m3\u001b[24m\u001b[4m9\u001b[24m\u001b[4m3\u001b[24m859      1.16 \n",
      "\u001b[90m 4\u001b[39m  \u001b[4m2\u001b[24m021 trim4     Serv_Espar_Cultu_Depor        \u001b[4m4\u001b[24m\u001b[4m6\u001b[24m448   4\u001b[4m4\u001b[24m\u001b[4m6\u001b[24m\u001b[4m5\u001b[24m106      1.04 \n",
      "\u001b[90m 5\u001b[39m  \u001b[4m2\u001b[24m022 trim1     Serv_Espar_Cultu_Depor        \u001b[4m4\u001b[24m\u001b[4m5\u001b[24m192   4\u001b[4m3\u001b[24m\u001b[4m8\u001b[24m\u001b[4m5\u001b[24m718      1.03 \n",
      "\u001b[90m 6\u001b[39m  \u001b[4m2\u001b[24m022 trim2     Serv_Espar_Cultu_Depor        \u001b[4m4\u001b[24m\u001b[4m7\u001b[24m637   4\u001b[4m5\u001b[24m\u001b[4m3\u001b[24m\u001b[4m4\u001b[24m376      1.05 \n",
      "\u001b[90m 7\u001b[39m  \u001b[4m2\u001b[24m022 trim3     Serv_Espar_Cultu_Depor        \u001b[4m6\u001b[24m\u001b[4m6\u001b[24m175   4\u001b[4m5\u001b[24m\u001b[4m4\u001b[24m\u001b[4m6\u001b[24m515      1.46 \n",
      "\u001b[90m 8\u001b[39m  \u001b[4m2\u001b[24m022 trim4     Serv_Espar_Cultu_Depor        \u001b[4m6\u001b[24m\u001b[4m1\u001b[24m754   4\u001b[4m6\u001b[24m\u001b[4m9\u001b[24m\u001b[4m8\u001b[24m174      1.31 \n",
      "\u001b[90m 9\u001b[39m  \u001b[4m2\u001b[24m023 trim1     Serv_Espar_Cultu_Depor        \u001b[4m5\u001b[24m\u001b[4m3\u001b[24m140   4\u001b[4m6\u001b[24m\u001b[4m9\u001b[24m\u001b[4m3\u001b[24m298      1.13 \n",
      "\u001b[90m10\u001b[39m  \u001b[4m2\u001b[24m023 trim2     Serv_Espar_Cultu_Depor        \u001b[4m6\u001b[24m\u001b[4m7\u001b[24m774   4\u001b[4m7\u001b[24m\u001b[4m0\u001b[24m\u001b[4m9\u001b[24m095      1.44 \n",
      "\u001b[90m11\u001b[39m  \u001b[4m2\u001b[24m023 trim3     Serv_Espar_Cultu_Depor        \u001b[4m6\u001b[24m\u001b[4m0\u001b[24m716   4\u001b[4m7\u001b[24m\u001b[4m1\u001b[24m\u001b[4m2\u001b[24m506      1.29 \n",
      "\u001b[90m12\u001b[39m  \u001b[4m2\u001b[24m023 trim4     Serv_Espar_Cultu_Depor        \u001b[4m4\u001b[24m\u001b[4m0\u001b[24m958   4\u001b[4m6\u001b[24m\u001b[4m5\u001b[24m\u001b[4m7\u001b[24m701      0.879\n",
      "\u001b[90m13\u001b[39m  \u001b[4m2\u001b[24m024 trim1     Serv_Espar_Cultu_Depor        \u001b[4m5\u001b[24m\u001b[4m8\u001b[24m169   4\u001b[4m7\u001b[24m\u001b[4m1\u001b[24m\u001b[4m5\u001b[24m069      1.23 \n",
      "\u001b[90m14\u001b[39m  \u001b[4m2\u001b[24m024 trim2     Serv_Espar_Cultu_Depor        \u001b[4m4\u001b[24m\u001b[4m9\u001b[24m497   4\u001b[4m8\u001b[24m\u001b[4m3\u001b[24m\u001b[4m4\u001b[24m239      1.02 \n",
      "\u001b[90m15\u001b[39m  \u001b[4m2\u001b[24m024 trim3     Serv_Espar_Cultu_Depor        \u001b[4m6\u001b[24m\u001b[4m7\u001b[24m324   4\u001b[4m8\u001b[24m\u001b[4m9\u001b[24m\u001b[4m4\u001b[24m634      1.38 \n",
      "\u001b[90m16\u001b[39m  \u001b[4m2\u001b[24m024 trim4     Serv_Espar_Cultu_Depor        \u001b[4m8\u001b[24m\u001b[4m1\u001b[24m948   5\u001b[4m0\u001b[24m\u001b[4m1\u001b[24m\u001b[4m0\u001b[24m045      1.64 \n"
     ]
    }
   ],
   "source": [
    "cultura_final <- bind_rows(Cultura) %>%\n",
    "mutate(trimestre = factor(trimestre, levels = c(\"trim1\", \"trim2\", \"trim3\", \"trim4\"))) %>%\n",
    "arrange(year, trimestre)\n",
    "\n",
    "print(cultura_final)"
   ]
  },
  {
   "cell_type": "code",
   "execution_count": 37,
   "metadata": {
    "vscode": {
     "languageId": "r"
    }
   },
   "outputs": [],
   "source": [
    "write.csv(cultura_final, file = 'PGD/Historico_Personal_Ocup_Serv_Espar_Cult_Depor.csv', row.names = FALSE)"
   ]
  },
  {
   "cell_type": "markdown",
   "metadata": {},
   "source": [
    "Porcentaje del personal ocupado en servicios profesionales, financieros y corporativos"
   ]
  },
  {
   "cell_type": "code",
   "execution_count": 26,
   "metadata": {
    "vscode": {
     "languageId": "r"
    }
   },
   "outputs": [],
   "source": [
    "Variables <- list() \n",
    "PobTot <- list() \n",
    "Corporativo <- list()"
   ]
  },
  {
   "cell_type": "code",
   "execution_count": 29,
   "metadata": {
    "vscode": {
     "languageId": "r"
    }
   },
   "outputs": [],
   "source": [
    "calculo_corporativo <- function(data_list) {\n",
    "    for(year in names(data_list)) {\n",
    "        for(trim in names(data_list[[year]])){\n",
    "            if(!'SDEM' %in% names(data_list[[year]][[trim]])) next\n",
    "\n",
    "        df <- data_list[[year]][[trim]] [['SDEM']] %>%\n",
    "        clean_names() %>%\n",
    "        mutate(edad = as.numeric(eda)) %>%\n",
    "        filter(r_def == 0, (c_res == 1| c_res == 3), edad >= 15 & edad <= 98, clase2 == 1, ent == 9) \n",
    "\n",
    "        # Guardar nombres y df completo por si se necesita\n",
    "        Variables[[paste0(\"v\", year, \"_\", trim)]] <<- names(df)\n",
    "        PobTot[[paste0(\"pob_total_\", year, \"_\", trim)]] <<- df\n",
    "\n",
    "        df_corporativo <- df %>%\n",
    "        filter(rama_est2 == 8) %>%\n",
    "        mutate(sector = 'Serv_prof_finan_corpo')\n",
    "\n",
    "        total_sector <- sum(df_corporativo$fac_tri, na.rm = TRUE)\n",
    "        total_pob <- sum(df$fac_tri, na.rm = TRUE)\n",
    "        porcentaje <- (total_sector / total_pob) * 100\n",
    "\n",
    "        Corporativo[[paste0('Serv_prof_finan_corpo_', year, '_', trim)]] <<- tibble(\n",
    "            year = as.integer(year),\n",
    "            trimestre = trim,\n",
    "            sector = 'Serv_prof_finan_corpo',\n",
    "            total_sector = total_sector,\n",
    "            pob_total = total_pob,\n",
    "            porcentaje = porcentaje\n",
    "        )\n",
    "        }\n",
    "    }\n",
    "}\n",
    "\n",
    "invisible(calculo_corporativo(data_list))"
   ]
  },
  {
   "cell_type": "code",
   "execution_count": 30,
   "metadata": {
    "vscode": {
     "languageId": "r"
    }
   },
   "outputs": [
    {
     "name": "stdout",
     "output_type": "stream",
     "text": [
      "\u001b[90m# A tibble: 16 × 6\u001b[39m\n",
      "    year trimestre sector                total_sector pob_total porcentaje\n",
      "   \u001b[3m\u001b[90m<int>\u001b[39m\u001b[23m \u001b[3m\u001b[90m<fct>\u001b[39m\u001b[23m     \u001b[3m\u001b[90m<chr>\u001b[39m\u001b[23m                        \u001b[3m\u001b[90m<dbl>\u001b[39m\u001b[23m     \u001b[3m\u001b[90m<dbl>\u001b[39m\u001b[23m      \u001b[3m\u001b[90m<dbl>\u001b[39m\u001b[23m\n",
      "\u001b[90m 1\u001b[39m  \u001b[4m2\u001b[24m021 trim1     Serv_prof_finan_corpo       \u001b[4m6\u001b[24m\u001b[4m6\u001b[24m\u001b[4m2\u001b[24m786   3\u001b[4m8\u001b[24m\u001b[4m7\u001b[24m\u001b[4m0\u001b[24m454       17.1\n",
      "\u001b[90m 2\u001b[39m  \u001b[4m2\u001b[24m021 trim2     Serv_prof_finan_corpo       \u001b[4m6\u001b[24m\u001b[4m7\u001b[24m\u001b[4m1\u001b[24m689   4\u001b[4m1\u001b[24m\u001b[4m1\u001b[24m\u001b[4m7\u001b[24m427       16.3\n",
      "\u001b[90m 3\u001b[39m  \u001b[4m2\u001b[24m021 trim3     Serv_prof_finan_corpo       \u001b[4m6\u001b[24m\u001b[4m9\u001b[24m\u001b[4m0\u001b[24m887   4\u001b[4m3\u001b[24m\u001b[4m9\u001b[24m\u001b[4m3\u001b[24m859       15.7\n",
      "\u001b[90m 4\u001b[39m  \u001b[4m2\u001b[24m021 trim4     Serv_prof_finan_corpo       \u001b[4m7\u001b[24m\u001b[4m2\u001b[24m\u001b[4m7\u001b[24m127   4\u001b[4m4\u001b[24m\u001b[4m6\u001b[24m\u001b[4m5\u001b[24m106       16.3\n",
      "\u001b[90m 5\u001b[39m  \u001b[4m2\u001b[24m022 trim1     Serv_prof_finan_corpo       \u001b[4m6\u001b[24m\u001b[4m8\u001b[24m\u001b[4m8\u001b[24m756   4\u001b[4m3\u001b[24m\u001b[4m8\u001b[24m\u001b[4m5\u001b[24m718       15.7\n",
      "\u001b[90m 6\u001b[39m  \u001b[4m2\u001b[24m022 trim2     Serv_prof_finan_corpo       \u001b[4m7\u001b[24m\u001b[4m7\u001b[24m\u001b[4m6\u001b[24m295   4\u001b[4m5\u001b[24m\u001b[4m3\u001b[24m\u001b[4m4\u001b[24m376       17.1\n",
      "\u001b[90m 7\u001b[39m  \u001b[4m2\u001b[24m022 trim3     Serv_prof_finan_corpo       \u001b[4m7\u001b[24m\u001b[4m6\u001b[24m\u001b[4m2\u001b[24m537   4\u001b[4m5\u001b[24m\u001b[4m4\u001b[24m\u001b[4m6\u001b[24m515       16.8\n",
      "\u001b[90m 8\u001b[39m  \u001b[4m2\u001b[24m022 trim4     Serv_prof_finan_corpo       \u001b[4m8\u001b[24m\u001b[4m4\u001b[24m\u001b[4m1\u001b[24m054   4\u001b[4m6\u001b[24m\u001b[4m9\u001b[24m\u001b[4m8\u001b[24m174       17.9\n",
      "\u001b[90m 9\u001b[39m  \u001b[4m2\u001b[24m023 trim1     Serv_prof_finan_corpo       \u001b[4m8\u001b[24m\u001b[4m7\u001b[24m\u001b[4m2\u001b[24m471   4\u001b[4m6\u001b[24m\u001b[4m9\u001b[24m\u001b[4m3\u001b[24m298       18.6\n",
      "\u001b[90m10\u001b[39m  \u001b[4m2\u001b[24m023 trim2     Serv_prof_finan_corpo       \u001b[4m8\u001b[24m\u001b[4m2\u001b[24m\u001b[4m7\u001b[24m109   4\u001b[4m7\u001b[24m\u001b[4m0\u001b[24m\u001b[4m9\u001b[24m095       17.6\n",
      "\u001b[90m11\u001b[39m  \u001b[4m2\u001b[24m023 trim3     Serv_prof_finan_corpo       \u001b[4m8\u001b[24m\u001b[4m2\u001b[24m\u001b[4m7\u001b[24m543   4\u001b[4m7\u001b[24m\u001b[4m1\u001b[24m\u001b[4m2\u001b[24m506       17.6\n",
      "\u001b[90m12\u001b[39m  \u001b[4m2\u001b[24m023 trim4     Serv_prof_finan_corpo       \u001b[4m8\u001b[24m\u001b[4m1\u001b[24m\u001b[4m7\u001b[24m981   4\u001b[4m6\u001b[24m\u001b[4m5\u001b[24m\u001b[4m7\u001b[24m701       17.6\n",
      "\u001b[90m13\u001b[39m  \u001b[4m2\u001b[24m024 trim1     Serv_prof_finan_corpo       \u001b[4m8\u001b[24m\u001b[4m7\u001b[24m\u001b[4m0\u001b[24m288   4\u001b[4m7\u001b[24m\u001b[4m1\u001b[24m\u001b[4m5\u001b[24m069       18.5\n",
      "\u001b[90m14\u001b[39m  \u001b[4m2\u001b[24m024 trim2     Serv_prof_finan_corpo       \u001b[4m8\u001b[24m\u001b[4m5\u001b[24m\u001b[4m5\u001b[24m040   4\u001b[4m8\u001b[24m\u001b[4m3\u001b[24m\u001b[4m4\u001b[24m239       17.7\n",
      "\u001b[90m15\u001b[39m  \u001b[4m2\u001b[24m024 trim3     Serv_prof_finan_corpo       \u001b[4m8\u001b[24m\u001b[4m6\u001b[24m\u001b[4m5\u001b[24m377   4\u001b[4m8\u001b[24m\u001b[4m9\u001b[24m\u001b[4m4\u001b[24m634       17.7\n",
      "\u001b[90m16\u001b[39m  \u001b[4m2\u001b[24m024 trim4     Serv_prof_finan_corpo       \u001b[4m8\u001b[24m\u001b[4m6\u001b[24m\u001b[4m6\u001b[24m689   5\u001b[4m0\u001b[24m\u001b[4m1\u001b[24m\u001b[4m0\u001b[24m045       17.3\n"
     ]
    }
   ],
   "source": [
    "corporativo_final <- bind_rows(Corporativo) %>%\n",
    "mutate(trimestre = factor(trimestre, levels = c(\"trim1\", \"trim2\", \"trim3\", \"trim4\"))) %>%\n",
    "arrange(year, trimestre)\n",
    "\n",
    "\n",
    "print(corporativo_final)"
   ]
  },
  {
   "cell_type": "code",
   "execution_count": 31,
   "metadata": {
    "vscode": {
     "languageId": "r"
    }
   },
   "outputs": [],
   "source": [
    "write.csv(corporativo_final, 'PGD/Historico_Personal_Ocup_Serv_Prof_Finan_Corpo.csv', row.names = FALSE)"
   ]
  },
  {
   "cell_type": "markdown",
   "metadata": {},
   "source": [
    "Porcentaje del personal ocupado en la rama de la industria manufacturera\n",
    "\n",
    "*Nota: Hay que cambiar la redacción del nombre del indicador en el Sistema: SI116"
   ]
  },
  {
   "cell_type": "code",
   "execution_count": 32,
   "metadata": {
    "vscode": {
     "languageId": "r"
    }
   },
   "outputs": [],
   "source": [
    "Variables <- list() \n",
    "PobTot <- list() \n",
    "Manufactura <- list() "
   ]
  },
  {
   "cell_type": "code",
   "execution_count": 33,
   "metadata": {
    "vscode": {
     "languageId": "r"
    }
   },
   "outputs": [],
   "source": [
    "calculo_manufactura <- function(data_list) {\n",
    "    for(year in names(data_list)) {\n",
    "        for(trim in names(data_list[[year]])){\n",
    "            if(!'SDEM' %in% names(data_list[[year]][[trim]])) next\n",
    "\n",
    "        df <- data_list[[year]][[trim]] [['SDEM']] %>%\n",
    "        clean_names() %>%\n",
    "        mutate(edad = as.numeric(eda)) %>%\n",
    "        filter(r_def == 0, (c_res == 1| c_res == 3), edad >= 15 & edad <= 98, clase2 == 1, ent == 9) \n",
    "\n",
    "        # Guardar nombres y df completo por si se necesita\n",
    "        Variables[[paste0(\"v\", year, \"_\", trim)]] <<- names(df)\n",
    "        PobTot[[paste0(\"pob_total_\", year, \"_\", trim)]] <<- df\n",
    "\n",
    "        df_manufactura <- df %>%\n",
    "        filter(rama == 2) %>%\n",
    "        mutate(rama = 'Manufacturera')\n",
    "\n",
    "        total_rama <- sum(df_manufactura$fac_tri, na.rm = TRUE)\n",
    "        total_pob <- sum(df$fac_tri, na.rm = TRUE)\n",
    "        porcentaje <- (total_rama / total_pob) * 100\n",
    "\n",
    "        Manufactura[[paste0('Manufacturera_', year, '_', trim)]] <<- tibble(\n",
    "            year = as.integer(year),\n",
    "            trimestre = trim,\n",
    "            rama = 'Manufacturera',\n",
    "            total_rama = total_rama,\n",
    "            pob_total = total_pob,\n",
    "            porcentaje = porcentaje\n",
    "        )\n",
    "        }\n",
    "    }\n",
    "}\n",
    "\n",
    "invisible(calculo_manufactura(data_list))"
   ]
  },
  {
   "cell_type": "code",
   "execution_count": 34,
   "metadata": {
    "vscode": {
     "languageId": "r"
    }
   },
   "outputs": [
    {
     "name": "stdout",
     "output_type": "stream",
     "text": [
      "\u001b[90m# A tibble: 16 × 6\u001b[39m\n",
      "    year trimestre rama          total_rama pob_total porcentaje\n",
      "   \u001b[3m\u001b[90m<int>\u001b[39m\u001b[23m \u001b[3m\u001b[90m<fct>\u001b[39m\u001b[23m     \u001b[3m\u001b[90m<chr>\u001b[39m\u001b[23m              \u001b[3m\u001b[90m<dbl>\u001b[39m\u001b[23m     \u001b[3m\u001b[90m<dbl>\u001b[39m\u001b[23m      \u001b[3m\u001b[90m<dbl>\u001b[39m\u001b[23m\n",
      "\u001b[90m 1\u001b[39m  \u001b[4m2\u001b[24m021 trim1     Manufacturera     \u001b[4m3\u001b[24m\u001b[4m9\u001b[24m\u001b[4m2\u001b[24m449   3\u001b[4m8\u001b[24m\u001b[4m7\u001b[24m\u001b[4m0\u001b[24m454      10.1 \n",
      "\u001b[90m 2\u001b[39m  \u001b[4m2\u001b[24m021 trim2     Manufacturera     \u001b[4m4\u001b[24m\u001b[4m0\u001b[24m\u001b[4m8\u001b[24m306   4\u001b[4m1\u001b[24m\u001b[4m1\u001b[24m\u001b[4m7\u001b[24m427       9.92\n",
      "\u001b[90m 3\u001b[39m  \u001b[4m2\u001b[24m021 trim3     Manufacturera     \u001b[4m4\u001b[24m\u001b[4m6\u001b[24m\u001b[4m6\u001b[24m702   4\u001b[4m3\u001b[24m\u001b[4m9\u001b[24m\u001b[4m3\u001b[24m859      10.6 \n",
      "\u001b[90m 4\u001b[39m  \u001b[4m2\u001b[24m021 trim4     Manufacturera     \u001b[4m4\u001b[24m\u001b[4m4\u001b[24m\u001b[4m4\u001b[24m658   4\u001b[4m4\u001b[24m\u001b[4m6\u001b[24m\u001b[4m5\u001b[24m106       9.96\n",
      "\u001b[90m 5\u001b[39m  \u001b[4m2\u001b[24m022 trim1     Manufacturera     \u001b[4m4\u001b[24m\u001b[4m6\u001b[24m\u001b[4m5\u001b[24m524   4\u001b[4m3\u001b[24m\u001b[4m8\u001b[24m\u001b[4m5\u001b[24m718      10.6 \n",
      "\u001b[90m 6\u001b[39m  \u001b[4m2\u001b[24m022 trim2     Manufacturera     \u001b[4m4\u001b[24m\u001b[4m7\u001b[24m\u001b[4m3\u001b[24m104   4\u001b[4m5\u001b[24m\u001b[4m3\u001b[24m\u001b[4m4\u001b[24m376      10.4 \n",
      "\u001b[90m 7\u001b[39m  \u001b[4m2\u001b[24m022 trim3     Manufacturera     \u001b[4m4\u001b[24m\u001b[4m7\u001b[24m\u001b[4m8\u001b[24m666   4\u001b[4m5\u001b[24m\u001b[4m4\u001b[24m\u001b[4m6\u001b[24m515      10.5 \n",
      "\u001b[90m 8\u001b[39m  \u001b[4m2\u001b[24m022 trim4     Manufacturera     \u001b[4m4\u001b[24m\u001b[4m9\u001b[24m\u001b[4m1\u001b[24m300   4\u001b[4m6\u001b[24m\u001b[4m9\u001b[24m\u001b[4m8\u001b[24m174      10.5 \n",
      "\u001b[90m 9\u001b[39m  \u001b[4m2\u001b[24m023 trim1     Manufacturera     \u001b[4m4\u001b[24m\u001b[4m6\u001b[24m\u001b[4m1\u001b[24m489   4\u001b[4m6\u001b[24m\u001b[4m9\u001b[24m\u001b[4m3\u001b[24m298       9.83\n",
      "\u001b[90m10\u001b[39m  \u001b[4m2\u001b[24m023 trim2     Manufacturera     \u001b[4m4\u001b[24m\u001b[4m4\u001b[24m\u001b[4m4\u001b[24m148   4\u001b[4m7\u001b[24m\u001b[4m0\u001b[24m\u001b[4m9\u001b[24m095       9.43\n",
      "\u001b[90m11\u001b[39m  \u001b[4m2\u001b[24m023 trim3     Manufacturera     \u001b[4m4\u001b[24m\u001b[4m1\u001b[24m\u001b[4m1\u001b[24m916   4\u001b[4m7\u001b[24m\u001b[4m1\u001b[24m\u001b[4m2\u001b[24m506       8.74\n",
      "\u001b[90m12\u001b[39m  \u001b[4m2\u001b[24m023 trim4     Manufacturera     \u001b[4m4\u001b[24m\u001b[4m5\u001b[24m\u001b[4m4\u001b[24m934   4\u001b[4m6\u001b[24m\u001b[4m5\u001b[24m\u001b[4m7\u001b[24m701       9.77\n",
      "\u001b[90m13\u001b[39m  \u001b[4m2\u001b[24m024 trim1     Manufacturera     \u001b[4m4\u001b[24m\u001b[4m0\u001b[24m\u001b[4m9\u001b[24m430   4\u001b[4m7\u001b[24m\u001b[4m1\u001b[24m\u001b[4m5\u001b[24m069       8.68\n",
      "\u001b[90m14\u001b[39m  \u001b[4m2\u001b[24m024 trim2     Manufacturera     \u001b[4m4\u001b[24m\u001b[4m7\u001b[24m\u001b[4m3\u001b[24m876   4\u001b[4m8\u001b[24m\u001b[4m3\u001b[24m\u001b[4m4\u001b[24m239       9.80\n",
      "\u001b[90m15\u001b[39m  \u001b[4m2\u001b[24m024 trim3     Manufacturera     \u001b[4m4\u001b[24m\u001b[4m4\u001b[24m\u001b[4m5\u001b[24m234   4\u001b[4m8\u001b[24m\u001b[4m9\u001b[24m\u001b[4m4\u001b[24m634       9.10\n",
      "\u001b[90m16\u001b[39m  \u001b[4m2\u001b[24m024 trim4     Manufacturera     \u001b[4m4\u001b[24m\u001b[4m8\u001b[24m\u001b[4m5\u001b[24m785   5\u001b[4m0\u001b[24m\u001b[4m1\u001b[24m\u001b[4m0\u001b[24m045       9.70\n"
     ]
    }
   ],
   "source": [
    "manufactura_final <- bind_rows(Manufactura) %>%\n",
    "mutate(trimestre = factor(trimestre, levels = c('trim1', 'trim2', 'trim3', 'trim4'))) %>%\n",
    "arrange(year, trimestre)\n",
    "\n",
    "print(manufactura_final)"
   ]
  },
  {
   "cell_type": "code",
   "execution_count": 35,
   "metadata": {
    "vscode": {
     "languageId": "r"
    }
   },
   "outputs": [],
   "source": [
    "write.csv(manufactura_final, 'PGD/Historico_Personal_Ocup_Indust_Manufac.csv', row.names = FALSE)"
   ]
  },
  {
   "cell_type": "markdown",
   "metadata": {},
   "source": [
    "Índice de productividad económica\n",
    "\n",
    "Promedio ponderado de los porcentajes de personal ocupado en las siguientes actividades:\n",
    "manufactura; \n",
    "construcción; \n",
    "servicios de esparcimiento culturales y deportivos;\n",
    "actividades en restaurantes y servicios de alojamiento; \n",
    "servicios profesionales, financieros y corporativos; \n",
    "servicios profesionales, científicos y técnicos\n"
   ]
  },
  {
   "cell_type": "code",
   "execution_count": 38,
   "metadata": {
    "vscode": {
     "languageId": "r"
    }
   },
   "outputs": [
    {
     "data": {
      "text/html": [
       "<style>\n",
       ".list-inline {list-style: none; margin:0; padding: 0}\n",
       ".list-inline>li {display: inline-block}\n",
       ".list-inline>li:not(:last-child)::after {content: \"\\00b7\"; padding: 0 .5ex}\n",
       "</style>\n",
       "<ol class=list-inline><li>'calculo_cientificos'</li><li>'calculo_construccion'</li><li>'calculo_corporativo'</li><li>'calculo_cultura'</li><li>'calculo_manufactura'</li><li>'calculo_ocupacion'</li><li>'calculo_turismo'</li><li>'Cientificos'</li><li>'cientificos_final'</li><li>'Construccion'</li><li>'construccion_final'</li><li>'Corporativo'</li><li>'corporativo_final'</li><li>'Cultura'</li><li>'cultura_final'</li><li>'data_list'</li><li>'descargar_enoe_csv'</li><li>'dir_datos'</li><li>'Manufactura'</li><li>'manufactura_final'</li><li>'PobTot'</li><li>'tasa_final'</li><li>'TasaOcupa'</li><li>'Turismo'</li><li>'turismo_final'</li><li>'Variables'</li></ol>\n"
      ],
      "text/latex": [
       "\\begin{enumerate*}\n",
       "\\item 'calculo\\_cientificos'\n",
       "\\item 'calculo\\_construccion'\n",
       "\\item 'calculo\\_corporativo'\n",
       "\\item 'calculo\\_cultura'\n",
       "\\item 'calculo\\_manufactura'\n",
       "\\item 'calculo\\_ocupacion'\n",
       "\\item 'calculo\\_turismo'\n",
       "\\item 'Cientificos'\n",
       "\\item 'cientificos\\_final'\n",
       "\\item 'Construccion'\n",
       "\\item 'construccion\\_final'\n",
       "\\item 'Corporativo'\n",
       "\\item 'corporativo\\_final'\n",
       "\\item 'Cultura'\n",
       "\\item 'cultura\\_final'\n",
       "\\item 'data\\_list'\n",
       "\\item 'descargar\\_enoe\\_csv'\n",
       "\\item 'dir\\_datos'\n",
       "\\item 'Manufactura'\n",
       "\\item 'manufactura\\_final'\n",
       "\\item 'PobTot'\n",
       "\\item 'tasa\\_final'\n",
       "\\item 'TasaOcupa'\n",
       "\\item 'Turismo'\n",
       "\\item 'turismo\\_final'\n",
       "\\item 'Variables'\n",
       "\\end{enumerate*}\n"
      ],
      "text/markdown": [
       "1. 'calculo_cientificos'\n",
       "2. 'calculo_construccion'\n",
       "3. 'calculo_corporativo'\n",
       "4. 'calculo_cultura'\n",
       "5. 'calculo_manufactura'\n",
       "6. 'calculo_ocupacion'\n",
       "7. 'calculo_turismo'\n",
       "8. 'Cientificos'\n",
       "9. 'cientificos_final'\n",
       "10. 'Construccion'\n",
       "11. 'construccion_final'\n",
       "12. 'Corporativo'\n",
       "13. 'corporativo_final'\n",
       "14. 'Cultura'\n",
       "15. 'cultura_final'\n",
       "16. 'data_list'\n",
       "17. 'descargar_enoe_csv'\n",
       "18. 'dir_datos'\n",
       "19. 'Manufactura'\n",
       "20. 'manufactura_final'\n",
       "21. 'PobTot'\n",
       "22. 'tasa_final'\n",
       "23. 'TasaOcupa'\n",
       "24. 'Turismo'\n",
       "25. 'turismo_final'\n",
       "26. 'Variables'\n",
       "\n",
       "\n"
      ],
      "text/plain": [
       " [1] \"calculo_cientificos\"  \"calculo_construccion\" \"calculo_corporativo\" \n",
       " [4] \"calculo_cultura\"      \"calculo_manufactura\"  \"calculo_ocupacion\"   \n",
       " [7] \"calculo_turismo\"      \"Cientificos\"          \"cientificos_final\"   \n",
       "[10] \"Construccion\"         \"construccion_final\"   \"Corporativo\"         \n",
       "[13] \"corporativo_final\"    \"Cultura\"              \"cultura_final\"       \n",
       "[16] \"data_list\"            \"descargar_enoe_csv\"   \"dir_datos\"           \n",
       "[19] \"Manufactura\"          \"manufactura_final\"    \"PobTot\"              \n",
       "[22] \"tasa_final\"           \"TasaOcupa\"            \"Turismo\"             \n",
       "[25] \"turismo_final\"        \"Variables\"           "
      ]
     },
     "metadata": {},
     "output_type": "display_data"
    }
   ],
   "source": [
    "#Llamar a todos los objetos creados con datos de la ENSU en el entorno de R \n",
    "ls()"
   ]
  },
  {
   "cell_type": "code",
   "execution_count": 39,
   "metadata": {
    "vscode": {
     "languageId": "r"
    }
   },
   "outputs": [
    {
     "name": "stdout",
     "output_type": "stream",
     "text": [
      "\u001b[90m# A tibble: 16 × 3\u001b[39m\n",
      "    year trimestre indice\n",
      "   \u001b[3m\u001b[90m<int>\u001b[39m\u001b[23m \u001b[3m\u001b[90m<fct>\u001b[39m\u001b[23m      \u001b[3m\u001b[90m<dbl>\u001b[39m\u001b[23m\n",
      "\u001b[90m 1\u001b[39m  \u001b[4m2\u001b[24m021 trim1       7.71\n",
      "\u001b[90m 2\u001b[39m  \u001b[4m2\u001b[24m021 trim2       7.74\n",
      "\u001b[90m 3\u001b[39m  \u001b[4m2\u001b[24m021 trim3       7.72\n",
      "\u001b[90m 4\u001b[39m  \u001b[4m2\u001b[24m021 trim4       7.86\n",
      "\u001b[90m 5\u001b[39m  \u001b[4m2\u001b[24m022 trim1       7.77\n",
      "\u001b[90m 6\u001b[39m  \u001b[4m2\u001b[24m022 trim2       8.18\n",
      "\u001b[90m 7\u001b[39m  \u001b[4m2\u001b[24m022 trim3       8.03\n",
      "\u001b[90m 8\u001b[39m  \u001b[4m2\u001b[24m022 trim4       8.35\n",
      "\u001b[90m 9\u001b[39m  \u001b[4m2\u001b[24m023 trim1       8.18\n",
      "\u001b[90m10\u001b[39m  \u001b[4m2\u001b[24m023 trim2       8.01\n",
      "\u001b[90m11\u001b[39m  \u001b[4m2\u001b[24m023 trim3       8.09\n",
      "\u001b[90m12\u001b[39m  \u001b[4m2\u001b[24m023 trim4       8.00\n",
      "\u001b[90m13\u001b[39m  \u001b[4m2\u001b[24m024 trim1       8.16\n",
      "\u001b[90m14\u001b[39m  \u001b[4m2\u001b[24m024 trim2       8.13\n",
      "\u001b[90m15\u001b[39m  \u001b[4m2\u001b[24m024 trim3       8.23\n",
      "\u001b[90m16\u001b[39m  \u001b[4m2\u001b[24m024 trim4       8.23\n"
     ]
    }
   ],
   "source": [
    "# Unir todos los data frames por año y trimestre\n",
    "indice <- manufactura_final %>%\n",
    "  select(year, trimestre, porcentaje) %>%\n",
    "  left_join(construccion_final %>% select(year, trimestre, porcentaje), by = c('year', 'trimestre')) %>%\n",
    "  left_join(cultura_final %>% select(year, trimestre, porcentaje), by = c('year', 'trimestre')) %>% \n",
    "  left_join(turismo_final %>% select(year, trimestre, porcentaje), by = c('year', 'trimestre')) %>%\n",
    "  left_join(corporativo_final %>% select(year, trimestre, porcentaje), by = c('year', 'trimestre')) %>%\n",
    "  left_join(cientificos_final %>% select(year, trimestre, porcentaje), by = c('year', 'trimestre')) %>%\n",
    "  mutate(indice = rowMeans(across(starts_with('porcentaje')), na.rm = TRUE)) %>%\n",
    "  select(year, trimestre, indice)\n",
    "\n",
    "# Ver resultado\n",
    "print(indice)\n"
   ]
  },
  {
   "cell_type": "markdown",
   "metadata": {},
   "source": [
    "Porcentaje de mujeres económicamente activas"
   ]
  },
  {
   "cell_type": "code",
   "execution_count": 40,
   "metadata": {
    "vscode": {
     "languageId": "r"
    }
   },
   "outputs": [],
   "source": [
    "Variables <- list() \n",
    "PEA <- list() \n",
    "Mujeres <- list() "
   ]
  },
  {
   "cell_type": "code",
   "execution_count": 41,
   "metadata": {
    "vscode": {
     "languageId": "r"
    }
   },
   "outputs": [],
   "source": [
    "calculo_mujeres <- function(data_list) {\n",
    "    for(year in names(data_list)) {\n",
    "        for(trim in names(data_list[[year]])) {\n",
    "            if(!'SDEM' %in% names(data_list[[year]][[trim]])) next\n",
    "\n",
    "            \n",
    "        df <- data_list[[year]][[trim]] [['SDEM']] %>%\n",
    "        clean_names() %>%\n",
    "        mutate(edad = as.numeric(eda)) %>%\n",
    "        filter(r_def == 0, (c_res == 1| c_res == 3), edad >= 15 & edad <= 98, clase1 == 1, ent == 9)\n",
    "\n",
    "        # Guardar nombres y df completo por si se necesita\n",
    "        Variables[[paste0(\"v\", year, \"_\", trim)]] <<- names(df)\n",
    "        PEA[[paste0(\"pob_total_\", year, \"_\", trim)]] <<- df\n",
    "\n",
    "        df_mujeres <- df %>%\n",
    "        filter(clase1 == 1, sex == 2) %>%\n",
    "        mutate(Clase = 'Mujeres_Econom_Activas')\n",
    "\n",
    "        mujeres_pea <- sum(df_mujeres$fac_tri, na.rm = TRUE)\n",
    "        pea <- sum(df$fac_tri, na.rm = TRUE)\n",
    "        porcentaje <- (mujeres_pea / pea) * 100\n",
    "\n",
    "        Mujeres[[paste0('Mujeres_Econom_Activas_', year, '_', trim)]] <<- tibble(\n",
    "            year = as.integer(year),\n",
    "            trimestre = trim,\n",
    "            sector = 'Mujeres_Econom_Activas',\n",
    "            mujeres_pea = mujeres_pea,\n",
    "            pea = pea,\n",
    "            porcentaje = porcentaje\n",
    "        )\n",
    "\n",
    "        }\n",
    "  \n",
    "        }\n",
    "    }\n",
    "\n",
    "invisible(calculo_mujeres(data_list))    "
   ]
  },
  {
   "cell_type": "code",
   "execution_count": 43,
   "metadata": {
    "vscode": {
     "languageId": "r"
    }
   },
   "outputs": [
    {
     "name": "stdout",
     "output_type": "stream",
     "text": [
      "\u001b[90m# A tibble: 16 × 6\u001b[39m\n",
      "    year trimestre sector                 mujeres_pea     pea porcentaje\n",
      "   \u001b[3m\u001b[90m<int>\u001b[39m\u001b[23m \u001b[3m\u001b[90m<fct>\u001b[39m\u001b[23m     \u001b[3m\u001b[90m<chr>\u001b[39m\u001b[23m                        \u001b[3m\u001b[90m<dbl>\u001b[39m\u001b[23m   \u001b[3m\u001b[90m<dbl>\u001b[39m\u001b[23m      \u001b[3m\u001b[90m<dbl>\u001b[39m\u001b[23m\n",
      "\u001b[90m 1\u001b[39m  \u001b[4m2\u001b[24m021 trim1     Mujeres_Econom_Activas     1\u001b[4m8\u001b[24m\u001b[4m1\u001b[24m\u001b[4m1\u001b[24m826 4\u001b[4m1\u001b[24m\u001b[4m7\u001b[24m\u001b[4m5\u001b[24m657       43.4\n",
      "\u001b[90m 2\u001b[39m  \u001b[4m2\u001b[24m021 trim2     Mujeres_Econom_Activas     1\u001b[4m9\u001b[24m\u001b[4m2\u001b[24m\u001b[4m4\u001b[24m527 4\u001b[4m4\u001b[24m\u001b[4m3\u001b[24m\u001b[4m9\u001b[24m594       43.3\n",
      "\u001b[90m 3\u001b[39m  \u001b[4m2\u001b[24m021 trim3     Mujeres_Econom_Activas     2\u001b[4m1\u001b[24m\u001b[4m2\u001b[24m\u001b[4m6\u001b[24m013 4\u001b[4m7\u001b[24m\u001b[4m2\u001b[24m\u001b[4m4\u001b[24m127       45.0\n",
      "\u001b[90m 4\u001b[39m  \u001b[4m2\u001b[24m021 trim4     Mujeres_Econom_Activas     2\u001b[4m1\u001b[24m\u001b[4m1\u001b[24m\u001b[4m4\u001b[24m965 4\u001b[4m7\u001b[24m\u001b[4m4\u001b[24m\u001b[4m4\u001b[24m648       44.6\n",
      "\u001b[90m 5\u001b[39m  \u001b[4m2\u001b[24m022 trim1     Mujeres_Econom_Activas     2\u001b[4m0\u001b[24m\u001b[4m5\u001b[24m\u001b[4m5\u001b[24m301 4\u001b[4m6\u001b[24m\u001b[4m5\u001b[24m\u001b[4m8\u001b[24m108       44.1\n",
      "\u001b[90m 6\u001b[39m  \u001b[4m2\u001b[24m022 trim2     Mujeres_Econom_Activas     2\u001b[4m0\u001b[24m\u001b[4m9\u001b[24m\u001b[4m5\u001b[24m642 4\u001b[4m7\u001b[24m\u001b[4m9\u001b[24m\u001b[4m3\u001b[24m126       43.7\n",
      "\u001b[90m 7\u001b[39m  \u001b[4m2\u001b[24m022 trim3     Mujeres_Econom_Activas     2\u001b[4m1\u001b[24m\u001b[4m2\u001b[24m\u001b[4m4\u001b[24m193 4\u001b[4m7\u001b[24m\u001b[4m9\u001b[24m\u001b[4m8\u001b[24m534       44.3\n",
      "\u001b[90m 8\u001b[39m  \u001b[4m2\u001b[24m022 trim4     Mujeres_Econom_Activas     2\u001b[4m2\u001b[24m\u001b[4m2\u001b[24m\u001b[4m0\u001b[24m223 4\u001b[4m9\u001b[24m\u001b[4m2\u001b[24m\u001b[4m1\u001b[24m131       45.1\n",
      "\u001b[90m 9\u001b[39m  \u001b[4m2\u001b[24m023 trim1     Mujeres_Econom_Activas     2\u001b[4m1\u001b[24m\u001b[4m5\u001b[24m\u001b[4m2\u001b[24m638 4\u001b[4m8\u001b[24m\u001b[4m7\u001b[24m\u001b[4m6\u001b[24m283       44.1\n",
      "\u001b[90m10\u001b[39m  \u001b[4m2\u001b[24m023 trim2     Mujeres_Econom_Activas     2\u001b[4m2\u001b[24m\u001b[4m4\u001b[24m\u001b[4m6\u001b[24m701 4\u001b[4m9\u001b[24m\u001b[4m2\u001b[24m\u001b[4m4\u001b[24m263       45.6\n",
      "\u001b[90m11\u001b[39m  \u001b[4m2\u001b[24m023 trim3     Mujeres_Econom_Activas     2\u001b[4m1\u001b[24m\u001b[4m8\u001b[24m\u001b[4m5\u001b[24m798 4\u001b[4m9\u001b[24m\u001b[4m1\u001b[24m\u001b[4m2\u001b[24m263       44.5\n",
      "\u001b[90m12\u001b[39m  \u001b[4m2\u001b[24m023 trim4     Mujeres_Econom_Activas     2\u001b[4m1\u001b[24m\u001b[4m9\u001b[24m\u001b[4m9\u001b[24m966 4\u001b[4m8\u001b[24m\u001b[4m4\u001b[24m\u001b[4m7\u001b[24m179       45.4\n",
      "\u001b[90m13\u001b[39m  \u001b[4m2\u001b[24m024 trim1     Mujeres_Econom_Activas     2\u001b[4m2\u001b[24m\u001b[4m7\u001b[24m\u001b[4m2\u001b[24m205 4\u001b[4m9\u001b[24m\u001b[4m1\u001b[24m\u001b[4m0\u001b[24m037       46.3\n",
      "\u001b[90m14\u001b[39m  \u001b[4m2\u001b[24m024 trim2     Mujeres_Econom_Activas     2\u001b[4m3\u001b[24m\u001b[4m7\u001b[24m\u001b[4m8\u001b[24m223 5\u001b[4m0\u001b[24m\u001b[4m3\u001b[24m\u001b[4m7\u001b[24m773       47.2\n",
      "\u001b[90m15\u001b[39m  \u001b[4m2\u001b[24m024 trim3     Mujeres_Econom_Activas     2\u001b[4m3\u001b[24m\u001b[4m8\u001b[24m\u001b[4m6\u001b[24m025 5\u001b[4m0\u001b[24m\u001b[4m9\u001b[24m\u001b[4m6\u001b[24m702       46.8\n",
      "\u001b[90m16\u001b[39m  \u001b[4m2\u001b[24m024 trim4     Mujeres_Econom_Activas     2\u001b[4m4\u001b[24m\u001b[4m8\u001b[24m\u001b[4m4\u001b[24m036 5\u001b[4m2\u001b[24m\u001b[4m1\u001b[24m\u001b[4m8\u001b[24m209       47.6\n"
     ]
    }
   ],
   "source": [
    "mujeres_final <- bind_rows(Mujeres) %>%\n",
    "mutate(trimestre = factor(trimestre, levels = c(\"trim1\", \"trim2\", \"trim3\", \"trim4\"))) %>%\n",
    "arrange(year, trimestre)\n",
    "\n",
    "print(mujeres_final)"
   ]
  },
  {
   "cell_type": "code",
   "execution_count": 44,
   "metadata": {
    "vscode": {
     "languageId": "r"
    }
   },
   "outputs": [],
   "source": [
    "write.csv(mujeres_final, 'Visor_CDMX/Historico_Mujeres_PEA.csv', row.names = FALSE)"
   ]
  },
  {
   "cell_type": "markdown",
   "metadata": {},
   "source": [
    "Actualización 2: La venganza de los indicadores"
   ]
  },
  {
   "cell_type": "markdown",
   "metadata": {},
   "source": [
    "Escolaridad promedio de la Ciudad de México"
   ]
  },
  {
   "cell_type": "code",
   "execution_count": 52,
   "metadata": {
    "vscode": {
     "languageId": "r"
    }
   },
   "outputs": [],
   "source": [
    "Escol_prom <- list()"
   ]
  },
  {
   "cell_type": "code",
   "execution_count": null,
   "metadata": {
    "vscode": {
     "languageId": "r"
    }
   },
   "outputs": [],
   "source": [
    "calculo_escolaridad <- function(data_list) {\n",
    "  for (year in names(data_list)) {\n",
    "    for (trim in names(data_list[[year]])) {\n",
    "      if (!'SDEM' %in% names(data_list[[year]][[trim]])) next\n",
    "\n",
    "      df <- data_list[[year]][[trim]][['SDEM']] %>%\n",
    "        clean_names() %>%\n",
    "        mutate(edad = as.numeric(eda),\n",
    "                escolar = as.numeric(anios_esc)) %>%\n",
    "        filter(r_def == 0, (c_res == 1 | c_res == 3), edad >= 15 & edad <= 98, ent == 9)\n",
    "\n",
    "        promedio_esc <- df %>%\n",
    "        filter(clase1 == 1, escolar != 99) %>%\n",
    "        summarise(promedio_esc = weighted.mean(escolar, fac_tri, na.rm = TRUE)) %>%   \n",
    "        pull(promedio_esc)\n",
    "\n",
    "        \n",
    "        Escol_prom[[paste0('promedio_', year, '_', trim)]] <<- tibble(\n",
    "          year = as.integer(year),\n",
    "          trimestre = trim,\n",
    "          escolaridad_promedio = promedio_esc)\n",
    "\n",
    "    }\n",
    "  }\n",
    "}\n",
    "\n",
    "# Ejecutar función sin mostrar resultados intermedios\n",
    "invisible(calculo_escolaridad(data_list))"
   ]
  },
  {
   "cell_type": "code",
   "execution_count": 54,
   "metadata": {
    "vscode": {
     "languageId": "r"
    }
   },
   "outputs": [
    {
     "name": "stdout",
     "output_type": "stream",
     "text": [
      "\u001b[90m# A tibble: 16 × 3\u001b[39m\n",
      "    year trimestre escolaridad_promedio\n",
      "   \u001b[3m\u001b[90m<int>\u001b[39m\u001b[23m \u001b[3m\u001b[90m<fct>\u001b[39m\u001b[23m                    \u001b[3m\u001b[90m<dbl>\u001b[39m\u001b[23m\n",
      "\u001b[90m 1\u001b[39m  \u001b[4m2\u001b[24m021 trim1                     12.1\n",
      "\u001b[90m 2\u001b[39m  \u001b[4m2\u001b[24m021 trim2                     12.0\n",
      "\u001b[90m 3\u001b[39m  \u001b[4m2\u001b[24m021 trim3                     12.0\n",
      "\u001b[90m 4\u001b[39m  \u001b[4m2\u001b[24m021 trim4                     12.1\n",
      "\u001b[90m 5\u001b[39m  \u001b[4m2\u001b[24m022 trim1                     12.1\n",
      "\u001b[90m 6\u001b[39m  \u001b[4m2\u001b[24m022 trim2                     12.1\n",
      "\u001b[90m 7\u001b[39m  \u001b[4m2\u001b[24m022 trim3                     12.2\n",
      "\u001b[90m 8\u001b[39m  \u001b[4m2\u001b[24m022 trim4                     12.3\n",
      "\u001b[90m 9\u001b[39m  \u001b[4m2\u001b[24m023 trim1                     12.2\n",
      "\u001b[90m10\u001b[39m  \u001b[4m2\u001b[24m023 trim2                     12.3\n",
      "\u001b[90m11\u001b[39m  \u001b[4m2\u001b[24m023 trim3                     12.3\n",
      "\u001b[90m12\u001b[39m  \u001b[4m2\u001b[24m023 trim4                     12.4\n",
      "\u001b[90m13\u001b[39m  \u001b[4m2\u001b[24m024 trim1                     12.5\n",
      "\u001b[90m14\u001b[39m  \u001b[4m2\u001b[24m024 trim2                     12.5\n",
      "\u001b[90m15\u001b[39m  \u001b[4m2\u001b[24m024 trim3                     12.4\n",
      "\u001b[90m16\u001b[39m  \u001b[4m2\u001b[24m024 trim4                     12.4\n"
     ]
    }
   ],
   "source": [
    "escolaridad_final <- bind_rows(Escol_prom) %>%\n",
    "mutate(trimestre = factor(trimestre, levels = c(\"trim1\", \"trim2\", \"trim3\", \"trim4\"))) %>%\n",
    "arrange(year, trimestre)\n",
    "\n",
    "print(escolaridad_final)"
   ]
  },
  {
   "cell_type": "code",
   "execution_count": 55,
   "metadata": {
    "vscode": {
     "languageId": "r"
    }
   },
   "outputs": [],
   "source": [
    "write.csv(escolaridad_final, 'Visor_CDMX/Historico_Escolaridad_Prom.csv', row.names = FALSE)"
   ]
  },
  {
   "cell_type": "markdown",
   "metadata": {},
   "source": [
    "Tasa de Informalidad Laboral"
   ]
  },
  {
   "cell_type": "code",
   "execution_count": 78,
   "metadata": {
    "vscode": {
     "languageId": "r"
    }
   },
   "outputs": [],
   "source": [
    "TasaInformal <- list()"
   ]
  },
  {
   "cell_type": "code",
   "execution_count": 90,
   "metadata": {
    "vscode": {
     "languageId": "r"
    }
   },
   "outputs": [],
   "source": [
    "calculo_informal <- function(data_list) {\n",
    "   for (year in names(data_list)) {\n",
    "    for (trim in names(data_list[[year]])) {\n",
    "      if (!'SDEM' %in% names(data_list[[year]][[trim]])) next\n",
    "\n",
    "      df <- data_list[[year]][[trim]][['SDEM']] %>%\n",
    "        clean_names() %>%\n",
    "        mutate(edad = as.numeric(eda)) %>%\n",
    "        filter(r_def == 0, (c_res == 1 | c_res == 3), edad >= 15 & edad <= 98, ent == 9)\n",
    "\n",
    "        pob_ocupada <- df %>%\n",
    "        filter(clase2 == 1) %>%\n",
    "        summarise(total_ocupa = sum(fac_tri, na.rm = TRUE)) %>%\n",
    "        pull(total_ocupa)\n",
    "\n",
    "        informal <- df %>%\n",
    "        filter(emp_ppal == 1) %>%\n",
    "        summarise(total_informal = sum(fac_tri, na.rm = TRUE)) %>%\n",
    "        pull(total_informal)\n",
    "\n",
    "        tasa <- (informal/pob_ocupada) * 100\n",
    "        \n",
    "        TasaInformal[[paste0('tasa_', year, '_', trim)]] <<- tibble(\n",
    "          year = as.integer(year),\n",
    "          trimestre = trim,\n",
    "          total_ocupa = pob_ocupada,\n",
    "          total_informal = informal,\n",
    "          tasa_informalidad = tasa)\n",
    "\n",
    "    }\n",
    "  }\n",
    "}\n",
    "\n",
    "# Ejecutar función sin mostrar resultados intermedios\n",
    "invisible(calculo_informal(data_list))\n"
   ]
  },
  {
   "cell_type": "code",
   "execution_count": 91,
   "metadata": {
    "vscode": {
     "languageId": "r"
    }
   },
   "outputs": [
    {
     "name": "stdout",
     "output_type": "stream",
     "text": [
      "\u001b[90m# A tibble: 16 × 5\u001b[39m\n",
      "    year trimestre total_ocupa total_informal tasa_informalidad\n",
      "   \u001b[3m\u001b[90m<int>\u001b[39m\u001b[23m \u001b[3m\u001b[90m<fct>\u001b[39m\u001b[23m           \u001b[3m\u001b[90m<dbl>\u001b[39m\u001b[23m          \u001b[3m\u001b[90m<dbl>\u001b[39m\u001b[23m             \u001b[3m\u001b[90m<dbl>\u001b[39m\u001b[23m\n",
      "\u001b[90m 1\u001b[39m  \u001b[4m2\u001b[24m021 trim1         3\u001b[4m8\u001b[24m\u001b[4m7\u001b[24m\u001b[4m0\u001b[24m454        1\u001b[4m7\u001b[24m\u001b[4m9\u001b[24m\u001b[4m4\u001b[24m589              46.4\n",
      "\u001b[90m 2\u001b[39m  \u001b[4m2\u001b[24m021 trim2         4\u001b[4m1\u001b[24m\u001b[4m1\u001b[24m\u001b[4m7\u001b[24m427        1\u001b[4m9\u001b[24m\u001b[4m3\u001b[24m\u001b[4m9\u001b[24m674              47.1\n",
      "\u001b[90m 3\u001b[39m  \u001b[4m2\u001b[24m021 trim3         4\u001b[4m3\u001b[24m\u001b[4m9\u001b[24m\u001b[4m3\u001b[24m859        2\u001b[4m1\u001b[24m\u001b[4m6\u001b[24m\u001b[4m8\u001b[24m037              49.3\n",
      "\u001b[90m 4\u001b[39m  \u001b[4m2\u001b[24m021 trim4         4\u001b[4m4\u001b[24m\u001b[4m6\u001b[24m\u001b[4m5\u001b[24m106        2\u001b[4m1\u001b[24m\u001b[4m4\u001b[24m\u001b[4m4\u001b[24m407              48.0\n",
      "\u001b[90m 5\u001b[39m  \u001b[4m2\u001b[24m022 trim1         4\u001b[4m3\u001b[24m\u001b[4m8\u001b[24m\u001b[4m5\u001b[24m718        2\u001b[4m0\u001b[24m\u001b[4m2\u001b[24m\u001b[4m3\u001b[24m263              46.1\n",
      "\u001b[90m 6\u001b[39m  \u001b[4m2\u001b[24m022 trim2         4\u001b[4m5\u001b[24m\u001b[4m3\u001b[24m\u001b[4m4\u001b[24m376        2\u001b[4m1\u001b[24m\u001b[4m8\u001b[24m\u001b[4m0\u001b[24m962              48.1\n",
      "\u001b[90m 7\u001b[39m  \u001b[4m2\u001b[24m022 trim3         4\u001b[4m5\u001b[24m\u001b[4m4\u001b[24m\u001b[4m6\u001b[24m515        2\u001b[4m1\u001b[24m\u001b[4m6\u001b[24m\u001b[4m8\u001b[24m004              47.7\n",
      "\u001b[90m 8\u001b[39m  \u001b[4m2\u001b[24m022 trim4         4\u001b[4m6\u001b[24m\u001b[4m9\u001b[24m\u001b[4m8\u001b[24m174        2\u001b[4m1\u001b[24m\u001b[4m5\u001b[24m\u001b[4m2\u001b[24m425              45.8\n",
      "\u001b[90m 9\u001b[39m  \u001b[4m2\u001b[24m023 trim1         4\u001b[4m6\u001b[24m\u001b[4m9\u001b[24m\u001b[4m3\u001b[24m298        2\u001b[4m1\u001b[24m\u001b[4m6\u001b[24m\u001b[4m9\u001b[24m763              46.2\n",
      "\u001b[90m10\u001b[39m  \u001b[4m2\u001b[24m023 trim2         4\u001b[4m7\u001b[24m\u001b[4m0\u001b[24m\u001b[4m9\u001b[24m095        2\u001b[4m1\u001b[24m\u001b[4m7\u001b[24m\u001b[4m9\u001b[24m459              46.3\n",
      "\u001b[90m11\u001b[39m  \u001b[4m2\u001b[24m023 trim3         4\u001b[4m7\u001b[24m\u001b[4m1\u001b[24m\u001b[4m2\u001b[24m506        2\u001b[4m1\u001b[24m\u001b[4m9\u001b[24m\u001b[4m1\u001b[24m013              46.5\n",
      "\u001b[90m12\u001b[39m  \u001b[4m2\u001b[24m023 trim4         4\u001b[4m6\u001b[24m\u001b[4m5\u001b[24m\u001b[4m7\u001b[24m701        2\u001b[4m1\u001b[24m\u001b[4m3\u001b[24m\u001b[4m1\u001b[24m762              45.8\n",
      "\u001b[90m13\u001b[39m  \u001b[4m2\u001b[24m024 trim1         4\u001b[4m7\u001b[24m\u001b[4m1\u001b[24m\u001b[4m5\u001b[24m069        2\u001b[4m1\u001b[24m\u001b[4m9\u001b[24m\u001b[4m2\u001b[24m253              46.5\n",
      "\u001b[90m14\u001b[39m  \u001b[4m2\u001b[24m024 trim2         4\u001b[4m8\u001b[24m\u001b[4m3\u001b[24m\u001b[4m4\u001b[24m239        2\u001b[4m1\u001b[24m\u001b[4m9\u001b[24m\u001b[4m0\u001b[24m661              45.3\n",
      "\u001b[90m15\u001b[39m  \u001b[4m2\u001b[24m024 trim3         4\u001b[4m8\u001b[24m\u001b[4m9\u001b[24m\u001b[4m4\u001b[24m634        2\u001b[4m2\u001b[24m\u001b[4m1\u001b[24m\u001b[4m5\u001b[24m259              45.3\n",
      "\u001b[90m16\u001b[39m  \u001b[4m2\u001b[24m024 trim4         5\u001b[4m0\u001b[24m\u001b[4m1\u001b[24m\u001b[4m0\u001b[24m045        2\u001b[4m2\u001b[24m\u001b[4m7\u001b[24m\u001b[4m8\u001b[24m232              45.5\n"
     ]
    }
   ],
   "source": [
    "informal_final <- bind_rows(TasaInformal) %>%\n",
    "  mutate(trimestre = factor(trimestre, levels = c('trim1', 'trim2', 'trim3', 'trim4'))) %>%\n",
    "  arrange(year, trimestre)\n",
    "\n",
    "print(informal_final)"
   ]
  },
  {
   "cell_type": "code",
   "execution_count": 92,
   "metadata": {
    "vscode": {
     "languageId": "r"
    }
   },
   "outputs": [],
   "source": [
    "write.csv(informal_final, 'Visor_CDMX/Historico_Tasa_Informalidad.csv', row.names = FALSE)"
   ]
  },
  {
   "cell_type": "markdown",
   "metadata": {},
   "source": [
    "Tasa de personal educativo\n",
    "\n",
    "*Nota: Cambiar los valores en el sistema, ya que los cálculos anteriores no se aplicó el criterio del descriptor del INEGI:\n",
    "\n",
    "R_DEF= 00 y C_RES=1 o 3 y EDAD 15 a 98 AÑOS"
   ]
  },
  {
   "cell_type": "code",
   "execution_count": 12,
   "metadata": {
    "vscode": {
     "languageId": "r"
    }
   },
   "outputs": [],
   "source": [
    "PobEdu <- list() "
   ]
  },
  {
   "cell_type": "code",
   "execution_count": 20,
   "metadata": {
    "vscode": {
     "languageId": "r"
    }
   },
   "outputs": [],
   "source": [
    "calculo_Pob_Edu <- function(data_list) {\n",
    "    for(year in names(data_list)) {\n",
    "        for(trim in names(data_list[[year]])) {\n",
    "        if(!'SDEM' %in% names(data_list[[year]][[trim]])) next\n",
    "\n",
    "        df <- data_list[[year]][[trim]][['SDEM']] %>%\n",
    "        clean_names() %>%\n",
    "        mutate(edad = as.numeric(eda)) %>%\n",
    "        filter(r_def == 0, (c_res == 1 | c_res == 3), edad >= 15 & edad <= 98, ent == 9)\n",
    "\n",
    "        pob_total <- df %>%\n",
    "        summarise(pob_total = sum(fac_tri, na.rm = TRUE)) %>%\n",
    "        pull(pob_total)\n",
    "\n",
    "        per_educa <- df %>%\n",
    "        filter(clase1 == 1, clase2 == 1, scian == 15) %>%\n",
    "        summarise(per_educa = sum(fac_tri, na.rm = TRUE)) %>%\n",
    "        pull(per_educa)\n",
    "\n",
    "        tasa_edu <- (per_educa/pob_total) * 100000\n",
    "\n",
    "        PobEdu[[paste0('edu_', year, '_', trim)]] <<- tibble(\n",
    "            year = as.integer(year),\n",
    "            trimestre = trim,\n",
    "            pob_total = pob_total,\n",
    "            per_educa = per_educa,\n",
    "            tasa_edu = tasa_edu)\n",
    "        }\n",
    "    } \n",
    "}\n",
    "\n",
    "invisible(calculo_Pob_Edu(data_list))"
   ]
  },
  {
   "cell_type": "code",
   "execution_count": 21,
   "metadata": {
    "vscode": {
     "languageId": "r"
    }
   },
   "outputs": [
    {
     "name": "stdout",
     "output_type": "stream",
     "text": [
      "\u001b[90m# A tibble: 16 × 5\u001b[39m\n",
      "    year trimestre pob_total per_educa tasa_edu\n",
      "   \u001b[3m\u001b[90m<int>\u001b[39m\u001b[23m \u001b[3m\u001b[90m<fct>\u001b[39m\u001b[23m         \u001b[3m\u001b[90m<dbl>\u001b[39m\u001b[23m     \u001b[3m\u001b[90m<dbl>\u001b[39m\u001b[23m    \u001b[3m\u001b[90m<dbl>\u001b[39m\u001b[23m\n",
      "\u001b[90m 1\u001b[39m  \u001b[4m2\u001b[24m021 trim1       7\u001b[4m7\u001b[24m\u001b[4m4\u001b[24m\u001b[4m6\u001b[24m749    \u001b[4m2\u001b[24m\u001b[4m3\u001b[24m\u001b[4m7\u001b[24m063    \u001b[4m3\u001b[24m060.\n",
      "\u001b[90m 2\u001b[39m  \u001b[4m2\u001b[24m021 trim2       7\u001b[4m7\u001b[24m\u001b[4m6\u001b[24m\u001b[4m2\u001b[24m196    \u001b[4m2\u001b[24m\u001b[4m6\u001b[24m\u001b[4m7\u001b[24m327    \u001b[4m3\u001b[24m444.\n",
      "\u001b[90m 3\u001b[39m  \u001b[4m2\u001b[24m021 trim3       7\u001b[4m7\u001b[24m\u001b[4m9\u001b[24m\u001b[4m1\u001b[24m992    \u001b[4m2\u001b[24m\u001b[4m8\u001b[24m\u001b[4m2\u001b[24m569    \u001b[4m3\u001b[24m626.\n",
      "\u001b[90m 4\u001b[39m  \u001b[4m2\u001b[24m021 trim4       7\u001b[4m7\u001b[24m\u001b[4m8\u001b[24m\u001b[4m8\u001b[24m791    \u001b[4m3\u001b[24m\u001b[4m0\u001b[24m\u001b[4m4\u001b[24m733    \u001b[4m3\u001b[24m912.\n",
      "\u001b[90m 5\u001b[39m  \u001b[4m2\u001b[24m022 trim1       7\u001b[4m7\u001b[24m\u001b[4m5\u001b[24m\u001b[4m2\u001b[24m905    \u001b[4m2\u001b[24m\u001b[4m5\u001b[24m\u001b[4m7\u001b[24m385    \u001b[4m3\u001b[24m320.\n",
      "\u001b[90m 6\u001b[39m  \u001b[4m2\u001b[24m022 trim2       7\u001b[4m7\u001b[24m\u001b[4m9\u001b[24m\u001b[4m4\u001b[24m652    \u001b[4m2\u001b[24m\u001b[4m9\u001b[24m\u001b[4m4\u001b[24m969    \u001b[4m3\u001b[24m784.\n",
      "\u001b[90m 7\u001b[39m  \u001b[4m2\u001b[24m022 trim3       7\u001b[4m8\u001b[24m\u001b[4m6\u001b[24m\u001b[4m1\u001b[24m002    \u001b[4m2\u001b[24m\u001b[4m4\u001b[24m\u001b[4m8\u001b[24m105    \u001b[4m3\u001b[24m156.\n",
      "\u001b[90m 8\u001b[39m  \u001b[4m2\u001b[24m022 trim4       7\u001b[4m8\u001b[24m\u001b[4m5\u001b[24m\u001b[4m7\u001b[24m997    \u001b[4m2\u001b[24m\u001b[4m9\u001b[24m\u001b[4m9\u001b[24m402    \u001b[4m3\u001b[24m810.\n",
      "\u001b[90m 9\u001b[39m  \u001b[4m2\u001b[24m023 trim1       7\u001b[4m8\u001b[24m\u001b[4m7\u001b[24m\u001b[4m8\u001b[24m274    \u001b[4m2\u001b[24m\u001b[4m6\u001b[24m\u001b[4m3\u001b[24m152    \u001b[4m3\u001b[24m340.\n",
      "\u001b[90m10\u001b[39m  \u001b[4m2\u001b[24m023 trim2       7\u001b[4m8\u001b[24m\u001b[4m9\u001b[24m\u001b[4m8\u001b[24m744    \u001b[4m2\u001b[24m\u001b[4m7\u001b[24m\u001b[4m5\u001b[24m598    \u001b[4m3\u001b[24m489.\n",
      "\u001b[90m11\u001b[39m  \u001b[4m2\u001b[24m023 trim3       7\u001b[4m9\u001b[24m\u001b[4m0\u001b[24m\u001b[4m3\u001b[24m429    \u001b[4m2\u001b[24m\u001b[4m8\u001b[24m\u001b[4m3\u001b[24m793    \u001b[4m3\u001b[24m591.\n",
      "\u001b[90m12\u001b[39m  \u001b[4m2\u001b[24m023 trim4       7\u001b[4m9\u001b[24m\u001b[4m3\u001b[24m\u001b[4m5\u001b[24m668    \u001b[4m2\u001b[24m\u001b[4m7\u001b[24m\u001b[4m1\u001b[24m716    \u001b[4m3\u001b[24m424.\n",
      "\u001b[90m13\u001b[39m  \u001b[4m2\u001b[24m024 trim1       7\u001b[4m9\u001b[24m\u001b[4m9\u001b[24m\u001b[4m6\u001b[24m699    \u001b[4m3\u001b[24m\u001b[4m0\u001b[24m\u001b[4m2\u001b[24m597    \u001b[4m3\u001b[24m784.\n",
      "\u001b[90m14\u001b[39m  \u001b[4m2\u001b[24m024 trim2       8\u001b[4m0\u001b[24m\u001b[4m1\u001b[24m\u001b[4m5\u001b[24m467    \u001b[4m3\u001b[24m\u001b[4m1\u001b[24m\u001b[4m4\u001b[24m024    \u001b[4m3\u001b[24m918.\n",
      "\u001b[90m15\u001b[39m  \u001b[4m2\u001b[24m024 trim3       8\u001b[4m0\u001b[24m\u001b[4m3\u001b[24m\u001b[4m1\u001b[24m706    \u001b[4m3\u001b[24m\u001b[4m0\u001b[24m\u001b[4m5\u001b[24m198    \u001b[4m3\u001b[24m800.\n",
      "\u001b[90m16\u001b[39m  \u001b[4m2\u001b[24m024 trim4       8\u001b[4m0\u001b[24m\u001b[4m0\u001b[24m\u001b[4m3\u001b[24m513    \u001b[4m3\u001b[24m\u001b[4m0\u001b[24m\u001b[4m3\u001b[24m630    \u001b[4m3\u001b[24m794.\n"
     ]
    }
   ],
   "source": [
    "pob_edu_final <- bind_rows(PobEdu) %>% \n",
    "mutate(trimestre = factor(trimestre, levels = c('trim1', 'trim2', 'trim3', 'trim4'))) %>%\n",
    "arrange(year, trimestre)\n",
    "\n",
    "print(pob_edu_final)"
   ]
  },
  {
   "cell_type": "code",
   "execution_count": 22,
   "metadata": {
    "vscode": {
     "languageId": "r"
    }
   },
   "outputs": [],
   "source": [
    "write.csv(pob_edu_final, 'PGD/Historico_Tasa_Personal_Educativo.csv', row.names = FALSE)"
   ]
  },
  {
   "cell_type": "markdown",
   "metadata": {},
   "source": [
    "Tasa de personal de salud y asistencia social\n",
    "\n",
    "*Nota: Cambiar los valores en el sistema, ya que los cálculos anteriores no se aplicó el criterio del descriptor del INEGI:\n",
    "\n",
    "R_DEF= 00 y C_RES=1 o 3 y EDAD 15 a 98 AÑOS"
   ]
  },
  {
   "cell_type": "code",
   "execution_count": 8,
   "metadata": {
    "vscode": {
     "languageId": "r"
    }
   },
   "outputs": [],
   "source": [
    "PobSalud <- list() "
   ]
  },
  {
   "cell_type": "code",
   "execution_count": 14,
   "metadata": {
    "vscode": {
     "languageId": "r"
    }
   },
   "outputs": [],
   "source": [
    "calculo_Pob_Salud <- function(data_list) {\n",
    "    for(year in names(data_list)) {\n",
    "        for(trim in names(data_list[[year]])) {\n",
    "        if(!'SDEM' %in% names(data_list[[year]][[trim]])) next\n",
    "\n",
    "\n",
    "        df <- data_list[[year]][[trim]][['SDEM']] %>%\n",
    "        clean_names() %>%\n",
    "        mutate(edad = as.numeric(eda)) %>%\n",
    "        filter(r_def == 0, (c_res == 1 | c_res == 3), edad >= 15 & edad <= 98, ent == 9)\n",
    "\n",
    "        pob_total <- df %>%\n",
    "        summarise(pob_total = sum(fac_tri, na.rm = TRUE)) %>%\n",
    "        pull(pob_total)\n",
    "\n",
    "        per_salud <- df %>%\n",
    "        filter(clase1 == 1, clase2 == 1, scian == 16) %>%\n",
    "        summarise(per_salud = sum(fac_tri, na.rm = TRUE)) %>%\n",
    "        pull(per_salud)\n",
    "\n",
    "        tasa_salud <- (per_salud/pob_total) * 100000\n",
    "\n",
    "\n",
    "        PobSalud[[paste0('edu_', year, '_', trim)]] <<- tibble(\n",
    "            year = as.integer(year),\n",
    "            trimestre = trim,\n",
    "            pob_total = pob_total,\n",
    "            per_salud = per_salud,\n",
    "            tasa_salud = tasa_salud)\n",
    "        }\n",
    "    } \n",
    "}\n",
    "\n",
    "invisible(calculo_Pob_Salud(data_list))"
   ]
  },
  {
   "cell_type": "code",
   "execution_count": 15,
   "metadata": {
    "vscode": {
     "languageId": "r"
    }
   },
   "outputs": [
    {
     "name": "stdout",
     "output_type": "stream",
     "text": [
      "\u001b[90m# A tibble: 16 × 5\u001b[39m\n",
      "    year trimestre pob_total per_salud tasa_salud\n",
      "   \u001b[3m\u001b[90m<int>\u001b[39m\u001b[23m \u001b[3m\u001b[90m<fct>\u001b[39m\u001b[23m         \u001b[3m\u001b[90m<dbl>\u001b[39m\u001b[23m     \u001b[3m\u001b[90m<dbl>\u001b[39m\u001b[23m      \u001b[3m\u001b[90m<dbl>\u001b[39m\u001b[23m\n",
      "\u001b[90m 1\u001b[39m  \u001b[4m2\u001b[24m021 trim1       7\u001b[4m7\u001b[24m\u001b[4m4\u001b[24m\u001b[4m6\u001b[24m749    \u001b[4m1\u001b[24m\u001b[4m7\u001b[24m\u001b[4m3\u001b[24m837      \u001b[4m2\u001b[24m244.\n",
      "\u001b[90m 2\u001b[39m  \u001b[4m2\u001b[24m021 trim2       7\u001b[4m7\u001b[24m\u001b[4m6\u001b[24m\u001b[4m2\u001b[24m196    \u001b[4m1\u001b[24m\u001b[4m8\u001b[24m\u001b[4m4\u001b[24m864      \u001b[4m2\u001b[24m382.\n",
      "\u001b[90m 3\u001b[39m  \u001b[4m2\u001b[24m021 trim3       7\u001b[4m7\u001b[24m\u001b[4m9\u001b[24m\u001b[4m1\u001b[24m992    \u001b[4m2\u001b[24m\u001b[4m1\u001b[24m\u001b[4m4\u001b[24m159      \u001b[4m2\u001b[24m748.\n",
      "\u001b[90m 4\u001b[39m  \u001b[4m2\u001b[24m021 trim4       7\u001b[4m7\u001b[24m\u001b[4m8\u001b[24m\u001b[4m8\u001b[24m791    \u001b[4m2\u001b[24m\u001b[4m1\u001b[24m\u001b[4m4\u001b[24m169      \u001b[4m2\u001b[24m750.\n",
      "\u001b[90m 5\u001b[39m  \u001b[4m2\u001b[24m022 trim1       7\u001b[4m7\u001b[24m\u001b[4m5\u001b[24m\u001b[4m2\u001b[24m905    \u001b[4m2\u001b[24m\u001b[4m3\u001b[24m\u001b[4m4\u001b[24m828      \u001b[4m3\u001b[24m029.\n",
      "\u001b[90m 6\u001b[39m  \u001b[4m2\u001b[24m022 trim2       7\u001b[4m7\u001b[24m\u001b[4m9\u001b[24m\u001b[4m4\u001b[24m652    \u001b[4m2\u001b[24m\u001b[4m1\u001b[24m\u001b[4m5\u001b[24m758      \u001b[4m2\u001b[24m768.\n",
      "\u001b[90m 7\u001b[39m  \u001b[4m2\u001b[24m022 trim3       7\u001b[4m8\u001b[24m\u001b[4m6\u001b[24m\u001b[4m1\u001b[24m002    \u001b[4m2\u001b[24m\u001b[4m2\u001b[24m\u001b[4m5\u001b[24m968      \u001b[4m2\u001b[24m875.\n",
      "\u001b[90m 8\u001b[39m  \u001b[4m2\u001b[24m022 trim4       7\u001b[4m8\u001b[24m\u001b[4m5\u001b[24m\u001b[4m7\u001b[24m997    \u001b[4m2\u001b[24m\u001b[4m2\u001b[24m\u001b[4m8\u001b[24m777      \u001b[4m2\u001b[24m911.\n",
      "\u001b[90m 9\u001b[39m  \u001b[4m2\u001b[24m023 trim1       7\u001b[4m8\u001b[24m\u001b[4m7\u001b[24m\u001b[4m8\u001b[24m274    \u001b[4m2\u001b[24m\u001b[4m2\u001b[24m\u001b[4m6\u001b[24m810      \u001b[4m2\u001b[24m879.\n",
      "\u001b[90m10\u001b[39m  \u001b[4m2\u001b[24m023 trim2       7\u001b[4m8\u001b[24m\u001b[4m9\u001b[24m\u001b[4m8\u001b[24m744    \u001b[4m2\u001b[24m\u001b[4m2\u001b[24m\u001b[4m3\u001b[24m801      \u001b[4m2\u001b[24m833.\n",
      "\u001b[90m11\u001b[39m  \u001b[4m2\u001b[24m023 trim3       7\u001b[4m9\u001b[24m\u001b[4m0\u001b[24m\u001b[4m3\u001b[24m429    \u001b[4m2\u001b[24m\u001b[4m3\u001b[24m\u001b[4m9\u001b[24m623      \u001b[4m3\u001b[24m032.\n",
      "\u001b[90m12\u001b[39m  \u001b[4m2\u001b[24m023 trim4       7\u001b[4m9\u001b[24m\u001b[4m3\u001b[24m\u001b[4m5\u001b[24m668    \u001b[4m2\u001b[24m\u001b[4m5\u001b[24m\u001b[4m0\u001b[24m421      \u001b[4m3\u001b[24m156.\n",
      "\u001b[90m13\u001b[39m  \u001b[4m2\u001b[24m024 trim1       7\u001b[4m9\u001b[24m\u001b[4m9\u001b[24m\u001b[4m6\u001b[24m699    \u001b[4m2\u001b[24m\u001b[4m2\u001b[24m\u001b[4m6\u001b[24m065      \u001b[4m2\u001b[24m827.\n",
      "\u001b[90m14\u001b[39m  \u001b[4m2\u001b[24m024 trim2       8\u001b[4m0\u001b[24m\u001b[4m1\u001b[24m\u001b[4m5\u001b[24m467    \u001b[4m2\u001b[24m\u001b[4m7\u001b[24m\u001b[4m2\u001b[24m543      \u001b[4m3\u001b[24m400.\n",
      "\u001b[90m15\u001b[39m  \u001b[4m2\u001b[24m024 trim3       8\u001b[4m0\u001b[24m\u001b[4m3\u001b[24m\u001b[4m1\u001b[24m706    \u001b[4m2\u001b[24m\u001b[4m6\u001b[24m\u001b[4m2\u001b[24m162      \u001b[4m3\u001b[24m264.\n",
      "\u001b[90m16\u001b[39m  \u001b[4m2\u001b[24m024 trim4       8\u001b[4m0\u001b[24m\u001b[4m0\u001b[24m\u001b[4m3\u001b[24m513    \u001b[4m2\u001b[24m\u001b[4m7\u001b[24m\u001b[4m3\u001b[24m832      \u001b[4m3\u001b[24m421.\n"
     ]
    }
   ],
   "source": [
    "pob_salud_final <- bind_rows(PobSalud) %>% \n",
    "mutate(trimestre = factor(trimestre, levels = c('trim1', 'trim2', 'trim3', 'trim4'))) %>%\n",
    "arrange(year, trimestre)\n",
    "\n",
    "print(pob_salud_final)"
   ]
  },
  {
   "cell_type": "code",
   "execution_count": 18,
   "metadata": {
    "vscode": {
     "languageId": "r"
    }
   },
   "outputs": [],
   "source": [
    "write.csv(pob_salud_final, 'PGD/Historico_Tasa_Personal_Salud_Asisten_Social.csv', row.names = FALSE)"
   ]
  }
 ],
 "metadata": {
  "kernelspec": {
   "display_name": "R",
   "language": "R",
   "name": "ir"
  },
  "language_info": {
   "codemirror_mode": "r",
   "file_extension": ".r",
   "mimetype": "text/x-r-source",
   "name": "R",
   "pygments_lexer": "r",
   "version": "4.4.2"
  }
 },
 "nbformat": 4,
 "nbformat_minor": 2
}
