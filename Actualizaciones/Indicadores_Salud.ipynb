{
 "cells": [
  {
   "cell_type": "markdown",
   "id": "635b9d9c",
   "metadata": {},
   "source": [
    "## Indicadores de Salud de la Ciudad de México"
   ]
  },
  {
   "cell_type": "code",
   "execution_count": 1,
   "id": "4dcf0581",
   "metadata": {
    "vscode": {
     "languageId": "r"
    }
   },
   "outputs": [
    {
     "name": "stderr",
     "output_type": "stream",
     "text": [
      "Cargando paquete requerido: pacman\n",
      "\n"
     ]
    }
   ],
   "source": [
    "if(! require('pacman')) install.packages('pacman')\n",
    "pacman::p_load(tidyverse, readxl, janitor, stringr, writexl, foreign, downloader, tools)"
   ]
  },
  {
   "cell_type": "markdown",
   "id": "24d71e5b",
   "metadata": {},
   "source": [
    "## Tasa de Mortalidad en menores de 5 años de la Ciudad de México"
   ]
  },
  {
   "cell_type": "markdown",
   "id": "7cfe436a",
   "metadata": {},
   "source": [
    "Descargar datos de Defunciones Regsitradas de INEGI, que es la que se toma de acuerdo con Secretaría de Salud"
   ]
  },
  {
   "cell_type": "code",
   "execution_count": 56,
   "id": "4a052599",
   "metadata": {
    "vscode": {
     "languageId": "r"
    }
   },
   "outputs": [
    {
     "name": "stdout",
     "output_type": "stream",
     "text": [
      "[1] TRUE\n"
     ]
    }
   ],
   "source": [
    "#Definiciones para antes de descargar los datos\n",
    "# Crear directorio principal\n",
    "dir_datos <- 'Estadísticas de Defunciones Registradas (EDR)/Microdatos_1'\n",
    "if (!dir.exists(dir_datos)) {\n",
    "  dir.create(dir_datos, recursive = TRUE)\n",
    "}\n",
    "print(file.exists(dir_datos)) #True = directorio creado"
   ]
  },
  {
   "cell_type": "code",
   "execution_count": null,
   "id": "623b9207",
   "metadata": {
    "vscode": {
     "languageId": "r"
    }
   },
   "outputs": [
    {
     "name": "stdout",
     "output_type": "stream",
     "text": [
      "[1] TRUE\n"
     ]
    }
   ],
   "source": [
    "# Función para descargar y procesar los dbf de defunciones\n",
    "descargar_defunciones_dbf <- function() {\n",
    "  options(timeout = 90000)\n",
    "  lista_defun <- list()\n",
    "  \n",
    "  # Lista de URLs con sus años o periodos\n",
    "  urls <- list(\n",
    "    '2023' = 'https://www.inegi.org.mx/contenidos/programas/edr/microdatos/defunciones/2023/defunciones_base_datos_2023_dbf.zip',\n",
    "    '2022' = 'https://www.inegi.org.mx/contenidos/programas/edr/microdatos/defunciones/2022/defunciones_base_datos_2022_dbf.zip',\n",
    "    '2021' = 'https://www.inegi.org.mx/contenidos/programas/edr/microdatos/defunciones/2021/defunciones_base_datos_2021_dbf.zip',\n",
    "    '2020' = 'https://www.inegi.org.mx/contenidos/programas/edr/microdatos/defunciones/2020/defunciones_base_datos_2020_dbf.zip'\n",
    "    #'2015_2019' = 'https://www.inegi.org.mx/contenidos/programas/edr/microdatos/defunciones/datos/defunciones_generales_base_datos_2015_2019_dbf.zip'\n",
    "  )\n",
    "  \n",
    "  for (periodo in names(urls)) {\n",
    "    url <- urls[[periodo]]\n",
    "    zip_path <- file.path(dir_datos, basename(url))\n",
    "    download.file(url, zip_path, mode = \"wb\")\n",
    "    \n",
    "    # Carpeta para extraer\n",
    "    unzip_dir <- file.path(dir_datos, paste0('Defunciones_', periodo))\n",
    "    dir.create(unzip_dir, showWarnings = FALSE)\n",
    "    \n",
    "    unzip(zip_path, exdir = unzip_dir)\n",
    "    unlink(zip_path)  # borrar zip\n",
    "    \n",
    "    # Buscar archivos .dbf en el unzip_dir\n",
    "    dbf_files <- list.files(unzip_dir, pattern = '\\\\.dbf$', full.names = TRUE)\n",
    "    \n",
    "    if(length(dbf_files) == 0) {\n",
    "      warning(paste0('No se encontró archivo DBF para ', periodo))\n",
    "      next\n",
    "    }\n",
    "    \n",
    "    # Leer cada DBF y guardarlo en lista\n",
    "    period_lista_defun <- list()\n",
    "    for(dbf_file in dbf_files) {\n",
    "      nombre <- file_path_sans_ext(basename(dbf_file))\n",
    "      df <- tryCatch({\n",
    "        read.dbf(dbf_file, as.is = TRUE) %>% as_tibble() %>% clean_names()\n",
    "      }, error = function(e) {\n",
    "        warning(paste0('Error leyendo DBF: ', dbf_file))\n",
    "        NULL\n",
    "      })\n",
    "      \n",
    "      if(!is.null(df)) {\n",
    "        period_lista_defun[[nombre]] <- df\n",
    "      }\n",
    "    }\n",
    "    \n",
    "    lista_defun[[periodo]] <- period_lista_defun\n",
    "  }\n",
    "  \n",
    "  save(lista_defun, file = file.path(dir_datos, 'defunciones_lista_defun.RData'))\n",
    "  return(lista_defun)\n",
    "}\n"
   ]
  },
  {
   "cell_type": "code",
   "execution_count": 37,
   "id": "42add8ca",
   "metadata": {
    "vscode": {
     "languageId": "r"
    }
   },
   "outputs": [],
   "source": [
    "# Ejecutar descarga\n",
    "defunciones <- descargar_defunciones_dbf()"
   ]
  },
  {
   "cell_type": "code",
   "execution_count": null,
   "id": "1e9c7190",
   "metadata": {
    "vscode": {
     "languageId": "r"
    }
   },
   "outputs": [],
   "source": [
    "#Guardar la lista completa para no volver a descargar los datos\n",
    "saveRDS(defunciones, file = 'Estadísticas de Defunciones Registradas (EDR)/edr_data.rds')"
   ]
  },
  {
   "cell_type": "code",
   "execution_count": 40,
   "id": "e6525ca1",
   "metadata": {
    "vscode": {
     "languageId": "r"
    }
   },
   "outputs": [],
   "source": [
    "#Cargar la lista para evitar descargar los datos de nuevo\n",
    "defunciones <- readRDS('Estadísticas de Defunciones Registradas (EDR)/edr_data.rds')"
   ]
  },
  {
   "cell_type": "markdown",
   "id": "767956a2",
   "metadata": {},
   "source": [
    "Descargar los datos del Subsistema de Información sobre Nacimientos (SINAC) de la Secretaría de Salud Federal.\n",
    "\n",
    "*Comparando los nacimientos de la tabla de nacimientos de datos abiertos, con los de los tabulados de Secretaría de Salud, vemos que los datos ya están ajustados con CONAPO*"
   ]
  },
  {
   "cell_type": "code",
   "execution_count": null,
   "id": "0b4c67c0",
   "metadata": {
    "vscode": {
     "languageId": "r"
    }
   },
   "outputs": [],
   "source": [
    "#Definiciones para antes de descargar los datos\n",
    "\n",
    "#Crear lista para guardar los datos de sinac\n",
    "lista_nacimientos <- list()\n",
    "\n",
    "options(timeout = 600) #Aumentar el tiempo de espera para la descarga"
   ]
  },
  {
   "cell_type": "code",
   "execution_count": 13,
   "id": "7c4a749b",
   "metadata": {
    "vscode": {
     "languageId": "r"
    }
   },
   "outputs": [
    {
     "name": "stderr",
     "output_type": "stream",
     "text": [
      "Año 2019 procesado correctamente.\n",
      "\n",
      "Año 2020 procesado correctamente.\n",
      "\n",
      "Año 2021 procesado correctamente.\n",
      "\n",
      "Año 2022 procesado correctamente.\n",
      "\n",
      "Año 2023 procesado correctamente.\n",
      "\n"
     ]
    }
   ],
   "source": [
    "#iterar por los años de descarga\n",
    "    for(year in 19:23) {\n",
    "#Crear la cadena de los años 2020 a 2023\n",
    "        \n",
    "        year_str <- paste0('20', year)\n",
    "        #Cosntruir la url de descarga\n",
    "        url <- paste0('http://www.dgis.salud.gob.mx/descargas/datosabiertos/nacimientos/sinac_', year_str, '.zip')\n",
    "        \n",
    "        #nombre y carpeta del archivo zip\n",
    "        zip_file <- paste0('SINAC/sinac_', year_str, '.zip')\n",
    "        extract_dir <- paste0('SINAC/sinac_', year_str)\n",
    "#Crear carpeta si no existe\n",
    "        if(!dir.exists('SINAC')) dir.create('SINAC')\n",
    "\n",
    "#Intentar descargar archivos con trycatch\n",
    "        tryCatch({\n",
    "            download(url, destfile = zip_file, mode = 'wb')\n",
    "            \n",
    "            #Crear carpeta de extracción si no existe\n",
    "            if(!file.exists(extract_dir)) dir.create(extract_dir)\n",
    "                          \n",
    "            #Descrompimir el archivo zip\n",
    "            unzip(zip_file, exdir = extract_dir)\n",
    "\n",
    "             #Buscar los archivos descomprimidos\n",
    "            files <- list.files(extract_dir, full.names = TRUE)\n",
    "    \n",
    "    #Leer el primer archivo CSV encontrado (ajusta si es otro formato)\n",
    "            csv_file <- files[grep(\"\\\\.csv$\", files)][1]\n",
    "    \n",
    "        if (!is.na(csv_file)) {\n",
    "        df <- read.csv(csv_file, stringsAsFactors = FALSE) %>% clean_names()\n",
    "      \n",
    "        # Guardar el dataframe en la lista\n",
    "        lista_nacimientos[[year_str]] <- df\n",
    "        \n",
    "        # Eliminar el archivo ZIP\n",
    "        file.remove(zip_file)\n",
    "        \n",
    "        message(paste('Año', year_str, 'procesado correctamente.'))\n",
    "        } else {\n",
    "        message(paste('No se encontró archivo CSV en', extract_dir))\n",
    "        }\n",
    "    }, error = function(e) {\n",
    "        message(paste('Error al procesar el año', year_str))\n",
    "    })\n",
    "    }\n"
   ]
  },
  {
   "cell_type": "code",
   "execution_count": 23,
   "id": "4abc089f",
   "metadata": {
    "vscode": {
     "languageId": "r"
    }
   },
   "outputs": [],
   "source": [
    "#Guardar la lista completa para no volver a descargar los datos\n",
    "saveRDS(lista_nacimientos, file = 'SINAC/sinac_data.rds')"
   ]
  },
  {
   "cell_type": "code",
   "execution_count": 24,
   "id": "e3e59ae6",
   "metadata": {
    "vscode": {
     "languageId": "r"
    }
   },
   "outputs": [],
   "source": [
    "#Cargar la lista para evitar descargar los datos de nuevo\n",
    "lista_nacimientos <- readRDS('SINAC/sinac_data.rds')"
   ]
  },
  {
   "cell_type": "code",
   "execution_count": 54,
   "id": "33475f43",
   "metadata": {
    "vscode": {
     "languageId": "r"
    }
   },
   "outputs": [],
   "source": [
    "#Conjunto de nombres para los dataframes de defunciones\n",
    "nombres_def <- c('2020' = 'defun20','2021' = 'defun21', '2022' = 'DEFUN22', '2023' = 'DEFUN23')"
   ]
  },
  {
   "cell_type": "code",
   "execution_count": null,
   "id": "c5f6a96a",
   "metadata": {
    "vscode": {
     "languageId": "r"
    }
   },
   "outputs": [],
   "source": [
    "#Crear dataframe vacío para almacenar los resultados\n",
    "resultados <- tibble(anio = integer(), \n",
    "                     nacimientos = integer(), \n",
    "                     defunciones = integer(), \n",
    "                     tasa = numeric())"
   ]
  },
  {
   "cell_type": "code",
   "execution_count": null,
   "id": "b64094f6",
   "metadata": {
    "vscode": {
     "languageId": "r"
    }
   },
   "outputs": [],
   "source": [
    "#Definimos los años para los que vamos a calcular las tasas\n",
    "anios <- 2019:2023\n",
    "resultados <- tibble(año = integer(), nacimientos = integer(), defunciones = integer(), tasa = numeric())\n"
   ]
  },
  {
   "cell_type": "code",
   "execution_count": null,
   "id": "20fd0859",
   "metadata": {
    "vscode": {
     "languageId": "r"
    }
   },
   "outputs": [
    {
     "name": "stderr",
     "output_type": "stream",
     "text": [
      "Datos incompletos para el año 2019\n",
      "\n"
     ]
    },
    {
     "name": "stdout",
     "output_type": "stream",
     "text": [
      "\u001b[90m# A tibble: 4 × 4\u001b[39m\n",
      "   anio nacimientos defunciones  tasa\n",
      "  \u001b[3m\u001b[90m<int>\u001b[39m\u001b[23m       \u001b[3m\u001b[90m<int>\u001b[39m\u001b[23m       \u001b[3m\u001b[90m<int>\u001b[39m\u001b[23m \u001b[3m\u001b[90m<dbl>\u001b[39m\u001b[23m\n",
      "\u001b[90m1\u001b[39m  \u001b[4m2\u001b[24m020       \u001b[4m8\u001b[24m\u001b[4m7\u001b[24m005        \u001b[4m1\u001b[24m266  14.6\n",
      "\u001b[90m2\u001b[39m  \u001b[4m2\u001b[24m021       \u001b[4m7\u001b[24m\u001b[4m7\u001b[24m476        \u001b[4m1\u001b[24m062  13.7\n",
      "\u001b[90m3\u001b[39m  \u001b[4m2\u001b[24m022       \u001b[4m8\u001b[24m\u001b[4m0\u001b[24m892        \u001b[4m1\u001b[24m159  14.3\n",
      "\u001b[90m4\u001b[39m  \u001b[4m2\u001b[24m023       \u001b[4m7\u001b[24m\u001b[4m8\u001b[24m032        \u001b[4m1\u001b[24m152  14.8\n"
     ]
    }
   ],
   "source": [
    "# Iterar sobre los años y calcular tasas\n",
    "for (a in anios) {\n",
    "  anio_str <- as.character(a)\n",
    "  \n",
    "  if (!is.null(lista_nacimientos[[anio_str]]) && !is.null(defunciones[[anio_str]])) {\n",
    "    df_nac <- lista_nacimientos[[anio_str]]\n",
    "    nombre_df <- nombres_def[anio_str]\n",
    "    df_def <- defunciones[[anio_str]][[nombre_df]]\n",
    "    \n",
    "    nac <- df_nac %>%\n",
    "      filter(entidadresidencia == 9) %>%\n",
    "      summarise(nacimientos = n()) %>%\n",
    "      pull(nacimientos)\n",
    "    \n",
    "    def <- df_def %>%\n",
    "      filter(ent_resid == '09', anio_ocur == a, edad >= 1001, edad < 4005) %>%\n",
    "      summarise(defunciones = n()) %>%\n",
    "      pull(defunciones)\n",
    "    \n",
    "    tasa <- def / nac * 1000\n",
    "    \n",
    "    resultados <- resultados %>% add_row(anio = a, nacimientos = nac, defunciones = def, tasa = tasa)\n",
    "  } else {\n",
    "    message(paste('Datos incompletos para el año', a))\n",
    "  }\n",
    "}\n",
    "\n",
    "print(resultados)"
   ]
  }
 ],
 "metadata": {
  "kernelspec": {
   "display_name": "R",
   "language": "R",
   "name": "ir"
  },
  "language_info": {
   "codemirror_mode": "r",
   "file_extension": ".r",
   "mimetype": "text/x-r-source",
   "name": "R",
   "pygments_lexer": "r",
   "version": "4.4.2"
  }
 },
 "nbformat": 4,
 "nbformat_minor": 5
}
