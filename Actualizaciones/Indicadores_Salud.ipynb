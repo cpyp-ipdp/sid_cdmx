{
 "cells": [
  {
   "cell_type": "markdown",
   "id": "635b9d9c",
   "metadata": {},
   "source": [
    "## Indicadores de Salud de la Ciudad de México"
   ]
  },
  {
   "cell_type": "code",
   "execution_count": 1,
   "id": "4dcf0581",
   "metadata": {
    "vscode": {
     "languageId": "r"
    }
   },
   "outputs": [
    {
     "name": "stderr",
     "output_type": "stream",
     "text": [
      "Cargando paquete requerido: pacman\n",
      "\n"
     ]
    }
   ],
   "source": [
    "if(! require('pacman')) install.packages('pacman')\n",
    "pacman::p_load(tidyverse, readxl, janitor, stringr, writexl, foreign, downloader, tools)"
   ]
  },
  {
   "cell_type": "markdown",
   "id": "7cfe436a",
   "metadata": {},
   "source": [
    "Descargar datos de Defunciones Regsitradas de INEGI, que es la que se toma de acuerdo con Secretaría de Salud"
   ]
  },
  {
   "cell_type": "code",
   "execution_count": 46,
   "id": "4a052599",
   "metadata": {
    "vscode": {
     "languageId": "r"
    }
   },
   "outputs": [
    {
     "name": "stdout",
     "output_type": "stream",
     "text": [
      "[1] TRUE\n"
     ]
    }
   ],
   "source": [
    "#Definiciones para antes de descargar los datos\n",
    "# Crear directorio principal\n",
    "dir_datos <- 'Estadísticas de Defunciones Registradas (EDR)/Microdatos_1'\n",
    "if (!dir.exists(dir_datos)) {\n",
    "  dir.create(dir_datos, recursive = TRUE)\n",
    "}\n",
    "print(file.exists(dir_datos)) #True = directorio creado"
   ]
  },
  {
   "cell_type": "code",
   "execution_count": 47,
   "id": "bd42c1f1",
   "metadata": {
    "vscode": {
     "languageId": "r"
    }
   },
   "outputs": [],
   "source": [
    "# Función para descargar y procesar los dbf de defunciones\n",
    "descargar_defunciones_dbf <- function() {\n",
    "  options(timeout = 90000)\n",
    "  lista_defun <- list()\n",
    "  \n",
    "  # Lista de URLs con sus años o periodos\n",
    "  urls <- list(\n",
    "    '2023' = 'https://www.inegi.org.mx/contenidos/programas/edr/microdatos/defunciones/2023/defunciones_base_datos_2023_dbf.zip',\n",
    "    '2022' = 'https://www.inegi.org.mx/contenidos/programas/edr/microdatos/defunciones/2022/defunciones_base_datos_2022_dbf.zip',\n",
    "    '2021' = 'https://www.inegi.org.mx/contenidos/programas/edr/microdatos/defunciones/2021/defunciones_base_datos_2021_dbf.zip',\n",
    "    '2020' = 'https://www.inegi.org.mx/contenidos/programas/edr/microdatos/defunciones/2020/defunciones_base_datos_2020_dbf.zip'\n",
    "    #'2015_2019' = 'https://www.inegi.org.mx/contenidos/programas/edr/microdatos/defunciones/datos/defunciones_generales_base_datos_2015_2019_dbf.zip'\n",
    "  )\n",
    "  \n",
    "  for (periodo in names(urls)) {\n",
    "    url <- urls[[periodo]]\n",
    "    zip_path <- file.path(dir_datos, basename(url))\n",
    "    download.file(url, zip_path, mode = \"wb\")\n",
    "    \n",
    "    # Carpeta para extraer\n",
    "    unzip_dir <- file.path(dir_datos, paste0('Defunciones_', periodo))\n",
    "    dir.create(unzip_dir, showWarnings = FALSE)\n",
    "    \n",
    "    unzip(zip_path, exdir = unzip_dir)\n",
    "    unlink(zip_path)  # borrar zip\n",
    "    \n",
    "    # Buscar archivos .dbf en el unzip_dir\n",
    "    dbf_files <- list.files(unzip_dir, pattern = '\\\\.dbf$', full.names = TRUE, ignore.case = TRUE)\n",
    "    \n",
    "    if(length(dbf_files) == 0) {\n",
    "      warning(paste0('No se encontró archivo DBF para ', periodo))\n",
    "      next\n",
    "    }\n",
    "    \n",
    "    # Leer cada DBF y guardarlo en lista\n",
    "    period_lista_defun <- list()\n",
    "    for(dbf_file in dbf_files) {\n",
    "      nombre <- file_path_sans_ext(basename(dbf_file))\n",
    "      df <- tryCatch({\n",
    "        read.dbf(dbf_file, as.is = TRUE) %>% as_tibble() %>% clean_names()\n",
    "      }, error = function(e) {\n",
    "        warning(paste0('Error leyendo DBF: ', dbf_file))\n",
    "        NULL\n",
    "      })\n",
    "      \n",
    "      if(!is.null(df)) {\n",
    "        period_lista_defun[[nombre]] <- df\n",
    "      }\n",
    "    }\n",
    "    \n",
    "    lista_defun[[periodo]] <- period_lista_defun\n",
    "  }\n",
    "  \n",
    "  save(lista_defun, file = file.path(dir_datos, 'defunciones_lista_defun.RData'))\n",
    "  return(lista_defun)\n",
    "}"
   ]
  },
  {
   "cell_type": "code",
   "execution_count": 48,
   "id": "282f9d9b",
   "metadata": {
    "vscode": {
     "languageId": "r"
    }
   },
   "outputs": [],
   "source": [
    "# Ejecutar descarga\n",
    "defunciones <- descargar_defunciones_dbf()"
   ]
  },
  {
   "cell_type": "code",
   "execution_count": 56,
   "id": "1e9c7190",
   "metadata": {
    "vscode": {
     "languageId": "r"
    }
   },
   "outputs": [],
   "source": [
    "#Guardar la lista completa para no volver a descargar los datos\n",
    "saveRDS(defunciones, file = 'Estadísticas de Defunciones Registradas (EDR)/edr_data.rds')"
   ]
  },
  {
   "cell_type": "code",
   "execution_count": 57,
   "id": "e6525ca1",
   "metadata": {
    "vscode": {
     "languageId": "r"
    }
   },
   "outputs": [],
   "source": [
    "#Cargar la lista para evitar descargar los datos de nuevo\n",
    "defunciones <- readRDS('Estadísticas de Defunciones Registradas (EDR)/edr_data.rds')"
   ]
  },
  {
   "cell_type": "markdown",
   "id": "767956a2",
   "metadata": {},
   "source": [
    "Descargar los datos del Subsistema de Información sobre Nacimientos (SINAC) de la Secretaría de Salud Federal.\n",
    "\n",
    "*Comparando los nacimientos de la tabla de nacimientos de datos abiertos, con los de los tabulados de Secretaría de Salud, vemos que los datos ya están ajustados con CONAPO*"
   ]
  },
  {
   "cell_type": "code",
   "execution_count": null,
   "id": "0b4c67c0",
   "metadata": {
    "vscode": {
     "languageId": "r"
    }
   },
   "outputs": [],
   "source": [
    "#Definiciones para antes de descargar los datos\n",
    "\n",
    "#Crear lista para guardar los datos de sinac\n",
    "lista_nacimientos <- list()\n",
    "\n",
    "options(timeout = 600) #Aumentar el tiempo de espera para la descarga"
   ]
  },
  {
   "cell_type": "code",
   "execution_count": 13,
   "id": "7c4a749b",
   "metadata": {
    "vscode": {
     "languageId": "r"
    }
   },
   "outputs": [
    {
     "name": "stderr",
     "output_type": "stream",
     "text": [
      "Año 2019 procesado correctamente.\n",
      "\n",
      "Año 2020 procesado correctamente.\n",
      "\n",
      "Año 2021 procesado correctamente.\n",
      "\n",
      "Año 2022 procesado correctamente.\n",
      "\n",
      "Año 2023 procesado correctamente.\n",
      "\n"
     ]
    }
   ],
   "source": [
    "#iterar por los años de descarga\n",
    "    for(year in 19:23) {\n",
    "#Crear la cadena de los años 2020 a 2023\n",
    "        \n",
    "        year_str <- paste0('20', year)\n",
    "        #Cosntruir la url de descarga\n",
    "        url <- paste0('http://www.dgis.salud.gob.mx/descargas/datosabiertos/nacimientos/sinac_', year_str, '.zip')\n",
    "        \n",
    "        #nombre y carpeta del archivo zip\n",
    "        zip_file <- paste0('SINAC/sinac_', year_str, '.zip')\n",
    "        extract_dir <- paste0('SINAC/sinac_', year_str)\n",
    "#Crear carpeta si no existe\n",
    "        if(!dir.exists('SINAC')) dir.create('SINAC')\n",
    "\n",
    "#Intentar descargar archivos con trycatch\n",
    "        tryCatch({\n",
    "            download(url, destfile = zip_file, mode = 'wb')\n",
    "            \n",
    "            #Crear carpeta de extracción si no existe\n",
    "            if(!file.exists(extract_dir)) dir.create(extract_dir)\n",
    "                          \n",
    "            #Descrompimir el archivo zip\n",
    "            unzip(zip_file, exdir = extract_dir)\n",
    "\n",
    "             #Buscar los archivos descomprimidos\n",
    "            files <- list.files(extract_dir, full.names = TRUE)\n",
    "    \n",
    "    #Leer el primer archivo CSV encontrado (ajusta si es otro formato)\n",
    "            csv_file <- files[grep(\"\\\\.csv$\", files)][1]\n",
    "    \n",
    "        if (!is.na(csv_file)) {\n",
    "        df <- read.csv(csv_file, stringsAsFactors = FALSE) %>% clean_names()\n",
    "      \n",
    "        # Guardar el dataframe en la lista\n",
    "        lista_nacimientos[[year_str]] <- df\n",
    "        \n",
    "        # Eliminar el archivo ZIP\n",
    "        file.remove(zip_file)\n",
    "        \n",
    "        message(paste('Año', year_str, 'procesado correctamente.'))\n",
    "        } else {\n",
    "        message(paste('No se encontró archivo CSV en', extract_dir))\n",
    "        }\n",
    "    }, error = function(e) {\n",
    "        message(paste('Error al procesar el año', year_str))\n",
    "    })\n",
    "    }\n"
   ]
  },
  {
   "cell_type": "code",
   "execution_count": 23,
   "id": "4abc089f",
   "metadata": {
    "vscode": {
     "languageId": "r"
    }
   },
   "outputs": [],
   "source": [
    "#Guardar la lista completa para no volver a descargar los datos\n",
    "saveRDS(lista_nacimientos, file = 'SINAC/sinac_data.rds')"
   ]
  },
  {
   "cell_type": "code",
   "execution_count": 116,
   "id": "e3e59ae6",
   "metadata": {
    "vscode": {
     "languageId": "r"
    }
   },
   "outputs": [],
   "source": [
    "#Cargar la lista para evitar descargar los datos de nuevo\n",
    "lista_nacimientos <- readRDS('SINAC/sinac_data.rds')"
   ]
  },
  {
   "cell_type": "markdown",
   "id": "eaadb95c",
   "metadata": {},
   "source": [
    "Definimos los años para los cálculos"
   ]
  },
  {
   "cell_type": "code",
   "execution_count": 133,
   "id": "5e3c7311",
   "metadata": {
    "vscode": {
     "languageId": "r"
    }
   },
   "outputs": [],
   "source": [
    "anios <- 2019:2023"
   ]
  },
  {
   "cell_type": "markdown",
   "id": "9cecd3ef",
   "metadata": {},
   "source": [
    "Tasa de Mortalidad en menores de 5 años de la Ciudad de México"
   ]
  },
  {
   "cell_type": "code",
   "execution_count": 143,
   "id": "33475f43",
   "metadata": {
    "vscode": {
     "languageId": "r"
    }
   },
   "outputs": [],
   "source": [
    "#Conjunto de nombres para los dataframes de defunciones\n",
    "nombres_def <- c('2020' = 'defun20','2021' = 'defun21', '2022' = 'DEFUN22', '2023' = 'DEFUN23')"
   ]
  },
  {
   "cell_type": "code",
   "execution_count": 144,
   "id": "b64094f6",
   "metadata": {
    "vscode": {
     "languageId": "r"
    }
   },
   "outputs": [],
   "source": [
    "#Crear dataframe vacío para almacenar los resultados\n",
    "mortalidad_infantil <- tibble(anio = integer(), nacimientos = integer(), defunciones = integer(), tasa = numeric())\n"
   ]
  },
  {
   "cell_type": "code",
   "execution_count": 145,
   "id": "20fd0859",
   "metadata": {
    "vscode": {
     "languageId": "r"
    }
   },
   "outputs": [
    {
     "name": "stderr",
     "output_type": "stream",
     "text": [
      "Datos incompletos para el año 2019\n",
      "\n"
     ]
    },
    {
     "name": "stdout",
     "output_type": "stream",
     "text": [
      "\u001b[90m# A tibble: 4 × 4\u001b[39m\n",
      "   anio nacimientos defunciones  tasa\n",
      "  \u001b[3m\u001b[90m<int>\u001b[39m\u001b[23m       \u001b[3m\u001b[90m<int>\u001b[39m\u001b[23m       \u001b[3m\u001b[90m<int>\u001b[39m\u001b[23m \u001b[3m\u001b[90m<dbl>\u001b[39m\u001b[23m\n",
      "\u001b[90m1\u001b[39m  \u001b[4m2\u001b[24m020       \u001b[4m8\u001b[24m\u001b[4m7\u001b[24m005        \u001b[4m1\u001b[24m266  14.6\n",
      "\u001b[90m2\u001b[39m  \u001b[4m2\u001b[24m021       \u001b[4m7\u001b[24m\u001b[4m7\u001b[24m476        \u001b[4m1\u001b[24m062  13.7\n",
      "\u001b[90m3\u001b[39m  \u001b[4m2\u001b[24m022       \u001b[4m8\u001b[24m\u001b[4m0\u001b[24m892        \u001b[4m1\u001b[24m159  14.3\n",
      "\u001b[90m4\u001b[39m  \u001b[4m2\u001b[24m023       \u001b[4m7\u001b[24m\u001b[4m8\u001b[24m032        \u001b[4m1\u001b[24m152  14.8\n"
     ]
    }
   ],
   "source": [
    "# Iterar sobre los años y calcular tasas\n",
    "for (a in anios) {\n",
    "  anio_str <- as.character(a)\n",
    "  \n",
    "  if (!is.null(lista_nacimientos[[anio_str]]) && !is.null(defunciones[[anio_str]])) {\n",
    "    df_nac <- lista_nacimientos[[anio_str]]\n",
    "    nombre_df <- nombres_def[anio_str]\n",
    "    df_def <- defunciones[[anio_str]][[nombre_df]]\n",
    "    \n",
    "    nac <- df_nac %>%\n",
    "      filter(entidadresidencia == 9) %>%\n",
    "      summarise(nacimientos = n()) %>%\n",
    "      pull(nacimientos)\n",
    "    \n",
    "    def <- df_def %>%\n",
    "      filter(ent_resid == '09', anio_ocur == a, edad >= 1001, edad < 4005) %>%\n",
    "      summarise(defunciones = n()) %>%\n",
    "      pull(defunciones)\n",
    "    \n",
    "    tasa <- def / nac * 1000\n",
    "    \n",
    "    mortalidad_infantil <- mortalidad_infantil %>% \n",
    "    add_row(anio = a, nacimientos = nac, defunciones = def, tasa = tasa)\n",
    "  } else {\n",
    "    message(paste('Datos incompletos para el año', a))\n",
    "  }\n",
    "}\n",
    "\n",
    "print(mortalidad_infantil)"
   ]
  },
  {
   "cell_type": "markdown",
   "id": "d3872830",
   "metadata": {},
   "source": [
    "Total de nacimientos ocurridos en niñas y adolescentes menores de 15 años 2019-2023\n",
    "\n",
    "*Secretaría de Salud utiliza la variable Entidad de federativa del parto/certificado*"
   ]
  },
  {
   "cell_type": "code",
   "execution_count": 128,
   "id": "c7006194",
   "metadata": {
    "vscode": {
     "languageId": "r"
    }
   },
   "outputs": [],
   "source": [
    "#Crear tabla para guiardar los  resultados\n",
    "madres_menores_15 <- tibble(anio = integer(), nacimientos = integer())"
   ]
  },
  {
   "cell_type": "code",
   "execution_count": 130,
   "id": "bd33031a",
   "metadata": {
    "vscode": {
     "languageId": "r"
    }
   },
   "outputs": [
    {
     "name": "stdout",
     "output_type": "stream",
     "text": [
      "\u001b[90m# A tibble: 5 × 2\u001b[39m\n",
      "   anio nacimientos\n",
      "  \u001b[3m\u001b[90m<int>\u001b[39m\u001b[23m       \u001b[3m\u001b[90m<int>\u001b[39m\u001b[23m\n",
      "\u001b[90m1\u001b[39m  \u001b[4m2\u001b[24m019         322\n",
      "\u001b[90m2\u001b[39m  \u001b[4m2\u001b[24m020         272\n",
      "\u001b[90m3\u001b[39m  \u001b[4m2\u001b[24m021         321\n",
      "\u001b[90m4\u001b[39m  \u001b[4m2\u001b[24m022         304\n",
      "\u001b[90m5\u001b[39m  \u001b[4m2\u001b[24m023         299\n"
     ]
    }
   ],
   "source": [
    "for(a in anios) {\n",
    "    anio_str <- as.character(a)\n",
    "\n",
    "    if(!is.null(lista_nacimientos[[anio_str]])) {\n",
    "        df_nac <- lista_nacimientos[[anio_str]] %>% as.tibble()\n",
    "        \n",
    "        #Definir las variables Entidad y Edad por año\n",
    "        if (a == 2019) {\n",
    "            var_entidad <- 'ent_cert'\n",
    "            var_edad <- 'edadm'\n",
    "        } else {\n",
    "           var_entidad <- 'entidadfederativacertifica'\n",
    "           var_edad <- 'edad'\n",
    "        }\n",
    "        \n",
    "        #Filtrar y calcular\n",
    "        nacimientos_15 <- df_nac %>%\n",
    "        filter(.data [[var_entidad]] == 9, .data[[var_edad]] < 15) %>%\n",
    "        summarise(nacimientos = n()) %>%\n",
    "        pull(nacimientos)\n",
    "        \n",
    "        #Guardar los resutlados en la tabla creada\n",
    "        madres_menores_15 <- madres_menores_15 %>%\n",
    "        add_row(anio = a, nacimientos = nacimientos_15)\n",
    "        \n",
    "    } else {\n",
    "        message(paste('Datos incompletos para el año', a))\n",
    "    }\n",
    "}\n",
    "\n",
    "#Ver resultados\n",
    "print(madres_menores_15)"
   ]
  },
  {
   "cell_type": "markdown",
   "id": "5a1d3fc4",
   "metadata": {},
   "source": [
    "Mortalidad por enfermedades del corazón"
   ]
  },
  {
   "cell_type": "code",
   "execution_count": 66,
   "id": "91f982c5",
   "metadata": {
    "vscode": {
     "languageId": "r"
    }
   },
   "outputs": [
    {
     "data": {
      "text/html": [
       "<table class=\"dataframe\">\n",
       "<caption>A tibble: 6 × 74</caption>\n",
       "<thead>\n",
       "\t<tr><th scope=col>ent_regis</th><th scope=col>mun_regis</th><th scope=col>tloc_regis</th><th scope=col>loc_regis</th><th scope=col>ent_resid</th><th scope=col>mun_resid</th><th scope=col>tloc_resid</th><th scope=col>loc_resid</th><th scope=col>ent_ocurr</th><th scope=col>mun_ocurr</th><th scope=col>⋯</th><th scope=col>complicaro</th><th scope=col>dia_cert</th><th scope=col>mes_cert</th><th scope=col>anio_cert</th><th scope=col>maternas</th><th scope=col>ent_ocules</th><th scope=col>mun_ocules</th><th scope=col>loc_ocules</th><th scope=col>razon_m</th><th scope=col>dis_re_oax</th></tr>\n",
       "\t<tr><th scope=col>&lt;chr&gt;</th><th scope=col>&lt;chr&gt;</th><th scope=col>&lt;int&gt;</th><th scope=col>&lt;chr&gt;</th><th scope=col>&lt;chr&gt;</th><th scope=col>&lt;chr&gt;</th><th scope=col>&lt;int&gt;</th><th scope=col>&lt;chr&gt;</th><th scope=col>&lt;chr&gt;</th><th scope=col>&lt;chr&gt;</th><th scope=col>⋯</th><th scope=col>&lt;int&gt;</th><th scope=col>&lt;int&gt;</th><th scope=col>&lt;int&gt;</th><th scope=col>&lt;int&gt;</th><th scope=col>&lt;chr&gt;</th><th scope=col>&lt;chr&gt;</th><th scope=col>&lt;chr&gt;</th><th scope=col>&lt;chr&gt;</th><th scope=col>&lt;int&gt;</th><th scope=col>&lt;chr&gt;</th></tr>\n",
       "</thead>\n",
       "<tbody>\n",
       "\t<tr><td>01</td><td>003</td><td> 5</td><td>0055</td><td>09</td><td>017</td><td>14</td><td>0001</td><td>01</td><td>003</td><td>⋯</td><td>9</td><td>15</td><td>2</td><td>2023</td><td>NA</td><td>88</td><td>888</td><td>8888</td><td>NA</td><td>999</td></tr>\n",
       "\t<tr><td>01</td><td>001</td><td>15</td><td>0001</td><td>09</td><td>007</td><td>17</td><td>0001</td><td>01</td><td>001</td><td>⋯</td><td>9</td><td>20</td><td>1</td><td>2023</td><td>NA</td><td>88</td><td>888</td><td>8888</td><td>NA</td><td>999</td></tr>\n",
       "\t<tr><td>01</td><td>001</td><td>15</td><td>0001</td><td>09</td><td>005</td><td>16</td><td>0001</td><td>01</td><td>001</td><td>⋯</td><td>8</td><td> 5</td><td>1</td><td>2023</td><td>NA</td><td>88</td><td>888</td><td>8888</td><td>NA</td><td>999</td></tr>\n",
       "\t<tr><td>01</td><td>001</td><td>15</td><td>0001</td><td>09</td><td>017</td><td>14</td><td>0001</td><td>01</td><td>001</td><td>⋯</td><td>9</td><td>18</td><td>2</td><td>2023</td><td>NA</td><td>88</td><td>888</td><td>8888</td><td>NA</td><td>999</td></tr>\n",
       "\t<tr><td>01</td><td>003</td><td> 8</td><td>0001</td><td>09</td><td>017</td><td>14</td><td>0001</td><td>01</td><td>001</td><td>⋯</td><td>9</td><td>21</td><td>4</td><td>2023</td><td>NA</td><td>88</td><td>888</td><td>8888</td><td>NA</td><td>999</td></tr>\n",
       "\t<tr><td>01</td><td>001</td><td> 4</td><td>0239</td><td>09</td><td>016</td><td>14</td><td>0001</td><td>01</td><td>001</td><td>⋯</td><td>9</td><td>18</td><td>5</td><td>2023</td><td>NA</td><td>88</td><td>888</td><td>8888</td><td>NA</td><td>999</td></tr>\n",
       "</tbody>\n",
       "</table>\n"
      ],
      "text/latex": [
       "A tibble: 6 × 74\n",
       "\\begin{tabular}{lllllllllllllllllllll}\n",
       " ent\\_regis & mun\\_regis & tloc\\_regis & loc\\_regis & ent\\_resid & mun\\_resid & tloc\\_resid & loc\\_resid & ent\\_ocurr & mun\\_ocurr & ⋯ & complicaro & dia\\_cert & mes\\_cert & anio\\_cert & maternas & ent\\_ocules & mun\\_ocules & loc\\_ocules & razon\\_m & dis\\_re\\_oax\\\\\n",
       " <chr> & <chr> & <int> & <chr> & <chr> & <chr> & <int> & <chr> & <chr> & <chr> & ⋯ & <int> & <int> & <int> & <int> & <chr> & <chr> & <chr> & <chr> & <int> & <chr>\\\\\n",
       "\\hline\n",
       "\t 01 & 003 &  5 & 0055 & 09 & 017 & 14 & 0001 & 01 & 003 & ⋯ & 9 & 15 & 2 & 2023 & NA & 88 & 888 & 8888 & NA & 999\\\\\n",
       "\t 01 & 001 & 15 & 0001 & 09 & 007 & 17 & 0001 & 01 & 001 & ⋯ & 9 & 20 & 1 & 2023 & NA & 88 & 888 & 8888 & NA & 999\\\\\n",
       "\t 01 & 001 & 15 & 0001 & 09 & 005 & 16 & 0001 & 01 & 001 & ⋯ & 8 &  5 & 1 & 2023 & NA & 88 & 888 & 8888 & NA & 999\\\\\n",
       "\t 01 & 001 & 15 & 0001 & 09 & 017 & 14 & 0001 & 01 & 001 & ⋯ & 9 & 18 & 2 & 2023 & NA & 88 & 888 & 8888 & NA & 999\\\\\n",
       "\t 01 & 003 &  8 & 0001 & 09 & 017 & 14 & 0001 & 01 & 001 & ⋯ & 9 & 21 & 4 & 2023 & NA & 88 & 888 & 8888 & NA & 999\\\\\n",
       "\t 01 & 001 &  4 & 0239 & 09 & 016 & 14 & 0001 & 01 & 001 & ⋯ & 9 & 18 & 5 & 2023 & NA & 88 & 888 & 8888 & NA & 999\\\\\n",
       "\\end{tabular}\n"
      ],
      "text/markdown": [
       "\n",
       "A tibble: 6 × 74\n",
       "\n",
       "| ent_regis &lt;chr&gt; | mun_regis &lt;chr&gt; | tloc_regis &lt;int&gt; | loc_regis &lt;chr&gt; | ent_resid &lt;chr&gt; | mun_resid &lt;chr&gt; | tloc_resid &lt;int&gt; | loc_resid &lt;chr&gt; | ent_ocurr &lt;chr&gt; | mun_ocurr &lt;chr&gt; | ⋯ ⋯ | complicaro &lt;int&gt; | dia_cert &lt;int&gt; | mes_cert &lt;int&gt; | anio_cert &lt;int&gt; | maternas &lt;chr&gt; | ent_ocules &lt;chr&gt; | mun_ocules &lt;chr&gt; | loc_ocules &lt;chr&gt; | razon_m &lt;int&gt; | dis_re_oax &lt;chr&gt; |\n",
       "|---|---|---|---|---|---|---|---|---|---|---|---|---|---|---|---|---|---|---|---|---|\n",
       "| 01 | 003 |  5 | 0055 | 09 | 017 | 14 | 0001 | 01 | 003 | ⋯ | 9 | 15 | 2 | 2023 | NA | 88 | 888 | 8888 | NA | 999 |\n",
       "| 01 | 001 | 15 | 0001 | 09 | 007 | 17 | 0001 | 01 | 001 | ⋯ | 9 | 20 | 1 | 2023 | NA | 88 | 888 | 8888 | NA | 999 |\n",
       "| 01 | 001 | 15 | 0001 | 09 | 005 | 16 | 0001 | 01 | 001 | ⋯ | 8 |  5 | 1 | 2023 | NA | 88 | 888 | 8888 | NA | 999 |\n",
       "| 01 | 001 | 15 | 0001 | 09 | 017 | 14 | 0001 | 01 | 001 | ⋯ | 9 | 18 | 2 | 2023 | NA | 88 | 888 | 8888 | NA | 999 |\n",
       "| 01 | 003 |  8 | 0001 | 09 | 017 | 14 | 0001 | 01 | 001 | ⋯ | 9 | 21 | 4 | 2023 | NA | 88 | 888 | 8888 | NA | 999 |\n",
       "| 01 | 001 |  4 | 0239 | 09 | 016 | 14 | 0001 | 01 | 001 | ⋯ | 9 | 18 | 5 | 2023 | NA | 88 | 888 | 8888 | NA | 999 |\n",
       "\n"
      ],
      "text/plain": [
       "  ent_regis mun_regis tloc_regis loc_regis ent_resid mun_resid tloc_resid\n",
       "1 01        003        5         0055      09        017       14        \n",
       "2 01        001       15         0001      09        007       17        \n",
       "3 01        001       15         0001      09        005       16        \n",
       "4 01        001       15         0001      09        017       14        \n",
       "5 01        003        8         0001      09        017       14        \n",
       "6 01        001        4         0239      09        016       14        \n",
       "  loc_resid ent_ocurr mun_ocurr ⋯ complicaro dia_cert mes_cert anio_cert\n",
       "1 0001      01        003       ⋯ 9          15       2        2023     \n",
       "2 0001      01        001       ⋯ 9          20       1        2023     \n",
       "3 0001      01        001       ⋯ 8           5       1        2023     \n",
       "4 0001      01        001       ⋯ 9          18       2        2023     \n",
       "5 0001      01        001       ⋯ 9          21       4        2023     \n",
       "6 0001      01        001       ⋯ 9          18       5        2023     \n",
       "  maternas ent_ocules mun_ocules loc_ocules razon_m dis_re_oax\n",
       "1 NA       88         888        8888       NA      999       \n",
       "2 NA       88         888        8888       NA      999       \n",
       "3 NA       88         888        8888       NA      999       \n",
       "4 NA       88         888        8888       NA      999       \n",
       "5 NA       88         888        8888       NA      999       \n",
       "6 NA       88         888        8888       NA      999       "
      ]
     },
     "metadata": {},
     "output_type": "display_data"
    }
   ],
   "source": [
    "defun23 <- as_tibble(defunciones$'2023'$DEFUN23 ) %>%\n",
    "filter(ent_resid == '09')\n",
    "\n",
    "head(defun23)\n"
   ]
  },
  {
   "cell_type": "markdown",
   "id": "b250747f",
   "metadata": {},
   "source": [
    "Revisamos el catálogo de Lista Mexicana para ver los códigos de las principales causas de la defunción"
   ]
  },
  {
   "cell_type": "code",
   "execution_count": 71,
   "id": "a8bbf3ff",
   "metadata": {
    "vscode": {
     "languageId": "r"
    }
   },
   "outputs": [
    {
     "name": "stdout",
     "output_type": "stream",
     "text": [
      "\u001b[90m# A tibble: 5 × 2\u001b[39m\n",
      "  cve   descrip                                                                 \n",
      "  \u001b[3m\u001b[90m<chr>\u001b[39m\u001b[23m \u001b[3m\u001b[90m<chr>\u001b[39m\u001b[23m                                                                   \n",
      "\u001b[90m1\u001b[39m 26B   Enfermedades reum�ticas cr�nicas del coraz�n                            \n",
      "\u001b[90m2\u001b[39m 28    Enfermedades isqu�micas del coraz�n                                     \n",
      "\u001b[90m3\u001b[39m 28Z   Las dem�s enfermedades isqu�micas del coraz�n                           \n",
      "\u001b[90m4\u001b[39m 29    Enfermedades de la circulaci�n pulmonar y otras enfermedades del coraz�n\n",
      "\u001b[90m5\u001b[39m 29Z   Las dem�s enfermedades de la circulaci�n pulmonar y otras enfermedades …\n"
     ]
    }
   ],
   "source": [
    "catalogo <- as_tibble(defunciones$'2023'[['LISTAMEX']]) %>%\n",
    "filter(str_detect(descrip, 'coraz'))\n",
    "\n",
    "print(catalogo)"
   ]
  }
 ],
 "metadata": {
  "kernelspec": {
   "display_name": "R",
   "language": "R",
   "name": "ir"
  },
  "language_info": {
   "codemirror_mode": "r",
   "file_extension": ".r",
   "mimetype": "text/x-r-source",
   "name": "R",
   "pygments_lexer": "r",
   "version": "4.4.2"
  }
 },
 "nbformat": 4,
 "nbformat_minor": 5
}
