{
 "cells": [
  {
   "cell_type": "markdown",
   "id": "635b9d9c",
   "metadata": {},
   "source": [
    "## Indicadores de Salud de la Ciudad de México"
   ]
  },
  {
   "cell_type": "code",
   "execution_count": 1,
   "id": "4dcf0581",
   "metadata": {
    "vscode": {
     "languageId": "r"
    }
   },
   "outputs": [
    {
     "name": "stderr",
     "output_type": "stream",
     "text": [
      "Cargando paquete requerido: pacman\n",
      "\n"
     ]
    }
   ],
   "source": [
    "if(! require('pacman')) install.packages('pacman')\n",
    "pacman::p_load(tidyverse, readxl, janitor, stringr, writexl, foreign, downloader, tools)"
   ]
  },
  {
   "cell_type": "markdown",
   "id": "7cfe436a",
   "metadata": {},
   "source": [
    "Descargar datos de Defunciones Regsitradas de INEGI, que es la que se toma de acuerdo con Secretaría de Salud"
   ]
  },
  {
   "cell_type": "code",
   "execution_count": 2,
   "id": "4a052599",
   "metadata": {
    "vscode": {
     "languageId": "r"
    }
   },
   "outputs": [
    {
     "name": "stdout",
     "output_type": "stream",
     "text": [
      "[1] TRUE\n"
     ]
    }
   ],
   "source": [
    "#Definiciones para antes de descargar los datos\n",
    "# Crear directorio principal\n",
    "dir_datos <- 'Estadísticas de Defunciones Registradas (EDR)/Microdatos_1'\n",
    "if (!dir.exists(dir_datos)) {\n",
    "  dir.create(dir_datos, recursive = TRUE)\n",
    "}\n",
    "print(file.exists(dir_datos)) #True = directorio creado"
   ]
  },
  {
   "cell_type": "code",
   "execution_count": 5,
   "id": "bd42c1f1",
   "metadata": {
    "vscode": {
     "languageId": "r"
    }
   },
   "outputs": [],
   "source": [
    "# Función para descargar y procesar los dbf de defunciones\n",
    "descargar_defunciones_dbf <- function() {\n",
    "  options(timeout = 90000)\n",
    "  lista_defun <- list()\n",
    "  \n",
    "  # Lista de URLs con sus años o periodos\n",
    "  urls <- list(\n",
    "    '2023' = 'https://www.inegi.org.mx/contenidos/programas/edr/microdatos/defunciones/2023/defunciones_base_datos_2023_dbf.zip',\n",
    "    '2022' = 'https://www.inegi.org.mx/contenidos/programas/edr/microdatos/defunciones/2022/defunciones_base_datos_2022_dbf.zip',\n",
    "    '2021' = 'https://www.inegi.org.mx/contenidos/programas/edr/microdatos/defunciones/2021/defunciones_base_datos_2021_dbf.zip',\n",
    "    '2020' = 'https://www.inegi.org.mx/contenidos/programas/edr/microdatos/defunciones/2020/defunciones_base_datos_2020_dbf.zip'\n",
    "    #'2015_2019' = 'https://www.inegi.org.mx/contenidos/programas/edr/microdatos/defunciones/datos/defunciones_generales_base_datos_2015_2019_dbf.zip'\n",
    "  )\n",
    "  \n",
    "  for (periodo in names(urls)) {\n",
    "    url <- urls[[periodo]]\n",
    "    zip_path <- file.path(dir_datos, basename(url))\n",
    "    download.file(url, zip_path, mode = \"wb\")\n",
    "    \n",
    "    # Carpeta para extraer\n",
    "    unzip_dir <- file.path(dir_datos, paste0('Defunciones_', periodo))\n",
    "    dir.create(unzip_dir, showWarnings = FALSE)\n",
    "    \n",
    "    unzip(zip_path, exdir = unzip_dir)\n",
    "    unlink(zip_path)  # borrar zip\n",
    "    \n",
    "    # Buscar archivos .dbf en el unzip_dir\n",
    "    dbf_files <- list.files(unzip_dir, pattern = '\\\\.dbf$', full.names = TRUE, ignore.case = TRUE)\n",
    "    \n",
    "    if(length(dbf_files) == 0) {\n",
    "      warning(paste0('No se encontró archivo DBF para ', periodo))\n",
    "      next\n",
    "    }\n",
    "    \n",
    "    # Leer cada DBF y guardarlo en lista\n",
    "    period_lista_defun <- list()\n",
    "    for(dbf_file in dbf_files) {\n",
    "      nombre <- file_path_sans_ext(basename(dbf_file))\n",
    "      df <- tryCatch({\n",
    "        read.dbf(dbf_file, as.is = TRUE) %>% as_tibble() %>% clean_names()\n",
    "      }, error = function(e) {\n",
    "        warning(paste0('Error leyendo DBF: ', dbf_file))\n",
    "        NULL\n",
    "      })\n",
    "      \n",
    "      if(!is.null(df)) {\n",
    "        period_lista_defun[[nombre]] <- df\n",
    "      }\n",
    "    }\n",
    "    \n",
    "    lista_defun[[periodo]] <- period_lista_defun\n",
    "  }\n",
    "  \n",
    "  save(lista_defun, file = file.path(dir_datos, 'defunciones_lista_defun.RData'))\n",
    "  return(lista_defun)\n",
    "}"
   ]
  },
  {
   "cell_type": "code",
   "execution_count": 4,
   "id": "282f9d9b",
   "metadata": {
    "vscode": {
     "languageId": "r"
    }
   },
   "outputs": [
    {
     "ename": "",
     "evalue": "",
     "output_type": "error",
     "traceback": [
      "\u001b[1;31mThe Kernel crashed while executing code in the current cell or a previous cell. \n",
      "\u001b[1;31mPlease review the code in the cell(s) to identify a possible cause of the failure. \n",
      "\u001b[1;31mClick <a href='https://aka.ms/vscodeJupyterKernelCrash'>here</a> for more info. \n",
      "\u001b[1;31mView Jupyter <a href='command:jupyter.viewOutput'>log</a> for further details."
     ]
    }
   ],
   "source": [
    "# Ejecutar descarga\n",
    "defunciones <- descargar_defunciones_dbf()"
   ]
  },
  {
   "cell_type": "code",
   "execution_count": 4,
   "id": "1e9c7190",
   "metadata": {
    "vscode": {
     "languageId": "r"
    }
   },
   "outputs": [
    {
     "ename": "ERROR",
     "evalue": "Error: objeto 'defunciones' no encontrado\n",
     "output_type": "error",
     "traceback": [
      "Error: objeto 'defunciones' no encontrado\nTraceback:\n",
      "1. .handleSimpleError(function (cnd) \n . {\n .     watcher$capture_plot_and_output()\n .     cnd <- sanitize_call(cnd)\n .     watcher$push(cnd)\n .     switch(on_error, continue = invokeRestart(\"eval_continue\"), \n .         stop = invokeRestart(\"eval_stop\"), error = NULL)\n . }, \"objeto 'defunciones' no encontrado\", base::quote(eval(expr, \n .     envir)))"
     ]
    }
   ],
   "source": [
    "#Guardar la lista completa para no volver a descargar los datos\n",
    "saveRDS(defunciones, file = 'Estadísticas de Defunciones Registradas (EDR)/edr_data.rds')"
   ]
  },
  {
   "cell_type": "code",
   "execution_count": 6,
   "id": "e6525ca1",
   "metadata": {
    "vscode": {
     "languageId": "r"
    }
   },
   "outputs": [],
   "source": [
    "#Cargar la lista para evitar descargar los datos de nuevo\n",
    "defunciones <- readRDS('Estadísticas de Defunciones Registradas (EDR)/edr_data.rds')"
   ]
  },
  {
   "cell_type": "markdown",
   "id": "767956a2",
   "metadata": {},
   "source": [
    "Descargar los datos del Subsistema de Información sobre Nacimientos (SINAC) de la Secretaría de Salud Federal.\n",
    "\n",
    "*Comparando los nacimientos de la tabla de nacimientos de datos abiertos, con los de los tabulados de Secretaría de Salud, vemos que los datos ya están ajustados con CONAPO*"
   ]
  },
  {
   "cell_type": "code",
   "execution_count": 7,
   "id": "0b4c67c0",
   "metadata": {
    "vscode": {
     "languageId": "r"
    }
   },
   "outputs": [],
   "source": [
    "#Definiciones para antes de descargar los datos\n",
    "\n",
    "#Crear lista para guardar los datos de sinac\n",
    "lista_nacimientos <- list()\n",
    "\n",
    "options(timeout = 600) #Aumentar el tiempo de espera para la descarga"
   ]
  },
  {
   "cell_type": "code",
   "execution_count": 8,
   "id": "7c4a749b",
   "metadata": {
    "vscode": {
     "languageId": "r"
    }
   },
   "outputs": [
    {
     "name": "stderr",
     "output_type": "stream",
     "text": [
      "Año 2019 procesado correctamente.\n",
      "\n",
      "Año 2020 procesado correctamente.\n",
      "\n",
      "Año 2021 procesado correctamente.\n",
      "\n",
      "Año 2022 procesado correctamente.\n",
      "\n",
      "Año 2023 procesado correctamente.\n",
      "\n"
     ]
    }
   ],
   "source": [
    "#iterar por los años de descarga\n",
    "    for(year in 19:23) {\n",
    "#Crear la cadena de los años 2020 a 2023\n",
    "        \n",
    "        year_str <- paste0('20', year)\n",
    "        #Cosntruir la url de descarga\n",
    "        url <- paste0('http://www.dgis.salud.gob.mx/descargas/datosabiertos/nacimientos/sinac_', year_str, '.zip')\n",
    "        \n",
    "        #nombre y carpeta del archivo zip\n",
    "        zip_file <- paste0('SINAC/sinac_', year_str, '.zip')\n",
    "        extract_dir <- paste0('SINAC/sinac_', year_str)\n",
    "#Crear carpeta si no existe\n",
    "        if(!dir.exists('SINAC')) dir.create('SINAC')\n",
    "\n",
    "#Intentar descargar archivos con trycatch\n",
    "        tryCatch({\n",
    "            download(url, destfile = zip_file, mode = 'wb')\n",
    "            \n",
    "            #Crear carpeta de extracción si no existe\n",
    "            if(!file.exists(extract_dir)) dir.create(extract_dir)\n",
    "                          \n",
    "            #Descrompimir el archivo zip\n",
    "            unzip(zip_file, exdir = extract_dir)\n",
    "\n",
    "             #Buscar los archivos descomprimidos\n",
    "            files <- list.files(extract_dir, full.names = TRUE)\n",
    "    \n",
    "    #Leer el primer archivo CSV encontrado (ajusta si es otro formato)\n",
    "            csv_file <- files[grep(\"\\\\.csv$\", files)][1]\n",
    "    \n",
    "        if (!is.na(csv_file)) {\n",
    "        df <- read.csv(csv_file, stringsAsFactors = FALSE) %>% clean_names()\n",
    "      \n",
    "        # Guardar el dataframe en la lista\n",
    "        lista_nacimientos[[year_str]] <- df\n",
    "        \n",
    "        # Eliminar el archivo ZIP\n",
    "        file.remove(zip_file)\n",
    "        \n",
    "        message(paste('Año', year_str, 'procesado correctamente.'))\n",
    "        } else {\n",
    "        message(paste('No se encontró archivo CSV en', extract_dir))\n",
    "        }\n",
    "    }, error = function(e) {\n",
    "        message(paste('Error al procesar el año', year_str))\n",
    "    })\n",
    "    }\n"
   ]
  },
  {
   "cell_type": "code",
   "execution_count": 9,
   "id": "4abc089f",
   "metadata": {
    "vscode": {
     "languageId": "r"
    }
   },
   "outputs": [],
   "source": [
    "#Guardar la lista completa para no volver a descargar los datos\n",
    "saveRDS(lista_nacimientos, file = 'SINAC/sinac_data.rds')"
   ]
  },
  {
   "cell_type": "code",
   "execution_count": 10,
   "id": "e3e59ae6",
   "metadata": {
    "vscode": {
     "languageId": "r"
    }
   },
   "outputs": [],
   "source": [
    "#Cargar la lista para evitar descargar los datos de nuevo\n",
    "lista_nacimientos <- readRDS('SINAC/sinac_data.rds')"
   ]
  },
  {
   "cell_type": "markdown",
   "id": "4f8df22e",
   "metadata": {},
   "source": [
    "Descargar los datos del Censo Población y Vivienda 2020"
   ]
  },
  {
   "cell_type": "code",
   "execution_count": 192,
   "id": "d626d941",
   "metadata": {
    "vscode": {
     "languageId": "r"
    }
   },
   "outputs": [],
   "source": [
    "# Crear lista para guardar el censo\n",
    "lista_censo <- tibble()\n",
    "\n",
    "# Definir el año (en este caso solo 2020)\n",
    "anios_censo <- c(2020)\n",
    "\n",
    "# Aumentar tiempo de espera\n",
    "options(timeout = 600)"
   ]
  },
  {
   "cell_type": "code",
   "execution_count": 193,
   "id": "e6c439cc",
   "metadata": {
    "vscode": {
     "languageId": "r"
    }
   },
   "outputs": [],
   "source": [
    "# Carpeta raíz donde se guardará todo\n",
    "base_dir <- 'INEGI_CENSO'\n",
    "\n",
    "# URL fija del ZIP del censo\n",
    "url <- 'https://www.inegi.org.mx/contenidos/programas/ccpv/2020/microdatos/Censo2020_CPV_CB_Personas_ejemplo_csv.zip'"
   ]
  },
  {
   "cell_type": "code",
   "execution_count": 194,
   "id": "650bad20",
   "metadata": {
    "vscode": {
     "languageId": "r"
    }
   },
   "outputs": [
    {
     "name": "stdout",
     "output_type": "stream",
     "text": [
      "[1] \"Archivos descomprimidos:\"\n",
      "[1] \"INEGI_CENSO/INEGI. Censo 2020/Censo2020_CPV_CB_Personas_ejemplo_csv.CSV\"\n"
     ]
    },
    {
     "name": "stderr",
     "output_type": "stream",
     "text": [
      "Censo 2020 leído correctamente desde: INEGI_CENSO/INEGI. Censo 2020/Censo2020_CPV_CB_Personas_ejemplo_csv.CSV\n",
      "\n"
     ]
    }
   ],
   "source": [
    "# Carpeta raíz donde se guardará todo\n",
    "base_dir <- 'INEGI_CENSO'\n",
    "\n",
    "# Carpeta donde se descomprimirá el archivo (con el nombre que tú quieres)\n",
    "extract_dir <- file.path(base_dir, 'INEGI. Censo 2020')\n",
    "\n",
    "# URL fija del ZIP del censo\n",
    "url <- 'https://www.inegi.org.mx/contenidos/programas/ccpv/2020/microdatos/Censo2020_CPV_CB_Personas_ejemplo_csv.zip'\n",
    "\n",
    "# Archivo ZIP con nombre fijo\n",
    "zip_file <- file.path(base_dir, 'censo_2020.zip')\n",
    "\n",
    "# Crear carpeta base si no existe\n",
    "if (!dir.exists(base_dir)) dir.create(base_dir)\n",
    "\n",
    "# Descargar ZIP (solo si no existe)\n",
    "if (!file.exists(zip_file)) {\n",
    "  download.file(url, destfile = zip_file, mode = 'wb')\n",
    "}\n",
    "\n",
    "# Descomprimir directamente en la carpeta con el nombre que deseas\n",
    "if (!dir.exists(extract_dir)) {\n",
    "  unzip(zip_file, exdir = extract_dir)\n",
    "}\n",
    "\n",
    "# Listar todos los archivos descomprimidos para verificar\n",
    "files_all <- list.files(extract_dir, full.names = TRUE, recursive = TRUE)\n",
    "print('Archivos descomprimidos:')\n",
    "print(files_all)\n",
    "\n",
    "# Buscar archivo CSV (sin importar mayúsculas/minúsculas)\n",
    "files_csv <- list.files(extract_dir, pattern = \"\\\\.[cC][sS][vV]$\", full.names = TRUE, recursive = TRUE)\n",
    "\n",
    "if (length(files_csv) > 0) {\n",
    "  csv_file <- files_csv[1]  # Tomamos el primer CSV que encuentre\n",
    "  censo_df <- read.csv(csv_file, stringsAsFactors = FALSE) %>% janitor::clean_names()\n",
    "  \n",
    "  message(paste('Censo 2020 leído correctamente desde:', csv_file))\n",
    "} else {\n",
    "  message('⚠️ No se encontró ningún archivo CSV en la carpeta descomprimida.')\n",
    "}\n"
   ]
  },
  {
   "cell_type": "code",
   "execution_count": 196,
   "id": "da82e1f8",
   "metadata": {
    "vscode": {
     "languageId": "r"
    }
   },
   "outputs": [
    {
     "name": "stdout",
     "output_type": "stream",
     "text": [
      "'data.frame':\t1257506 obs. of  43 variables:\n",
      " $ ent             : int  21 21 21 14 14 14 14 21 21 21 ...\n",
      " $ mun             : int  108 108 108 86 86 86 44 86 216 216 ...\n",
      " $ loc             : int  1 1 1 1 1 1 1 1 1 1 ...\n",
      " $ ageb            : chr  \"0017\" \"0017\" \"0017\" \"0017\" ...\n",
      " $ mza             : int  1 1 1 3 3 3 3 4 6 6 ...\n",
      " $ seg             : chr  \"N\" \"N\" \"N\" \"N\" ...\n",
      " $ id_viv          : num  2.11e+11 2.11e+11 2.11e+11 1.41e+11 1.41e+11 ...\n",
      " $ id_persona      : num  2.11e+16 2.11e+16 2.11e+16 1.41e+16 1.41e+16 ...\n",
      " $ tipo_reg        : int  0 0 0 0 0 0 0 0 0 0 ...\n",
      " $ clase_viv       : int  2 2 2 3 3 3 3 2 2 2 ...\n",
      " $ numper          : int  1 3 2 3 1 2 1 1 1 2 ...\n",
      " $ sexo            : int  1 3 1 3 3 1 1 3 3 1 ...\n",
      " $ edad            : int  35 66 78 2 18 21 28 39 70 47 ...\n",
      " $ parent          : int  1 6 6 3 1 2 1 1 1 3 ...\n",
      " $ ent_pais_nac    : int  32 32 32 1 1 1 1 20 5 1 ...\n",
      " $ afrodes         : int  3 3 3 3 3 3 3 3 3 3 ...\n",
      " $ dhsersal1       : int  1 9 9 1 1 1 9 1 1 9 ...\n",
      " $ dhsersal2       : int  NA NA NA NA NA NA NA NA NA NA ...\n",
      " $ religion        : int  1101 1101 1101 1101 1101 1101 3101 1101 1101 1101 ...\n",
      " $ dis_ver         : int  1 1 2 1 1 1 1 1 2 2 ...\n",
      " $ dis_oir         : int  1 1 2 1 1 1 1 1 2 2 ...\n",
      " $ dis_caminar     : int  1 1 2 1 1 1 1 1 2 2 ...\n",
      " $ dis_recordar    : int  1 1 1 1 1 1 1 1 2 2 ...\n",
      " $ dis_banarse     : int  1 1 1 1 1 1 1 1 2 2 ...\n",
      " $ dis_hablar      : int  1 1 1 1 1 1 1 1 1 2 ...\n",
      " $ dis_mental      : int  6 6 6 6 6 6 6 6 6 5 ...\n",
      " $ hlengua         : int  3 3 3 NA 3 3 3 3 3 3 ...\n",
      " $ qdialect_inali  : int  NA NA NA NA NA NA NA NA NA NA ...\n",
      " $ hespanol        : int  NA NA NA NA NA NA NA NA NA NA ...\n",
      " $ asisten         : int  3 3 3 NA 3 3 3 3 3 3 ...\n",
      " $ nivacad         : int  11 2 2 NA 3 3 3 4 2 4 ...\n",
      " $ escolari        : int  3 5 3 NA 3 3 3 3 3 1 ...\n",
      " $ alfabet         : int  1 1 1 NA 1 1 1 1 1 1 ...\n",
      " $ escoacum        : int  15 5 3 NA 9 9 9 12 3 10 ...\n",
      " $ ent_pais_res_5a : int  21 23 23 14 14 14 14 23 21 21 ...\n",
      " $ mun_res_5a      : int  108 9 9 86 86 86 44 9 216 216 ...\n",
      " $ causa_mig_v     : int  NA 301 301 NA NA NA NA 102 NA NA ...\n",
      " $ situa_conyugal  : int  8 5 5 NA 1 1 8 5 2 8 ...\n",
      " $ conact          : int  10 80 80 NA 10 60 10 10 30 70 ...\n",
      " $ hijos_nac_vivos : int  NA 11 NA NA 1 NA NA 4 3 NA ...\n",
      " $ hijos_fallecidos: int  NA 0 NA NA 0 NA NA 0 1 NA ...\n",
      " $ tamloc          : int  5 5 5 5 5 5 5 5 5 5 ...\n",
      " $ tamloc14        : int  13 13 13 13 13 13 13 13 13 13 ...\n"
     ]
    }
   ],
   "source": [
    "str(censo_df)"
   ]
  },
  {
   "cell_type": "markdown",
   "id": "78c37d23",
   "metadata": {},
   "source": [
    "Datos de población de CONAPO"
   ]
  },
  {
   "cell_type": "code",
   "execution_count": 177,
   "id": "8ff14105",
   "metadata": {
    "vscode": {
     "languageId": "r"
    }
   },
   "outputs": [],
   "source": [
    "# Vector de años (ejemplo, aunque el ZIP no varía con el año)\n",
    "anios <- 2023  # o la lista que tengas\n",
    "\n",
    "# Carpeta raíz donde se guardará todo\n",
    "base_dir <- 'CONAPO'\n",
    "\n",
    "\n",
    "# URL fija del ZIP (mismo siempre)\n",
    "url <- 'https://conapo.segob.gob.mx/work/models/CONAPO/pry23/DB/ConDem50a19_ProyPob20a70.zip'\n",
    "\n"
   ]
  },
  {
   "cell_type": "code",
   "execution_count": 175,
   "id": "32a5824e",
   "metadata": {
    "vscode": {
     "languageId": "r"
    }
   },
   "outputs": [],
   "source": [
    "# Crear lista para guardar los datos de CONAPO\n",
    "lista_conapo <- tibble()"
   ]
  },
  {
   "cell_type": "code",
   "execution_count": 180,
   "id": "adc782d9",
   "metadata": {
    "vscode": {
     "languageId": "r"
    }
   },
   "outputs": [
    {
     "name": "stderr",
     "output_type": "stream",
     "text": [
      "Archivo CONAPO leído correctamente.\n",
      "\n"
     ]
    }
   ],
   "source": [
    "# URL fija del ZIP\n",
    "url <- 'https://conapo.segob.gob.mx/work/models/CONAPO/pry23/DB/ConDem50a19_ProyPob20a70.zip'\n",
    "\n",
    "# Archivos y carpetas fijos según el ZIP descargado\n",
    "zip_file <- file.path(base_dir, 'conapo_data.zip')\n",
    "extract_dir <- file.path(base_dir, 'ConDem50a19_ProyPob20a70')\n",
    "\n",
    "# Crear carpeta base si no existe\n",
    "if (!dir.exists(base_dir)) dir.create(base_dir)\n",
    "\n",
    "# Descargar y descomprimir (solo una vez)\n",
    "if (!file.exists(zip_file)) {\n",
    "  download.file(url, destfile = zip_file, mode = 'wb')\n",
    "}\n",
    "\n",
    "if (!dir.exists(extract_dir)) {\n",
    "  unzip(zip_file, exdir = base_dir)\n",
    "}\n",
    "\n",
    "# Buscar archivo Excel dentro de la carpeta descomprimida\n",
    "files <- list.files(extract_dir, pattern = \"\\\\.xlsx$\", full.names = TRUE)\n",
    "excel_file <- files[1]  # El primer archivo Excel que encuentre\n",
    "\n",
    "if (!is.na(excel_file)) {\n",
    "  # Leer el Excel directamente como tibble\n",
    "  conapo_df <- read_excel(excel_file) %>% janitor::clean_names()\n",
    "  \n",
    "  message('Archivo CONAPO leído correctamente.')\n",
    "} else {\n",
    "  message('No se encontró archivo Excel dentro de la carpeta descomprimida.')\n",
    "}\n"
   ]
  },
  {
   "cell_type": "code",
   "execution_count": 191,
   "id": "1866e240",
   "metadata": {
    "vscode": {
     "languageId": "r"
    }
   },
   "outputs": [
    {
     "name": "stdout",
     "output_type": "stream",
     "text": [
      "tibble [744,920 × 7] (S3: tbl_df/tbl/data.frame)\n",
      " $ renglon  : num [1:744920] 1 2 3 4 5 6 7 8 9 10 ...\n",
      " $ ano      : num [1:744920] 1950 1950 1950 1950 1950 1950 1950 1950 1950 1950 ...\n",
      " $ entidad  : chr [1:744920] \"República Mexicana\" \"República Mexicana\" \"República Mexicana\" \"República Mexicana\" ...\n",
      " $ cve_geo  : num [1:744920] 0 0 0 0 0 0 0 0 0 0 ...\n",
      " $ edad     : num [1:744920] 0 0 1 1 2 2 3 3 4 4 ...\n",
      " $ sexo     : chr [1:744920] \"Hombres\" \"Mujeres\" \"Hombres\" \"Mujeres\" ...\n",
      " $ poblacion: num [1:744920] 577250 564734 520692 511958 487298 ...\n"
     ]
    }
   ],
   "source": [
    "str(conapo_df)"
   ]
  },
  {
   "cell_type": "markdown",
   "id": "eaadb95c",
   "metadata": {},
   "source": [
    "Definimos los años para los cálculos"
   ]
  },
  {
   "cell_type": "code",
   "execution_count": 128,
   "id": "5e3c7311",
   "metadata": {
    "vscode": {
     "languageId": "r"
    }
   },
   "outputs": [],
   "source": [
    "anios <- 2019:2023"
   ]
  },
  {
   "cell_type": "markdown",
   "id": "9cecd3ef",
   "metadata": {},
   "source": [
    "Tasa de Mortalidad en menores de 5 años de la Ciudad de México"
   ]
  },
  {
   "cell_type": "code",
   "execution_count": 143,
   "id": "33475f43",
   "metadata": {
    "vscode": {
     "languageId": "r"
    }
   },
   "outputs": [],
   "source": [
    "#Conjunto de nombres para los dataframes de defunciones\n",
    "nombres_def <- c('2020' = 'defun20','2021' = 'defun21', '2022' = 'DEFUN22', '2023' = 'DEFUN23')"
   ]
  },
  {
   "cell_type": "code",
   "execution_count": 144,
   "id": "b64094f6",
   "metadata": {
    "vscode": {
     "languageId": "r"
    }
   },
   "outputs": [],
   "source": [
    "#Crear dataframe vacío para almacenar los resultados\n",
    "mortalidad_infantil <- tibble(anio = integer(), nacimientos = integer(), defunciones = integer(), tasa = numeric())\n"
   ]
  },
  {
   "cell_type": "code",
   "execution_count": 145,
   "id": "20fd0859",
   "metadata": {
    "vscode": {
     "languageId": "r"
    }
   },
   "outputs": [
    {
     "name": "stderr",
     "output_type": "stream",
     "text": [
      "Datos incompletos para el año 2019\n",
      "\n"
     ]
    },
    {
     "name": "stdout",
     "output_type": "stream",
     "text": [
      "\u001b[90m# A tibble: 4 × 4\u001b[39m\n",
      "   anio nacimientos defunciones  tasa\n",
      "  \u001b[3m\u001b[90m<int>\u001b[39m\u001b[23m       \u001b[3m\u001b[90m<int>\u001b[39m\u001b[23m       \u001b[3m\u001b[90m<int>\u001b[39m\u001b[23m \u001b[3m\u001b[90m<dbl>\u001b[39m\u001b[23m\n",
      "\u001b[90m1\u001b[39m  \u001b[4m2\u001b[24m020       \u001b[4m8\u001b[24m\u001b[4m7\u001b[24m005        \u001b[4m1\u001b[24m266  14.6\n",
      "\u001b[90m2\u001b[39m  \u001b[4m2\u001b[24m021       \u001b[4m7\u001b[24m\u001b[4m7\u001b[24m476        \u001b[4m1\u001b[24m062  13.7\n",
      "\u001b[90m3\u001b[39m  \u001b[4m2\u001b[24m022       \u001b[4m8\u001b[24m\u001b[4m0\u001b[24m892        \u001b[4m1\u001b[24m159  14.3\n",
      "\u001b[90m4\u001b[39m  \u001b[4m2\u001b[24m023       \u001b[4m7\u001b[24m\u001b[4m8\u001b[24m032        \u001b[4m1\u001b[24m152  14.8\n"
     ]
    }
   ],
   "source": [
    "# Iterar sobre los años y calcular tasas\n",
    "for (a in anios) {\n",
    "  anio_str <- as.character(a)\n",
    "  \n",
    "  if (!is.null(lista_nacimientos[[anio_str]]) && !is.null(defunciones[[anio_str]])) {\n",
    "    df_nac <- lista_nacimientos[[anio_str]]\n",
    "    nombre_df <- nombres_def[anio_str]\n",
    "    df_def <- defunciones[[anio_str]][[nombre_df]]\n",
    "    \n",
    "    nac <- df_nac %>%\n",
    "      filter(entidadresidencia == 9) %>%\n",
    "      summarise(nacimientos = n()) %>%\n",
    "      pull(nacimientos)\n",
    "    \n",
    "    def <- df_def %>%\n",
    "      filter(ent_resid == '09', anio_ocur == a, edad >= 1001, edad < 4005) %>%\n",
    "      summarise(defunciones = n()) %>%\n",
    "      pull(defunciones)\n",
    "    \n",
    "    tasa <- def / nac * 1000\n",
    "    \n",
    "    mortalidad_infantil <- mortalidad_infantil %>% \n",
    "    add_row(anio = a, nacimientos = nac, defunciones = def, tasa = tasa)\n",
    "  } else {\n",
    "    message(paste('Datos incompletos para el año', a))\n",
    "  }\n",
    "}\n",
    "\n",
    "print(mortalidad_infantil)"
   ]
  },
  {
   "cell_type": "markdown",
   "id": "d3872830",
   "metadata": {},
   "source": [
    "Total de nacimientos ocurridos en niñas y adolescentes menores de 15 años 2019-2023\n",
    "\n",
    "*Secretaría de Salud utiliza la variable Entidad de federativa del parto/certificado*"
   ]
  },
  {
   "cell_type": "code",
   "execution_count": 128,
   "id": "c7006194",
   "metadata": {
    "vscode": {
     "languageId": "r"
    }
   },
   "outputs": [],
   "source": [
    "#Crear tabla para guiardar los  resultados\n",
    "madres_menores_15 <- tibble(anio = integer(), nacimientos = integer())"
   ]
  },
  {
   "cell_type": "code",
   "execution_count": 130,
   "id": "bd33031a",
   "metadata": {
    "vscode": {
     "languageId": "r"
    }
   },
   "outputs": [
    {
     "name": "stdout",
     "output_type": "stream",
     "text": [
      "\u001b[90m# A tibble: 5 × 2\u001b[39m\n",
      "   anio nacimientos\n",
      "  \u001b[3m\u001b[90m<int>\u001b[39m\u001b[23m       \u001b[3m\u001b[90m<int>\u001b[39m\u001b[23m\n",
      "\u001b[90m1\u001b[39m  \u001b[4m2\u001b[24m019         322\n",
      "\u001b[90m2\u001b[39m  \u001b[4m2\u001b[24m020         272\n",
      "\u001b[90m3\u001b[39m  \u001b[4m2\u001b[24m021         321\n",
      "\u001b[90m4\u001b[39m  \u001b[4m2\u001b[24m022         304\n",
      "\u001b[90m5\u001b[39m  \u001b[4m2\u001b[24m023         299\n"
     ]
    }
   ],
   "source": [
    "for(a in anios) {\n",
    "    anio_str <- as.character(a)\n",
    "\n",
    "    if(!is.null(lista_nacimientos[[anio_str]])) {\n",
    "        df_nac <- lista_nacimientos[[anio_str]] %>% as.tibble()\n",
    "        \n",
    "        #Definir las variables Entidad y Edad por año\n",
    "        if (a == 2019) {\n",
    "            var_entidad <- 'ent_cert'\n",
    "            var_edad <- 'edadm'\n",
    "        } else {\n",
    "           var_entidad <- 'entidadfederativacertifica'\n",
    "           var_edad <- 'edad'\n",
    "        }\n",
    "        \n",
    "        #Filtrar y calcular\n",
    "        nacimientos_15 <- df_nac %>%\n",
    "        filter(.data [[var_entidad]] == 9, .data[[var_edad]] < 15) %>%\n",
    "        summarise(nacimientos = n()) %>%\n",
    "        pull(nacimientos)\n",
    "        \n",
    "        #Guardar los resutlados en la tabla creada\n",
    "        madres_menores_15 <- madres_menores_15 %>%\n",
    "        add_row(anio = a, nacimientos = nacimientos_15)\n",
    "        \n",
    "    } else {\n",
    "        message(paste('Datos incompletos para el año', a))\n",
    "    }\n",
    "}\n",
    "\n",
    "#Ver resultados\n",
    "print(madres_menores_15)"
   ]
  },
  {
   "cell_type": "markdown",
   "id": "5a1d3fc4",
   "metadata": {},
   "source": [
    "Mortalidad por enfermedades del corazón\n",
    "\n",
    "*De acuerdo con INEGI, se clasifica la mortalidad por enfermedades del corazón (con excepción del paro cardiaco) utilizando el conjunto de códigos de la Lista Mexicana de Enfermedades del 26 al 29.*"
   ]
  },
  {
   "cell_type": "code",
   "execution_count": 135,
   "id": "1c30899d",
   "metadata": {
    "vscode": {
     "languageId": "r"
    }
   },
   "outputs": [
    {
     "name": "stderr",
     "output_type": "stream",
     "text": [
      "Warning message in FUN(X[[i]], ...):\n",
      "\"input string 2 is invalid in this locale\"\n",
      "Warning message in FUN(X[[i]], ...):\n",
      "\"input string 2 is invalid in this locale\"\n",
      "Warning message in FUN(X[[i]], ...):\n",
      "\"input string 2 is invalid in this locale\"\n",
      "Warning message in FUN(X[[i]], ...):\n",
      "\"input string 2 is invalid in this locale\"\n",
      "Warning message in FUN(X[[i]], ...):\n",
      "\"input string 2 is invalid in this locale\"\n",
      "Warning message in FUN(X[[i]], ...):\n",
      "\"input string 2 is invalid in this locale\"\n",
      "Warning message in FUN(X[[i]], ...):\n",
      "\"input string 2 is invalid in this locale\"\n",
      "Warning message in FUN(X[[i]], ...):\n",
      "\"input string 2 is invalid in this locale\"\n",
      "Warning message in FUN(X[[i]], ...):\n",
      "\"input string 2 is invalid in this locale\"\n",
      "Warning message in FUN(X[[i]], ...):\n",
      "\"input string 2 is invalid in this locale\"\n",
      "Warning message in FUN(X[[i]], ...):\n",
      "\"input string 2 is invalid in this locale\"\n",
      "Warning message in FUN(X[[i]], ...):\n",
      "\"input string 2 is invalid in this locale\"\n",
      "Warning message in FUN(X[[i]], ...):\n",
      "\"input string 2 is invalid in this locale\"\n",
      "Warning message in FUN(X[[i]], ...):\n",
      "\"input string 2 is invalid in this locale\"\n",
      "Warning message in FUN(X[[i]], ...):\n",
      "\"input string 2 is invalid in this locale\"\n",
      "Warning message in FUN(X[[i]], ...):\n",
      "\"input string 2 is invalid in this locale\"\n",
      "Warning message in FUN(X[[i]], ...):\n",
      "\"input string 2 is invalid in this locale\"\n",
      "Warning message in FUN(X[[i]], ...):\n",
      "\"input string 2 is invalid in this locale\"\n",
      "Warning message in FUN(X[[i]], ...):\n",
      "\"input string 2 is invalid in this locale\"\n",
      "Warning message in FUN(X[[i]], ...):\n",
      "\"input string 2 is invalid in this locale\"\n",
      "Warning message in FUN(X[[i]], ...):\n",
      "\"input string 2 is invalid in this locale\"\n",
      "Warning message in FUN(X[[i]], ...):\n",
      "\"input string 2 is invalid in this locale\"\n",
      "Warning message in FUN(X[[i]], ...):\n",
      "\"input string 2 is invalid in this locale\"\n",
      "Warning message in FUN(X[[i]], ...):\n",
      "\"input string 2 is invalid in this locale\"\n",
      "Warning message in FUN(X[[i]], ...):\n",
      "\"input string 2 is invalid in this locale\"\n",
      "Warning message in FUN(X[[i]], ...):\n",
      "\"input string 2 is invalid in this locale\"\n",
      "Warning message in FUN(X[[i]], ...):\n",
      "\"input string 2 is invalid in this locale\"\n",
      "Warning message in FUN(X[[i]], ...):\n",
      "\"input string 2 is invalid in this locale\"\n",
      "Warning message in FUN(X[[i]], ...):\n",
      "\"input string 2 is invalid in this locale\"\n",
      "Warning message in FUN(X[[i]], ...):\n",
      "\"input string 2 is invalid in this locale\"\n",
      "Warning message in FUN(X[[i]], ...):\n",
      "\"input string 2 is invalid in this locale\"\n",
      "Warning message in FUN(X[[i]], ...):\n",
      "\"input string 2 is invalid in this locale\"\n",
      "Warning message in FUN(X[[i]], ...):\n",
      "\"input string 2 is invalid in this locale\"\n",
      "Warning message in FUN(X[[i]], ...):\n",
      "\"input string 2 is invalid in this locale\"\n",
      "Warning message in FUN(X[[i]], ...):\n",
      "\"input string 2 is invalid in this locale\"\n",
      "Warning message in FUN(X[[i]], ...):\n",
      "\"input string 2 is invalid in this locale\"\n",
      "Warning message in FUN(X[[i]], ...):\n",
      "\"input string 2 is invalid in this locale\"\n",
      "Warning message in FUN(X[[i]], ...):\n",
      "\"input string 2 is invalid in this locale\"\n",
      "Warning message in FUN(X[[i]], ...):\n",
      "\"input string 2 is invalid in this locale\"\n",
      "ERROR while rich displaying an object: Error in gsub(chr, html_specials[[chr]], text, fixed = TRUE): input string 2 is invalid in this locale\n",
      "\n",
      "Traceback:\n",
      "1. sapply(x, f, simplify = simplify)\n",
      "2. lapply(X = X, FUN = FUN, ...)\n",
      "3. FUN(X[[i]], ...)\n",
      "4. tryCatch(withCallingHandlers({\n",
      " .     if (!mime %in% names(repr::mime2repr)) \n",
      " .         stop(\"No repr_* for mimetype \", mime, \" in repr::mime2repr\")\n",
      " .     rpr <- repr::mime2repr[[mime]](obj)\n",
      " .     if (is.null(rpr)) \n",
      " .         return(NULL)\n",
      " .     prepare_content(is.raw(rpr), rpr)\n",
      " . }, error = error_handler), error = outer_handler)\n",
      "5. tryCatchList(expr, classes, parentenv, handlers)\n",
      "6. tryCatchOne(expr, names, parentenv, handlers[[1L]])\n",
      "7. doTryCatch(return(expr), name, parentenv, handler)\n",
      "8. withCallingHandlers({\n",
      " .     if (!mime %in% names(repr::mime2repr)) \n",
      " .         stop(\"No repr_* for mimetype \", mime, \" in repr::mime2repr\")\n",
      " .     rpr <- repr::mime2repr[[mime]](obj)\n",
      " .     if (is.null(rpr)) \n",
      " .         return(NULL)\n",
      " .     prepare_content(is.raw(rpr), rpr)\n",
      " . }, error = error_handler)\n",
      "9. repr::mime2repr[[mime]](obj)\n",
      "10. repr_markdown.data.frame(obj)\n",
      "11. repr_matrix_generic(obj, \"\\n%s\\n\\n%s%s\\n\", sprintf(\"|%%s\\n|%s|\\n\", \n",
      "  .     underline), NULL, \" <!--/--> |\", \" %s |\", \"%s\", \"|%s\\n\", \n",
      "  .     \" %s |\", \" %s |\", escape_fun = markdown_escape, rows = rows, \n",
      "  .     cols = cols, ...)\n",
      "12. lapply(seq_len(nrow(x)), function(r) {\n",
      "  .     row <- escape_fun(slice_row(x, r))\n",
      "  .     cells <- sprintf(cell, row)\n",
      "  .     if (has_rownames) {\n",
      "  .         row_head <- sprintf(row_head, escape_fun(rownames(x)[[r]]))\n",
      "  .         cells <- c(row_head, cells)\n",
      "  .     }\n",
      "  .     sprintf(row_wrap, paste(cells, collapse = \"\"))\n",
      "  . })\n",
      "13. FUN(X[[i]], ...)\n",
      "14. escape_fun(slice_row(x, r))\n",
      "15. html_escape(values, do_spaces = FALSE)\n",
      "16. gsub(chr, html_specials[[chr]], text, fixed = TRUE)\n",
      "Warning message in FUN(X[[i]], ...):\n",
      "\"input string 2 is invalid in this locale\"\n",
      "Warning message in FUN(X[[i]], ...):\n",
      "\"input string 2 is invalid in this locale\"\n",
      "Warning message in FUN(X[[i]], ...):\n",
      "\"input string 2 is invalid in this locale\"\n",
      "Warning message in FUN(X[[i]], ...):\n",
      "\"input string 2 is invalid in this locale\"\n",
      "Warning message in FUN(X[[i]], ...):\n",
      "\"input string 2 is invalid in this locale\"\n",
      "Warning message in FUN(X[[i]], ...):\n",
      "\"input string 2 is invalid in this locale\"\n",
      "Warning message in FUN(X[[i]], ...):\n",
      "\"input string 2 is invalid in this locale\"\n",
      "Warning message in FUN(X[[i]], ...):\n",
      "\"input string 2 is invalid in this locale\"\n",
      "Warning message in FUN(X[[i]], ...):\n",
      "\"input string 2 is invalid in this locale\"\n",
      "Warning message in FUN(X[[i]], ...):\n",
      "\"input string 2 is invalid in this locale\"\n",
      "Warning message in FUN(X[[i]], ...):\n",
      "\"input string 2 is invalid in this locale\"\n",
      "Warning message in FUN(X[[i]], ...):\n",
      "\"input string 2 is invalid in this locale\"\n",
      "Warning message in FUN(X[[i]], ...):\n",
      "\"input string 2 is invalid in this locale\"\n",
      "Warning message in FUN(X[[i]], ...):\n",
      "\"input string 2 is invalid in this locale\"\n",
      "Warning message in FUN(X[[i]], ...):\n",
      "\"input string 2 is invalid in this locale\"\n",
      "Warning message in FUN(X[[i]], ...):\n",
      "\"input string 2 is invalid in this locale\"\n",
      "Warning message in FUN(X[[i]], ...):\n",
      "\"input string 2 is invalid in this locale\"\n",
      "Warning message in FUN(X[[i]], ...):\n",
      "\"input string 2 is invalid in this locale\"\n",
      "Warning message in FUN(X[[i]], ...):\n",
      "\"input string 2 is invalid in this locale\"\n",
      "Warning message in FUN(X[[i]], ...):\n",
      "\"input string 2 is invalid in this locale\"\n",
      "Warning message in FUN(X[[i]], ...):\n",
      "\"input string 2 is invalid in this locale\"\n",
      "Warning message in FUN(X[[i]], ...):\n",
      "\"input string 2 is invalid in this locale\"\n",
      "Warning message in FUN(X[[i]], ...):\n",
      "\"input string 2 is invalid in this locale\"\n",
      "Warning message in FUN(X[[i]], ...):\n",
      "\"input string 2 is invalid in this locale\"\n",
      "Warning message in FUN(X[[i]], ...):\n",
      "\"input string 2 is invalid in this locale\"\n",
      "Warning message in FUN(X[[i]], ...):\n",
      "\"input string 2 is invalid in this locale\"\n",
      "Warning message in FUN(X[[i]], ...):\n",
      "\"input string 2 is invalid in this locale\"\n",
      "Warning message in FUN(X[[i]], ...):\n",
      "\"input string 2 is invalid in this locale\"\n",
      "Warning message in FUN(X[[i]], ...):\n",
      "\"input string 2 is invalid in this locale\"\n",
      "Warning message in FUN(X[[i]], ...):\n",
      "\"input string 2 is invalid in this locale\"\n",
      "Warning message in FUN(X[[i]], ...):\n",
      "\"input string 2 is invalid in this locale\"\n",
      "Warning message in FUN(X[[i]], ...):\n",
      "\"input string 2 is invalid in this locale\"\n",
      "Warning message in FUN(X[[i]], ...):\n",
      "\"input string 2 is invalid in this locale\"\n",
      "Warning message in FUN(X[[i]], ...):\n",
      "\"input string 2 is invalid in this locale\"\n",
      "Warning message in FUN(X[[i]], ...):\n",
      "\"input string 2 is invalid in this locale\"\n",
      "Warning message in FUN(X[[i]], ...):\n",
      "\"input string 2 is invalid in this locale\"\n",
      "Warning message in FUN(X[[i]], ...):\n",
      "\"input string 2 is invalid in this locale\"\n",
      "Warning message in FUN(X[[i]], ...):\n",
      "\"input string 2 is invalid in this locale\"\n",
      "Warning message in FUN(X[[i]], ...):\n",
      "\"input string 2 is invalid in this locale\"\n",
      "Warning message in FUN(X[[i]], ...):\n",
      "\"input string 2 is invalid in this locale\"\n",
      "Warning message in FUN(X[[i]], ...):\n",
      "\"input string 2 is invalid in this locale\"\n",
      "Warning message in FUN(X[[i]], ...):\n",
      "\"input string 2 is invalid in this locale\"\n",
      "Warning message in FUN(X[[i]], ...):\n",
      "\"input string 2 is invalid in this locale\"\n",
      "Warning message in FUN(X[[i]], ...):\n",
      "\"input string 2 is invalid in this locale\"\n",
      "Warning message in FUN(X[[i]], ...):\n",
      "\"input string 2 is invalid in this locale\"\n",
      "Warning message in FUN(X[[i]], ...):\n",
      "\"input string 2 is invalid in this locale\"\n",
      "Warning message in FUN(X[[i]], ...):\n",
      "\"input string 2 is invalid in this locale\"\n",
      "Warning message in FUN(X[[i]], ...):\n",
      "\"input string 2 is invalid in this locale\"\n",
      "Warning message in FUN(X[[i]], ...):\n",
      "\"input string 2 is invalid in this locale\"\n",
      "Warning message in FUN(X[[i]], ...):\n",
      "\"input string 2 is invalid in this locale\"\n",
      "Warning message in FUN(X[[i]], ...):\n",
      "\"input string 2 is invalid in this locale\"\n",
      "Warning message in FUN(X[[i]], ...):\n",
      "\"input string 2 is invalid in this locale\"\n",
      "Warning message in FUN(X[[i]], ...):\n",
      "\"input string 2 is invalid in this locale\"\n",
      "Warning message in FUN(X[[i]], ...):\n",
      "\"input string 2 is invalid in this locale\"\n",
      "Warning message in FUN(X[[i]], ...):\n",
      "\"input string 2 is invalid in this locale\"\n",
      "Warning message in FUN(X[[i]], ...):\n",
      "\"input string 2 is invalid in this locale\"\n",
      "Warning message in FUN(X[[i]], ...):\n",
      "\"input string 2 is invalid in this locale\"\n",
      "Warning message in FUN(X[[i]], ...):\n",
      "\"input string 2 is invalid in this locale\"\n",
      "Warning message in FUN(X[[i]], ...):\n",
      "\"input string 2 is invalid in this locale\"\n",
      "Warning message in FUN(X[[i]], ...):\n",
      "\"input string 2 is invalid in this locale\"\n",
      "Warning message in FUN(X[[i]], ...):\n",
      "\"input string 2 is invalid in this locale\"\n",
      "Warning message in FUN(X[[i]], ...):\n",
      "\"input string 2 is invalid in this locale\"\n",
      "Warning message in FUN(X[[i]], ...):\n",
      "\"input string 2 is invalid in this locale\"\n",
      "Warning message in FUN(X[[i]], ...):\n",
      "\"input string 2 is invalid in this locale\"\n",
      "Warning message in FUN(X[[i]], ...):\n",
      "\"input string 2 is invalid in this locale\"\n",
      "Warning message in FUN(X[[i]], ...):\n",
      "\"input string 2 is invalid in this locale\"\n",
      "Warning message in FUN(X[[i]], ...):\n",
      "\"input string 2 is invalid in this locale\"\n",
      "Warning message in FUN(X[[i]], ...):\n",
      "\"input string 2 is invalid in this locale\"\n",
      "Warning message in FUN(X[[i]], ...):\n",
      "\"input string 2 is invalid in this locale\"\n",
      "Warning message in FUN(X[[i]], ...):\n",
      "\"input string 2 is invalid in this locale\"\n",
      "Warning message in FUN(X[[i]], ...):\n",
      "\"input string 2 is invalid in this locale\"\n",
      "Warning message in FUN(X[[i]], ...):\n",
      "\"input string 2 is invalid in this locale\"\n",
      "Warning message in FUN(X[[i]], ...):\n",
      "\"input string 2 is invalid in this locale\"\n",
      "Warning message in FUN(X[[i]], ...):\n",
      "\"input string 2 is invalid in this locale\"\n",
      "Warning message in FUN(X[[i]], ...):\n",
      "\"input string 2 is invalid in this locale\"\n",
      "Warning message in FUN(X[[i]], ...):\n",
      "\"input string 2 is invalid in this locale\"\n",
      "Warning message in FUN(X[[i]], ...):\n",
      "\"input string 2 is invalid in this locale\"\n",
      "Warning message in FUN(X[[i]], ...):\n",
      "\"input string 2 is invalid in this locale\"\n",
      "Warning message in FUN(X[[i]], ...):\n",
      "\"input string 2 is invalid in this locale\"\n",
      "Warning message in FUN(X[[i]], ...):\n",
      "\"input string 2 is invalid in this locale\"\n",
      "Warning message in FUN(X[[i]], ...):\n",
      "\"input string 2 is invalid in this locale\"\n",
      "Warning message in FUN(X[[i]], ...):\n",
      "\"input string 2 is invalid in this locale\"\n",
      "Warning message in FUN(X[[i]], ...):\n",
      "\"input string 2 is invalid in this locale\"\n",
      "Warning message in FUN(X[[i]], ...):\n",
      "\"input string 2 is invalid in this locale\"\n",
      "Warning message in FUN(X[[i]], ...):\n",
      "\"input string 2 is invalid in this locale\"\n",
      "Warning message in FUN(X[[i]], ...):\n",
      "\"input string 2 is invalid in this locale\"\n",
      "Warning message in FUN(X[[i]], ...):\n",
      "\"input string 2 is invalid in this locale\"\n",
      "Warning message in FUN(X[[i]], ...):\n",
      "\"input string 2 is invalid in this locale\"\n",
      "Warning message in FUN(X[[i]], ...):\n",
      "\"input string 2 is invalid in this locale\"\n",
      "Warning message in FUN(X[[i]], ...):\n",
      "\"input string 2 is invalid in this locale\"\n",
      "Warning message in FUN(X[[i]], ...):\n",
      "\"input string 2 is invalid in this locale\"\n",
      "Warning message in FUN(X[[i]], ...):\n",
      "\"input string 2 is invalid in this locale\"\n",
      "Warning message in FUN(X[[i]], ...):\n",
      "\"input string 2 is invalid in this locale\"\n",
      "Warning message in FUN(X[[i]], ...):\n",
      "\"input string 2 is invalid in this locale\"\n",
      "Warning message in FUN(X[[i]], ...):\n",
      "\"input string 2 is invalid in this locale\"\n",
      "Warning message in FUN(X[[i]], ...):\n",
      "\"input string 2 is invalid in this locale\"\n",
      "Warning message in FUN(X[[i]], ...):\n",
      "\"input string 2 is invalid in this locale\"\n",
      "Warning message in FUN(X[[i]], ...):\n",
      "\"input string 2 is invalid in this locale\"\n",
      "Warning message in FUN(X[[i]], ...):\n",
      "\"input string 2 is invalid in this locale\"\n",
      "Warning message in FUN(X[[i]], ...):\n",
      "\"input string 2 is invalid in this locale\"\n",
      "Warning message in FUN(X[[i]], ...):\n",
      "\"input string 2 is invalid in this locale\"\n",
      "Warning message in FUN(X[[i]], ...):\n",
      "\"input string 2 is invalid in this locale\"\n",
      "Warning message in FUN(X[[i]], ...):\n",
      "\"input string 2 is invalid in this locale\"\n",
      "Warning message in FUN(X[[i]], ...):\n",
      "\"input string 2 is invalid in this locale\"\n",
      "Warning message in FUN(X[[i]], ...):\n",
      "\"input string 2 is invalid in this locale\"\n",
      "Warning message in FUN(X[[i]], ...):\n",
      "\"input string 2 is invalid in this locale\"\n",
      "Warning message in FUN(X[[i]], ...):\n",
      "\"input string 2 is invalid in this locale\"\n",
      "Warning message in FUN(X[[i]], ...):\n",
      "\"input string 2 is invalid in this locale\"\n",
      "Warning message in FUN(X[[i]], ...):\n",
      "\"input string 2 is invalid in this locale\"\n",
      "Warning message in FUN(X[[i]], ...):\n",
      "\"input string 2 is invalid in this locale\"\n",
      "Warning message in FUN(X[[i]], ...):\n",
      "\"input string 2 is invalid in this locale\"\n",
      "Warning message in FUN(X[[i]], ...):\n",
      "\"input string 2 is invalid in this locale\"\n",
      "Warning message in FUN(X[[i]], ...):\n",
      "\"input string 2 is invalid in this locale\"\n",
      "Warning message in FUN(X[[i]], ...):\n",
      "\"input string 2 is invalid in this locale\"\n",
      "Warning message in FUN(X[[i]], ...):\n",
      "\"input string 2 is invalid in this locale\"\n",
      "Warning message in FUN(X[[i]], ...):\n",
      "\"input string 2 is invalid in this locale\"\n",
      "Warning message in FUN(X[[i]], ...):\n",
      "\"input string 2 is invalid in this locale\"\n",
      "Warning message in FUN(X[[i]], ...):\n",
      "\"input string 2 is invalid in this locale\"\n",
      "Warning message in FUN(X[[i]], ...):\n",
      "\"input string 2 is invalid in this locale\"\n",
      "Warning message in FUN(X[[i]], ...):\n",
      "\"input string 2 is invalid in this locale\"\n",
      "Warning message in FUN(X[[i]], ...):\n",
      "\"input string 2 is invalid in this locale\"\n",
      "Warning message in FUN(X[[i]], ...):\n",
      "\"input string 2 is invalid in this locale\"\n",
      "Warning message in FUN(X[[i]], ...):\n",
      "\"input string 2 is invalid in this locale\"\n",
      "Warning message in FUN(X[[i]], ...):\n",
      "\"input string 2 is invalid in this locale\"\n",
      "Warning message in FUN(X[[i]], ...):\n",
      "\"input string 2 is invalid in this locale\"\n",
      "Warning message in FUN(X[[i]], ...):\n",
      "\"input string 2 is invalid in this locale\"\n",
      "Warning message in FUN(X[[i]], ...):\n",
      "\"input string 2 is invalid in this locale\"\n",
      "Warning message in FUN(X[[i]], ...):\n",
      "\"input string 2 is invalid in this locale\"\n",
      "Warning message in FUN(X[[i]], ...):\n",
      "\"input string 2 is invalid in this locale\"\n",
      "Warning message in FUN(X[[i]], ...):\n",
      "\"input string 2 is invalid in this locale\"\n",
      "Warning message in FUN(X[[i]], ...):\n",
      "\"input string 2 is invalid in this locale\"\n",
      "Warning message in FUN(X[[i]], ...):\n",
      "\"input string 2 is invalid in this locale\"\n",
      "Warning message in FUN(X[[i]], ...):\n",
      "\"input string 2 is invalid in this locale\"\n",
      "Warning message in FUN(X[[i]], ...):\n",
      "\"input string 2 is invalid in this locale\"\n",
      "Warning message in FUN(X[[i]], ...):\n",
      "\"input string 2 is invalid in this locale\"\n",
      "Warning message in FUN(X[[i]], ...):\n",
      "\"input string 2 is invalid in this locale\"\n",
      "Warning message in FUN(X[[i]], ...):\n",
      "\"input string 2 is invalid in this locale\"\n",
      "Warning message in FUN(X[[i]], ...):\n",
      "\"input string 2 is invalid in this locale\"\n",
      "Warning message in FUN(X[[i]], ...):\n",
      "\"input string 2 is invalid in this locale\"\n",
      "Warning message in FUN(X[[i]], ...):\n",
      "\"input string 2 is invalid in this locale\"\n",
      "Warning message in FUN(X[[i]], ...):\n",
      "\"input string 2 is invalid in this locale\"\n",
      "Warning message in FUN(X[[i]], ...):\n",
      "\"input string 2 is invalid in this locale\"\n",
      "Warning message in FUN(X[[i]], ...):\n",
      "\"input string 2 is invalid in this locale\"\n",
      "Warning message in FUN(X[[i]], ...):\n",
      "\"input string 2 is invalid in this locale\"\n",
      "Warning message in FUN(X[[i]], ...):\n",
      "\"input string 2 is invalid in this locale\"\n",
      "Warning message in FUN(X[[i]], ...):\n",
      "\"input string 2 is invalid in this locale\"\n",
      "Warning message in FUN(X[[i]], ...):\n",
      "\"input string 2 is invalid in this locale\"\n",
      "Warning message in FUN(X[[i]], ...):\n",
      "\"input string 2 is invalid in this locale\"\n",
      "Warning message in FUN(X[[i]], ...):\n",
      "\"input string 2 is invalid in this locale\"\n",
      "Warning message in FUN(X[[i]], ...):\n",
      "\"input string 2 is invalid in this locale\"\n",
      "Warning message in FUN(X[[i]], ...):\n",
      "\"input string 2 is invalid in this locale\"\n",
      "Warning message in FUN(X[[i]], ...):\n",
      "\"input string 2 is invalid in this locale\"\n",
      "Warning message in FUN(X[[i]], ...):\n",
      "\"input string 2 is invalid in this locale\"\n",
      "Warning message in FUN(X[[i]], ...):\n",
      "\"input string 2 is invalid in this locale\"\n",
      "Warning message in FUN(X[[i]], ...):\n",
      "\"input string 2 is invalid in this locale\"\n",
      "Warning message in FUN(X[[i]], ...):\n",
      "\"input string 2 is invalid in this locale\"\n",
      "Warning message in FUN(X[[i]], ...):\n",
      "\"input string 2 is invalid in this locale\"\n",
      "Warning message in FUN(X[[i]], ...):\n",
      "\"input string 2 is invalid in this locale\"\n",
      "Warning message in FUN(X[[i]], ...):\n",
      "\"input string 2 is invalid in this locale\"\n",
      "Warning message in FUN(X[[i]], ...):\n",
      "\"input string 2 is invalid in this locale\"\n",
      "Warning message in FUN(X[[i]], ...):\n",
      "\"input string 2 is invalid in this locale\"\n",
      "Warning message in FUN(X[[i]], ...):\n",
      "\"input string 2 is invalid in this locale\"\n",
      "Warning message in FUN(X[[i]], ...):\n",
      "\"input string 2 is invalid in this locale\"\n",
      "Warning message in FUN(X[[i]], ...):\n",
      "\"input string 2 is invalid in this locale\"\n",
      "Warning message in FUN(X[[i]], ...):\n",
      "\"input string 2 is invalid in this locale\"\n",
      "Warning message in FUN(X[[i]], ...):\n",
      "\"input string 2 is invalid in this locale\"\n",
      "Warning message in FUN(X[[i]], ...):\n",
      "\"input string 2 is invalid in this locale\"\n",
      "Warning message in FUN(X[[i]], ...):\n",
      "\"input string 2 is invalid in this locale\"\n",
      "Warning message in FUN(X[[i]], ...):\n",
      "\"input string 2 is invalid in this locale\"\n",
      "ERROR while rich displaying an object: Error in gsub(\" &\\\\\", \"\\\\\", r, fixed = TRUE): input string 1 is invalid UTF-8\n",
      "\n",
      "Traceback:\n",
      "1. sapply(x, f, simplify = simplify)\n",
      "2. lapply(X = X, FUN = FUN, ...)\n",
      "3. FUN(X[[i]], ...)\n",
      "4. tryCatch(withCallingHandlers({\n",
      " .     if (!mime %in% names(repr::mime2repr)) \n",
      " .         stop(\"No repr_* for mimetype \", mime, \" in repr::mime2repr\")\n",
      " .     rpr <- repr::mime2repr[[mime]](obj)\n",
      " .     if (is.null(rpr)) \n",
      " .         return(NULL)\n",
      " .     prepare_content(is.raw(rpr), rpr)\n",
      " . }, error = error_handler), error = outer_handler)\n",
      "5. tryCatchList(expr, classes, parentenv, handlers)\n",
      "6. tryCatchOne(expr, names, parentenv, handlers[[1L]])\n",
      "7. doTryCatch(return(expr), name, parentenv, handler)\n",
      "8. withCallingHandlers({\n",
      " .     if (!mime %in% names(repr::mime2repr)) \n",
      " .         stop(\"No repr_* for mimetype \", mime, \" in repr::mime2repr\")\n",
      " .     rpr <- repr::mime2repr[[mime]](obj)\n",
      " .     if (is.null(rpr)) \n",
      " .         return(NULL)\n",
      " .     prepare_content(is.raw(rpr), rpr)\n",
      " . }, error = error_handler)\n",
      "9. repr::mime2repr[[mime]](obj)\n",
      "10. repr_latex.data.frame(obj)\n",
      "11. gsub(\" &\\\\\", \"\\\\\", r, fixed = TRUE)\n",
      "Warning message in grepl(\"<html.*>\", data[[\"text/html\"]], ignore.case = TRUE):\n",
      "\"unable to translate '<table class=\"dataframe\">\n",
      "<caption>A tibble: 16 × 2</caption>\n",
      "<thead>\n",
      "\t<tr><th scope=col>cve</th><th scope=col>descrip</th></tr>\n",
      "\t<tr><th scope=col>&lt;chr&gt;</th><th scope=col>&lt;chr&gt;</th></tr>\n",
      "</thead>\n",
      "<tbody>\n",
      "\t<tr><td>26 </td><td>Fiebre reum<a...' to a wide string\"\n",
      "Warning message in grepl(\"<html.*>\", data[[\"text/html\"]], ignore.case = TRUE):\n",
      "\"input string 1 is invalid\"\n"
     ]
    },
    {
     "data": {
      "text/html": [
       "<table class=\"dataframe\">\n",
       "<caption>A tibble: 16 × 2</caption>\n",
       "<thead>\n",
       "\t<tr><th scope=col>cve</th><th scope=col>descrip</th></tr>\n",
       "\t<tr><th scope=col>&lt;chr&gt;</th><th scope=col>&lt;chr&gt;</th></tr>\n",
       "</thead>\n",
       "<tbody>\n",
       "\t<tr><td>26 </td><td>Fiebre reum�tica aguda y enfermedades card�acas reum�ticas cr�nicas            </td></tr>\n",
       "\t<tr><td>26A</td><td>Fiebre reum�tica aguda                                                                  </td></tr>\n",
       "\t<tr><td>26B</td><td>Enfermedades reum�ticas cr�nicas del coraz�n                                      </td></tr>\n",
       "\t<tr><td>27 </td><td>Enfermedades hipertensivas                                                                 </td></tr>\n",
       "\t<tr><td>27A</td><td>Enfermedad card�aca hipertensiva                                                        </td></tr>\n",
       "\t<tr><td>27B</td><td>Hipertensi�n esencial                                                                   </td></tr>\n",
       "\t<tr><td>27Z</td><td>Las dem�s enfermedades hipertensivas                                                    </td></tr>\n",
       "\t<tr><td>28 </td><td>Enfermedades isqu�micas del coraz�n                                                  </td></tr>\n",
       "\t<tr><td>28A</td><td>Infarto agudo del miocardio                                                                </td></tr>\n",
       "\t<tr><td>28Z</td><td>Las dem�s enfermedades isqu�micas del coraz�n                                     </td></tr>\n",
       "\t<tr><td>29 </td><td>Enfermedades de la circulaci�n pulmonar y otras enfermedades del coraz�n             </td></tr>\n",
       "\t<tr><td>29A</td><td>Embolia pulmonar                                                                           </td></tr>\n",
       "\t<tr><td>29B</td><td>Trastornos de la conducci�n y arritmias card�acas                                    </td></tr>\n",
       "\t<tr><td>29C</td><td>Paro card�aco                                                                           </td></tr>\n",
       "\t<tr><td>29D</td><td>Insuficiencia card�aca                                                                  </td></tr>\n",
       "\t<tr><td>29Z</td><td>Las dem�s enfermedades de la circulaci�n pulmonar y otras enfermedades del coraz�n</td></tr>\n",
       "</tbody>\n",
       "</table>\n"
      ],
      "text/plain": [
       "   cve\n",
       "1  26 \n",
       "2  26A\n",
       "3  26B\n",
       "4  27 \n",
       "5  27A\n",
       "6  27B\n",
       "7  27Z\n",
       "8  28 \n",
       "9  28A\n",
       "10 28Z\n",
       "11 29 \n",
       "12 29A\n",
       "13 29B\n",
       "14 29C\n",
       "15 29D\n",
       "16 29Z\n",
       "   descrip                                                                                    \n",
       "1  Fiebre reum\\xa0tica aguda y enfermedades card\\xa1acas reum\\xa0ticas cr\\xa2nicas            \n",
       "2  Fiebre reum\\xa0tica aguda                                                                  \n",
       "3  Enfermedades reum\\xa0ticas cr\\xa2nicas del coraz\\xa2n                                      \n",
       "4  Enfermedades hipertensivas                                                                 \n",
       "5  Enfermedad card\\xa1aca hipertensiva                                                        \n",
       "6  Hipertensi\\xa2n esencial                                                                   \n",
       "7  Las dem\\xa0s enfermedades hipertensivas                                                    \n",
       "8  Enfermedades isqu\\x82micas del coraz\\xa2n                                                  \n",
       "9  Infarto agudo del miocardio                                                                \n",
       "10 Las dem\\xa0s enfermedades isqu\\x82micas del coraz\\xa2n                                     \n",
       "11 Enfermedades de la circulaci\\xa2n pulmonar y otras enfermedades del coraz\\xa2n             \n",
       "12 Embolia pulmonar                                                                           \n",
       "13 Trastornos de la conducci\\xa2n y arritmias card\\xa1acas                                    \n",
       "14 Paro card\\xa1aco                                                                           \n",
       "15 Insuficiencia card\\xa1aca                                                                  \n",
       "16 Las dem\\xa0s enfermedades de la circulaci\\xa2n pulmonar y otras enfermedades del coraz\\xa2n"
      ]
     },
     "metadata": {},
     "output_type": "display_data"
    }
   ],
   "source": [
    "#Revisamos la Lista Mexicana de Enfermedades (ya incluida en la descarga de los datos de Defunción) \n",
    "#filtramos los códigos de las enfermedades del corazón, que utilizaremos como criterio de selección en los datos de defunciones \n",
    "\n",
    "causa_def <- as_tibble(defunciones$'2020'$LISTAMEX) %>%\n",
    "filter(cve %in% c('26', '26A', '26B', '27', '27A', '27B', '27Z', \n",
    "                     '28', '28A', '28Z', '29', '29A', '29B', '29C', '29D', '29Z'))\n",
    "\n",
    "causa_def"
   ]
  },
  {
   "cell_type": "code",
   "execution_count": 157,
   "id": "0c090f68",
   "metadata": {
    "vscode": {
     "languageId": "r"
    }
   },
   "outputs": [],
   "source": [
    "#Crear un dataframe para guardar los datos\n",
    "defun_cora <- tibble(anio = integer(), defunciones = integer())"
   ]
  },
  {
   "cell_type": "code",
   "execution_count": 158,
   "id": "dc7a05d2",
   "metadata": {
    "vscode": {
     "languageId": "r"
    }
   },
   "outputs": [
    {
     "name": "stderr",
     "output_type": "stream",
     "text": [
      "Datos incompletos para el año 2019\n",
      "\n"
     ]
    },
    {
     "name": "stdout",
     "output_type": "stream",
     "text": [
      "\u001b[90m# A tibble: 4 × 2\u001b[39m\n",
      "   anio defunciones\n",
      "  \u001b[3m\u001b[90m<int>\u001b[39m\u001b[23m       \u001b[3m\u001b[90m<int>\u001b[39m\u001b[23m\n",
      "\u001b[90m1\u001b[39m  \u001b[4m2\u001b[24m020       \u001b[4m2\u001b[24m\u001b[4m1\u001b[24m064\n",
      "\u001b[90m2\u001b[39m  \u001b[4m2\u001b[24m021       \u001b[4m1\u001b[24m\u001b[4m8\u001b[24m610\n",
      "\u001b[90m3\u001b[39m  \u001b[4m2\u001b[24m022       \u001b[4m1\u001b[24m\u001b[4m6\u001b[24m810\n",
      "\u001b[90m4\u001b[39m  \u001b[4m2\u001b[24m023       \u001b[4m1\u001b[24m\u001b[4m7\u001b[24m020\n"
     ]
    }
   ],
   "source": [
    "for (a in anios) {\n",
    "  anio_str <- as.character(a)\n",
    "  \n",
    "  if (!is.null(defunciones[[anio_str]])) {\n",
    "    # Buscar el nombre de la tabla de defunciones\n",
    "    nombres_tablas <- names(defunciones[[anio_str]])\n",
    "    tabla_defun <- nombres_tablas[str_detect(nombres_tablas, regex('defun', ignore_case = TRUE))][1]\n",
    "    \n",
    "    if (is.na(tabla_defun)) {\n",
    "      message(paste('No se encontró tabla de defunciones para el año', a))\n",
    "      next\n",
    "    }\n",
    "    \n",
    "    df_defun <- defunciones[[anio_str]][[tabla_defun]] %>% as_tibble()\n",
    "    \n",
    "    # Buscar el nombre de la variable de entidad\n",
    "    var_entidad <- if (\"ent_resid\" %in% names(df_defun)) {\n",
    "      \"ent_resid\"\n",
    "    } else if (\"entidad_residencia\" %in% names(df_defun)) {\n",
    "      \"entidad_residencia\"\n",
    "    } else {\n",
    "      stop(paste(\"No se encontró variable de entidad para el año\", a))\n",
    "    }\n",
    "    \n",
    "    # Filtrar y calcular\n",
    "    defunciones_anio <- df_defun %>%\n",
    "      filter(.data[[var_entidad]] == '09', lista_mex %in% enfer_cora) %>%  # usa la variable flexible\n",
    "      summarise(defunciones = n()) %>%\n",
    "      pull(defunciones)\n",
    "    \n",
    "    # Guardar resultados\n",
    "    defun_cora <- defun_cora %>%\n",
    "      add_row(anio = a, defunciones = defunciones_anio)\n",
    "    \n",
    "  } else {\n",
    "    message(paste('Datos incompletos para el año', a))\n",
    "  }\n",
    "}\n",
    "\n",
    "# Ver resultados\n",
    "print(defun_cora)\n"
   ]
  },
  {
   "cell_type": "code",
   "execution_count": 189,
   "id": "099beb43",
   "metadata": {
    "vscode": {
     "languageId": "r"
    }
   },
   "outputs": [],
   "source": [
    "# Crear tabla de resultados\n",
    "defun_cora <- tibble()\n"
   ]
  },
  {
   "cell_type": "code",
   "execution_count": 197,
   "id": "38658a85",
   "metadata": {
    "vscode": {
     "languageId": "r"
    }
   },
   "outputs": [
    {
     "ename": "ERROR",
     "evalue": "\u001b[1m\u001b[33mError\u001b[39m in `add_row()`:\u001b[22m\n\u001b[1m\u001b[22m\u001b[33m!\u001b[39m New rows can't add columns.\n\u001b[31m✖\u001b[39m Can't find columns `anio`, `defunciones`, `poblacion`, and `tasa` in `.data`.\n",
     "output_type": "error",
     "traceback": [
      "\u001b[1m\u001b[33mError\u001b[39m in `add_row()`:\u001b[22m\n\u001b[1m\u001b[22m\u001b[33m!\u001b[39m New rows can't add columns.\n\u001b[31m✖\u001b[39m Can't find columns `anio`, `defunciones`, `poblacion`, and `tasa` in `.data`.\nTraceback:\n",
      "1. add_row(., anio = a, defunciones = defunciones_anio, poblacion = poblacion_anio, \n .     tasa = tasa)",
      "2. abort_incompatible_new_rows(extra_vars)",
      "3. tibble_abort(call = call, problems(\"New rows can't add columns:\", \n .     msg_unknown_column_names(names)), names = names)",
      "4. abort(x, class, ..., call = call, parent = parent, use_cli_format = TRUE)",
      "5. signal_abort(cnd, .file)",
      "6. signalCondition(cnd)"
     ]
    }
   ],
   "source": [
    "for (a in anios) {\n",
    "  anio_str <- as.character(a)\n",
    "  \n",
    "  if (!is.null(defunciones[[anio_str]])) {\n",
    "    nombres_tablas <- names(defunciones[[anio_str]])\n",
    "    tabla_defun <- nombres_tablas[str_detect(nombres_tablas, regex('defun', ignore_case = TRUE))][1]\n",
    "    \n",
    "    if (is.na(tabla_defun)) {\n",
    "      message(paste('No se encontró tabla de defunciones para el año', a))\n",
    "      next\n",
    "    }\n",
    "    \n",
    "    df_defun <- defunciones[[anio_str]][[tabla_defun]] %>% as_tibble()\n",
    "    \n",
    "    var_entidad <- if (\"ent_resid\" %in% names(df_defun)) {\n",
    "      \"ent_resid\"\n",
    "    } else if (\"entidad_residencia\" %in% names(df_defun)) {\n",
    "      \"entidad_residencia\"\n",
    "    } else {\n",
    "      stop(paste(\"No se encontró variable de entidad para el año\", a))\n",
    "    }\n",
    "    \n",
    "    defunciones_anio <- df_defun %>%\n",
    "      filter(.data[[var_entidad]] == '09', lista_mex %in% enfer_cora) %>%\n",
    "      summarise(defunciones = n()) %>%\n",
    "      pull(defunciones)\n",
    "    \n",
    "    # Población del año correspondiente\n",
    "    if (a == 2020) {\n",
    "      poblacion_anio <- censo_df %>%\n",
    "        filter(ent == 9) %>%\n",
    "        summarise(poblacion = sum(fac)) %>%  # Aquí usa el nombre real de tu factor de expansión\n",
    "        pull(poblacion)\n",
    "    } else {\n",
    "      poblacion_anio <- conapo_df %>%\n",
    "        filter(entidad == \"Ciudad de México\", ano == a, edad == 0) %>%  # edad 0 es el total consolidado\n",
    "        summarise(poblacion = sum(poblacion)) %>%  # suma hombres y mujeres\n",
    "        pull(poblacion)\n",
    "    }\n",
    "    \n",
    "    tasa <- (defunciones_anio / poblacion_anio) * 100000\n",
    "    \n",
    "    defun_cora <- defun_cora %>%\n",
    "      add_row(anio = a, defunciones = defunciones_anio, poblacion = poblacion_anio, tasa = tasa)\n",
    "    \n",
    "  } else {\n",
    "    message(paste('Datos incompletos para el año', a))\n",
    "  }\n",
    "}\n"
   ]
  }
 ],
 "metadata": {
  "kernelspec": {
   "display_name": "R",
   "language": "R",
   "name": "ir"
  },
  "language_info": {
   "codemirror_mode": "r",
   "file_extension": ".r",
   "mimetype": "text/x-r-source",
   "name": "R",
   "pygments_lexer": "r",
   "version": "4.4.2"
  }
 },
 "nbformat": 4,
 "nbformat_minor": 5
}
